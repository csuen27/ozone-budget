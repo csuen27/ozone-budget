{
 "cells": [
  {
   "cell_type": "code",
   "execution_count": 1,
   "metadata": {},
   "outputs": [],
   "source": [
    "import warnings\n",
    "warnings.filterwarnings(\"ignore\")\n",
    "\n",
    "import pandas as pd\n",
    "import numpy as np\n",
    "import matplotlib as mpl\n",
    "import matplotlib.pyplot as plt\n",
    "\n",
    "from sklearn.metrics import r2_score as R2\n",
    "from sklearn.metrics import mean_squared_error as MSE"
   ]
  },
  {
   "cell_type": "code",
   "execution_count": 131,
   "metadata": {},
   "outputs": [],
   "source": [
    "rest = pd.read_csv('/Volumes/Database/Research/ozone-budget/result_df_UKESM1_3_0_NN_width_64_dropout_0.1_61.csv')\n",
    "data = pd.read_csv('/Volumes/Database/Research/C7 Multivariate analysis/UKESM1-0-LL_diag_2014(1217).csv')"
   ]
  },
  {
   "cell_type": "code",
   "execution_count": 132,
   "metadata": {},
   "outputs": [],
   "source": [
    "rest['tas'] = data['tas']\n",
    "rest['pan'] = data['pan']\n",
    "rest['photo1d'] = data['photo1d']\n",
    "\n",
    "rest['o3_mole'] = rest['o3']*1.01325*10**5/rest['tas']*7.243*10**7*(10**9)\n",
    "rest['no_mole'] = rest['no']*1.01325*10**5/rest['tas']*7.243*10**7*(10**9)\n",
    "rest['no2_mole'] = rest['no2']*1.01325*10**5/rest['tas']*7.243*10**7*(10**9)\n",
    "rest['oh_mole'] = rest['oh']*1.01325*10**5/rest['tas']*7.243*10**7*(10**9)\n",
    "rest['h2o_mole'] = rest['h2o']*1.01325*10**5/rest['tas']*7.243*10**7*(10**9)\n",
    "rest['hno3_mole'] = rest['hno3']*1.01325*10**5/rest['tas']*7.243*10**7*(10**9)\n",
    "rest['pan_mole'] = rest['pan']*1.01325*10**5/rest['tas']*7.243*10**7*(10**9)\n",
    "\n",
    "rest['ho2_mole'] = rest['HO₂']*1.01325*10**5/rest['tas']*7.243*10**7*(10**9)\n",
    "rest['ch3o2_mole'] = rest['CH₃O₂']*1.01325*10**5/rest['tas']*7.243*10**7*(10**9)\n",
    "rest['o1d_mole'] = rest['O¹D']*1.01325*10**5/rest['tas']*7.243*10**7*(10**9)\n",
    "\n",
    "rest['k_ho2_ho2'] = 2.2*10**(-13)*np.exp(600/rest['tas'])\n",
    "rest['k_oh_no2'] = 6.5*10**(-11)\n",
    "rest['k_no_ho2'] = data['k_no_ho2']\n",
    "rest['k_no_ch3o2'] = data['k_no_ch3o2']\n",
    "rest['k_o1d_h2o'] = data['k_o1d_h2o']\n",
    "rest['k_o3_ho2'] = data['k_o3_ho2']\n",
    "rest['k_o3_oh'] = data['k_o3_oh']"
   ]
  },
  {
   "cell_type": "code",
   "execution_count": 133,
   "metadata": {},
   "outputs": [],
   "source": [
    "rest['Pt_HO2_NO'] = rest['k_no_ho2']*rest['no_mole']*rest['ho2_mole']\n",
    "rest['Pt_CH3O2_NO'] = rest['k_no_ch3o2']*rest['no_mole']*rest['ch3o2_mole']\n",
    "rest['Pt_RO2_NO'] = rest['PO₃̂']-rest['Pt_HO2_NO']-rest['Pt_CH3O2_NO']\n",
    "\n",
    "rest['Pt_O1D_H2O'] = rest['o1d_mole']*rest['h2o_mole']*rest['k_o1d_h2o']\n",
    "rest['Pt_HO2_O3'] = rest['k_o3_ho2']*rest['ho2_mole']*rest['o3_mole']\n",
    "rest['Pt_OH_O3'] = rest['k_o3_oh']*rest['oh_mole']*rest['o3_mole']\n",
    "rest['Pt_VOCs_O3'] = rest['LO₃̂']-rest['Pt_O1D_H2O']-rest['Pt_HO2_O3']-rest['Pt_OH_O3']"
   ]
  },
  {
   "cell_type": "code",
   "execution_count": 134,
   "metadata": {},
   "outputs": [],
   "source": [
    "country = pd.read_csv('/Users/csuen/Desktop/PhD/Maps/country_province_state_2*2.csv')\n",
    "rest = rest.merge(country, how = 'left', left_on = ['longitude','latitude'], right_on = ['longitude','latitude'])\n",
    "rest = rest.drop(['province','state'], axis=1)\n",
    "rest_land = rest.dropna()"
   ]
  },
  {
   "cell_type": "code",
   "execution_count": 135,
   "metadata": {},
   "outputs": [
    {
     "data": {
      "text/plain": [
       "(2798949.9127303516, 1022508.2051784359, 1736834.465719418, 39607.24183251247)"
      ]
     },
     "execution_count": 135,
     "metadata": {},
     "output_type": "execute_result"
    }
   ],
   "source": [
    "rest_land['PO₃̂'].mean(), rest_land['Pt_HO2_NO'].mean(), rest_land['Pt_CH3O2_NO'].mean(), rest_land['Pt_RO2_NO'].mean()"
   ]
  },
  {
   "cell_type": "code",
   "execution_count": 136,
   "metadata": {},
   "outputs": [
    {
     "data": {
      "text/plain": [
       "(585368.0973117758,\n",
       " 350394.80145394354,\n",
       " 2029.1719433179328,\n",
       " 67343.61033307547,\n",
       " 150031.92553927866)"
      ]
     },
     "execution_count": 136,
     "metadata": {},
     "output_type": "execute_result"
    }
   ],
   "source": [
    "rest_land['LO₃̂'].mean(), rest_land['Pt_O1D_H2O'].mean(), rest_land['Pt_HO2_O3'].mean(), rest_land['Pt_OH_O3'].mean(), rest['Pt_VOCs_O3'].mean()"
   ]
  },
  {
   "cell_type": "code",
   "execution_count": 137,
   "metadata": {},
   "outputs": [
    {
     "data": {
      "text/plain": [
       "count    3.221400e+05\n",
       "mean     1.656005e+05\n",
       "std      2.841883e+05\n",
       "min     -8.787243e+04\n",
       "25%     -2.780083e+00\n",
       "50%      1.372834e+04\n",
       "75%      2.273214e+05\n",
       "max      5.059831e+06\n",
       "Name: Pt_VOCs_O3, dtype: float64"
      ]
     },
     "execution_count": 137,
     "metadata": {},
     "output_type": "execute_result"
    }
   ],
   "source": [
    "rest_land['Pt_VOCs_O3'].describe()"
   ]
  },
  {
   "cell_type": "code",
   "execution_count": null,
   "metadata": {},
   "outputs": [],
   "source": []
  },
  {
   "cell_type": "code",
   "execution_count": null,
   "metadata": {},
   "outputs": [],
   "source": []
  }
 ],
 "metadata": {
  "kernelspec": {
   "display_name": "Python 3",
   "language": "python",
   "name": "python3"
  },
  "language_info": {
   "codemirror_mode": {
    "name": "ipython",
    "version": 3
   },
   "file_extension": ".py",
   "mimetype": "text/x-python",
   "name": "python",
   "nbconvert_exporter": "python",
   "pygments_lexer": "ipython3",
   "version": "3.8.5"
  }
 },
 "nbformat": 4,
 "nbformat_minor": 4
}
