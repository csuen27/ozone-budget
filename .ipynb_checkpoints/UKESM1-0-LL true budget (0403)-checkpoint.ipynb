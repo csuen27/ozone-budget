{
 "cells": [
  {
   "cell_type": "code",
   "execution_count": 8,
   "metadata": {},
   "outputs": [],
   "source": [
    "import warnings\n",
    "warnings.filterwarnings(\"ignore\")\n",
    "\n",
    "import pandas as pd\n",
    "import numpy as np\n",
    "import matplotlib as mpl\n",
    "import matplotlib.pyplot as plt\n",
    "\n",
    "from sklearn.metrics import r2_score as R2\n",
    "from sklearn.metrics import mean_squared_error as MSE\n",
    "\n",
    "import iris\n",
    "from eofs.iris import Eof"
   ]
  },
  {
   "cell_type": "code",
   "execution_count": 2,
   "metadata": {},
   "outputs": [],
   "source": [
    "data = pd.read_csv('/Volumes/Database/Research/C7 Multivariate analysis/UKESM1-0-LL_diag_2014(0403).csv')"
   ]
  },
  {
   "cell_type": "code",
   "execution_count": 3,
   "metadata": {},
   "outputs": [],
   "source": [
    "country = pd.read_csv('/Users/csuen/Desktop/PhD/Maps/country_province_state_2*2.csv')\n",
    "data = data.merge(country, how = 'left', left_on = ['longitude','latitude'], right_on = ['longitude','latitude'])\n",
    "data = data.drop(['province','state'], axis=1)"
   ]
  },
  {
   "cell_type": "markdown",
   "metadata": {},
   "source": [
    "### First, converse the concentrations to molecules cm${^{-3}}$"
   ]
  },
  {
   "cell_type": "code",
   "execution_count": 7,
   "metadata": {},
   "outputs": [
    {
     "ename": "KeyError",
     "evalue": "'ch3o2'",
     "output_type": "error",
     "traceback": [
      "\u001b[0;31m---------------------------------------------------------------------------\u001b[0m",
      "\u001b[0;31mKeyError\u001b[0m                                  Traceback (most recent call last)",
      "\u001b[0;32m~/opt/anaconda3/lib/python3.8/site-packages/pandas/core/indexes/base.py\u001b[0m in \u001b[0;36mget_loc\u001b[0;34m(self, key, method, tolerance)\u001b[0m\n\u001b[1;32m   2894\u001b[0m             \u001b[0;32mtry\u001b[0m\u001b[0;34m:\u001b[0m\u001b[0;34m\u001b[0m\u001b[0;34m\u001b[0m\u001b[0m\n\u001b[0;32m-> 2895\u001b[0;31m                 \u001b[0;32mreturn\u001b[0m \u001b[0mself\u001b[0m\u001b[0;34m.\u001b[0m\u001b[0m_engine\u001b[0m\u001b[0;34m.\u001b[0m\u001b[0mget_loc\u001b[0m\u001b[0;34m(\u001b[0m\u001b[0mcasted_key\u001b[0m\u001b[0;34m)\u001b[0m\u001b[0;34m\u001b[0m\u001b[0;34m\u001b[0m\u001b[0m\n\u001b[0m\u001b[1;32m   2896\u001b[0m             \u001b[0;32mexcept\u001b[0m \u001b[0mKeyError\u001b[0m \u001b[0;32mas\u001b[0m \u001b[0merr\u001b[0m\u001b[0;34m:\u001b[0m\u001b[0;34m\u001b[0m\u001b[0;34m\u001b[0m\u001b[0m\n",
      "\u001b[0;32mpandas/_libs/index.pyx\u001b[0m in \u001b[0;36mpandas._libs.index.IndexEngine.get_loc\u001b[0;34m()\u001b[0m\n",
      "\u001b[0;32mpandas/_libs/index.pyx\u001b[0m in \u001b[0;36mpandas._libs.index.IndexEngine.get_loc\u001b[0;34m()\u001b[0m\n",
      "\u001b[0;32mpandas/_libs/index.pyx\u001b[0m in \u001b[0;36mpandas._libs.index.IndexEngine._get_loc_duplicates\u001b[0;34m()\u001b[0m\n",
      "\u001b[0;32mpandas/_libs/index.pyx\u001b[0m in \u001b[0;36mpandas._libs.index.IndexEngine._maybe_get_bool_indexer\u001b[0;34m()\u001b[0m\n",
      "\u001b[0;32mpandas/_libs/index.pyx\u001b[0m in \u001b[0;36mpandas._libs.index.IndexEngine._unpack_bool_indexer\u001b[0;34m()\u001b[0m\n",
      "\u001b[0;31mKeyError\u001b[0m: 'ch3o2'",
      "\nThe above exception was the direct cause of the following exception:\n",
      "\u001b[0;31mKeyError\u001b[0m                                  Traceback (most recent call last)",
      "\u001b[0;32m<ipython-input-7-91b5f46ad88c>\u001b[0m in \u001b[0;36m<module>\u001b[0;34m\u001b[0m\n\u001b[1;32m      6\u001b[0m \u001b[0mdata\u001b[0m\u001b[0;34m[\u001b[0m\u001b[0;34m'hno3_mole'\u001b[0m\u001b[0;34m]\u001b[0m \u001b[0;34m=\u001b[0m \u001b[0mdata\u001b[0m\u001b[0;34m[\u001b[0m\u001b[0;34m'hno3'\u001b[0m\u001b[0;34m]\u001b[0m\u001b[0;34m*\u001b[0m\u001b[0;36m1.01325\u001b[0m\u001b[0;34m*\u001b[0m\u001b[0;36m10\u001b[0m\u001b[0;34m**\u001b[0m\u001b[0;36m5\u001b[0m\u001b[0;34m/\u001b[0m\u001b[0mdata\u001b[0m\u001b[0;34m[\u001b[0m\u001b[0;34m'tas'\u001b[0m\u001b[0;34m]\u001b[0m\u001b[0;34m*\u001b[0m\u001b[0;36m7.243\u001b[0m\u001b[0;34m*\u001b[0m\u001b[0;36m10\u001b[0m\u001b[0;34m**\u001b[0m\u001b[0;36m7\u001b[0m\u001b[0;34m*\u001b[0m\u001b[0;34m(\u001b[0m\u001b[0;36m10\u001b[0m\u001b[0;34m**\u001b[0m\u001b[0;36m9\u001b[0m\u001b[0;34m)\u001b[0m\u001b[0;34m\u001b[0m\u001b[0;34m\u001b[0m\u001b[0m\n\u001b[1;32m      7\u001b[0m \u001b[0mdata\u001b[0m\u001b[0;34m[\u001b[0m\u001b[0;34m'pan_mole'\u001b[0m\u001b[0;34m]\u001b[0m \u001b[0;34m=\u001b[0m \u001b[0mdata\u001b[0m\u001b[0;34m[\u001b[0m\u001b[0;34m'pan'\u001b[0m\u001b[0;34m]\u001b[0m\u001b[0;34m*\u001b[0m\u001b[0;36m1.01325\u001b[0m\u001b[0;34m*\u001b[0m\u001b[0;36m10\u001b[0m\u001b[0;34m**\u001b[0m\u001b[0;36m5\u001b[0m\u001b[0;34m/\u001b[0m\u001b[0mdata\u001b[0m\u001b[0;34m[\u001b[0m\u001b[0;34m'tas'\u001b[0m\u001b[0;34m]\u001b[0m\u001b[0;34m*\u001b[0m\u001b[0;36m7.243\u001b[0m\u001b[0;34m*\u001b[0m\u001b[0;36m10\u001b[0m\u001b[0;34m**\u001b[0m\u001b[0;36m7\u001b[0m\u001b[0;34m*\u001b[0m\u001b[0;34m(\u001b[0m\u001b[0;36m10\u001b[0m\u001b[0;34m**\u001b[0m\u001b[0;36m9\u001b[0m\u001b[0;34m)\u001b[0m\u001b[0;34m\u001b[0m\u001b[0;34m\u001b[0m\u001b[0m\n\u001b[0;32m----> 8\u001b[0;31m \u001b[0mdata\u001b[0m\u001b[0;34m[\u001b[0m\u001b[0;34m'ch3o2_mole'\u001b[0m\u001b[0;34m]\u001b[0m \u001b[0;34m=\u001b[0m \u001b[0mdata\u001b[0m\u001b[0;34m[\u001b[0m\u001b[0;34m'ch3o2'\u001b[0m\u001b[0;34m]\u001b[0m\u001b[0;34m*\u001b[0m\u001b[0;36m1.01325\u001b[0m\u001b[0;34m*\u001b[0m\u001b[0;36m10\u001b[0m\u001b[0;34m**\u001b[0m\u001b[0;36m5\u001b[0m\u001b[0;34m/\u001b[0m\u001b[0mdata\u001b[0m\u001b[0;34m[\u001b[0m\u001b[0;34m'tas'\u001b[0m\u001b[0;34m]\u001b[0m\u001b[0;34m*\u001b[0m\u001b[0;36m7.243\u001b[0m\u001b[0;34m*\u001b[0m\u001b[0;36m10\u001b[0m\u001b[0;34m**\u001b[0m\u001b[0;36m7\u001b[0m\u001b[0;34m*\u001b[0m\u001b[0;34m(\u001b[0m\u001b[0;36m10\u001b[0m\u001b[0;34m**\u001b[0m\u001b[0;36m9\u001b[0m\u001b[0;34m)\u001b[0m\u001b[0;34m\u001b[0m\u001b[0;34m\u001b[0m\u001b[0m\n\u001b[0m\u001b[1;32m      9\u001b[0m \u001b[0mdata\u001b[0m\u001b[0;34m[\u001b[0m\u001b[0;34m'ho2_mole'\u001b[0m\u001b[0;34m]\u001b[0m \u001b[0;34m=\u001b[0m \u001b[0mdata\u001b[0m\u001b[0;34m[\u001b[0m\u001b[0;34m'ho2'\u001b[0m\u001b[0;34m]\u001b[0m\u001b[0;34m*\u001b[0m\u001b[0;36m1.01325\u001b[0m\u001b[0;34m*\u001b[0m\u001b[0;36m10\u001b[0m\u001b[0;34m**\u001b[0m\u001b[0;36m5\u001b[0m\u001b[0;34m/\u001b[0m\u001b[0mdata\u001b[0m\u001b[0;34m[\u001b[0m\u001b[0;34m'tas'\u001b[0m\u001b[0;34m]\u001b[0m\u001b[0;34m*\u001b[0m\u001b[0;36m7.243\u001b[0m\u001b[0;34m*\u001b[0m\u001b[0;36m10\u001b[0m\u001b[0;34m**\u001b[0m\u001b[0;36m7\u001b[0m\u001b[0;34m*\u001b[0m\u001b[0;34m(\u001b[0m\u001b[0;36m10\u001b[0m\u001b[0;34m**\u001b[0m\u001b[0;36m9\u001b[0m\u001b[0;34m)\u001b[0m\u001b[0;34m\u001b[0m\u001b[0;34m\u001b[0m\u001b[0m\n\u001b[1;32m     10\u001b[0m \u001b[0mdata\u001b[0m\u001b[0;34m[\u001b[0m\u001b[0;34m'o1d_mole'\u001b[0m\u001b[0;34m]\u001b[0m \u001b[0;34m=\u001b[0m \u001b[0mdata\u001b[0m\u001b[0;34m[\u001b[0m\u001b[0;34m'o1d'\u001b[0m\u001b[0;34m]\u001b[0m\u001b[0;34m*\u001b[0m\u001b[0;36m1.01325\u001b[0m\u001b[0;34m*\u001b[0m\u001b[0;36m10\u001b[0m\u001b[0;34m**\u001b[0m\u001b[0;36m5\u001b[0m\u001b[0;34m/\u001b[0m\u001b[0mdata\u001b[0m\u001b[0;34m[\u001b[0m\u001b[0;34m'tas'\u001b[0m\u001b[0;34m]\u001b[0m\u001b[0;34m*\u001b[0m\u001b[0;36m7.243\u001b[0m\u001b[0;34m*\u001b[0m\u001b[0;36m10\u001b[0m\u001b[0;34m**\u001b[0m\u001b[0;36m7\u001b[0m\u001b[0;34m*\u001b[0m\u001b[0;34m(\u001b[0m\u001b[0;36m10\u001b[0m\u001b[0;34m**\u001b[0m\u001b[0;36m9\u001b[0m\u001b[0;34m)\u001b[0m\u001b[0;34m\u001b[0m\u001b[0;34m\u001b[0m\u001b[0m\n",
      "\u001b[0;32m~/opt/anaconda3/lib/python3.8/site-packages/pandas/core/frame.py\u001b[0m in \u001b[0;36m__getitem__\u001b[0;34m(self, key)\u001b[0m\n\u001b[1;32m   2900\u001b[0m             \u001b[0;32mif\u001b[0m \u001b[0mself\u001b[0m\u001b[0;34m.\u001b[0m\u001b[0mcolumns\u001b[0m\u001b[0;34m.\u001b[0m\u001b[0mnlevels\u001b[0m \u001b[0;34m>\u001b[0m \u001b[0;36m1\u001b[0m\u001b[0;34m:\u001b[0m\u001b[0;34m\u001b[0m\u001b[0;34m\u001b[0m\u001b[0m\n\u001b[1;32m   2901\u001b[0m                 \u001b[0;32mreturn\u001b[0m \u001b[0mself\u001b[0m\u001b[0;34m.\u001b[0m\u001b[0m_getitem_multilevel\u001b[0m\u001b[0;34m(\u001b[0m\u001b[0mkey\u001b[0m\u001b[0;34m)\u001b[0m\u001b[0;34m\u001b[0m\u001b[0;34m\u001b[0m\u001b[0m\n\u001b[0;32m-> 2902\u001b[0;31m             \u001b[0mindexer\u001b[0m \u001b[0;34m=\u001b[0m \u001b[0mself\u001b[0m\u001b[0;34m.\u001b[0m\u001b[0mcolumns\u001b[0m\u001b[0;34m.\u001b[0m\u001b[0mget_loc\u001b[0m\u001b[0;34m(\u001b[0m\u001b[0mkey\u001b[0m\u001b[0;34m)\u001b[0m\u001b[0;34m\u001b[0m\u001b[0;34m\u001b[0m\u001b[0m\n\u001b[0m\u001b[1;32m   2903\u001b[0m             \u001b[0;32mif\u001b[0m \u001b[0mis_integer\u001b[0m\u001b[0;34m(\u001b[0m\u001b[0mindexer\u001b[0m\u001b[0;34m)\u001b[0m\u001b[0;34m:\u001b[0m\u001b[0;34m\u001b[0m\u001b[0;34m\u001b[0m\u001b[0m\n\u001b[1;32m   2904\u001b[0m                 \u001b[0mindexer\u001b[0m \u001b[0;34m=\u001b[0m \u001b[0;34m[\u001b[0m\u001b[0mindexer\u001b[0m\u001b[0;34m]\u001b[0m\u001b[0;34m\u001b[0m\u001b[0;34m\u001b[0m\u001b[0m\n",
      "\u001b[0;32m~/opt/anaconda3/lib/python3.8/site-packages/pandas/core/indexes/base.py\u001b[0m in \u001b[0;36mget_loc\u001b[0;34m(self, key, method, tolerance)\u001b[0m\n\u001b[1;32m   2895\u001b[0m                 \u001b[0;32mreturn\u001b[0m \u001b[0mself\u001b[0m\u001b[0;34m.\u001b[0m\u001b[0m_engine\u001b[0m\u001b[0;34m.\u001b[0m\u001b[0mget_loc\u001b[0m\u001b[0;34m(\u001b[0m\u001b[0mcasted_key\u001b[0m\u001b[0;34m)\u001b[0m\u001b[0;34m\u001b[0m\u001b[0;34m\u001b[0m\u001b[0m\n\u001b[1;32m   2896\u001b[0m             \u001b[0;32mexcept\u001b[0m \u001b[0mKeyError\u001b[0m \u001b[0;32mas\u001b[0m \u001b[0merr\u001b[0m\u001b[0;34m:\u001b[0m\u001b[0;34m\u001b[0m\u001b[0;34m\u001b[0m\u001b[0m\n\u001b[0;32m-> 2897\u001b[0;31m                 \u001b[0;32mraise\u001b[0m \u001b[0mKeyError\u001b[0m\u001b[0;34m(\u001b[0m\u001b[0mkey\u001b[0m\u001b[0;34m)\u001b[0m \u001b[0;32mfrom\u001b[0m \u001b[0merr\u001b[0m\u001b[0;34m\u001b[0m\u001b[0;34m\u001b[0m\u001b[0m\n\u001b[0m\u001b[1;32m   2898\u001b[0m \u001b[0;34m\u001b[0m\u001b[0m\n\u001b[1;32m   2899\u001b[0m         \u001b[0;32mif\u001b[0m \u001b[0mtolerance\u001b[0m \u001b[0;32mis\u001b[0m \u001b[0;32mnot\u001b[0m \u001b[0;32mNone\u001b[0m\u001b[0;34m:\u001b[0m\u001b[0;34m\u001b[0m\u001b[0;34m\u001b[0m\u001b[0m\n",
      "\u001b[0;31mKeyError\u001b[0m: 'ch3o2'"
     ]
    }
   ],
   "source": [
    "data['o3_mole'] = data['o3']*1.01325*10**5/data['tas']*7.243*10**7*(10**9)\n",
    "data['no_mole'] = data['no']*1.01325*10**5/data['tas']*7.243*10**7*(10**9)\n",
    "data['no2_mole'] = data['no2']*1.01325*10**5/data['tas']*7.243*10**7*(10**9)\n",
    "data['oh_mole'] = data['oh']*1.01325*10**5/data['tas']*7.243*10**7*(10**9)\n",
    "data['h2o_mole'] = data['h2o']*1.01325*10**5/data['tas']*7.243*10**7*(10**9)\n",
    "data['hno3_mole'] = data['hno3']*1.01325*10**5/data['tas']*7.243*10**7*(10**9)\n",
    "data['pan_mole'] = data['pan']*1.01325*10**5/data['tas']*7.243*10**7*(10**9)\n",
    "data['ch3o2_mole'] = data['ch3o2']*1.01325*10**5/data['tas']*7.243*10**7*(10**9)\n",
    "data['ho2_mole'] = data['ho2']*1.01325*10**5/data['tas']*7.243*10**7*(10**9)\n",
    "data['o1d_mole'] = data['o1d']*1.01325*10**5/data['tas']*7.243*10**7*(10**9)\n",
    "\n",
    "data['k_ho2_ho2'] = 3.5*10**(-13)*np.exp(430/data['tas'])\n",
    "data['k_oh_no2'] = 6.5*10**(-11)\n",
    "data['k_o1d_h2o'] = 1.63*10**(-10)*np.exp(60/data['tas'])\n",
    "\n",
    "data['o3prod_mole'] = data['o3prod']*6.022*10**17\n",
    "data['o3loss_mole'] = data['o3loss']*6.022*10**17\n",
    "\n",
    "data['lossch4_mole'] = data['lossch4']*6.022*10**17\n",
    "data['lossco_mole'] = data['lossco']*6.022*10**17\n",
    "data['k_ch3o2_ch3o2'] = 9.5*10**(-14)*np.exp(390/data['tas'])"
   ]
  },
  {
   "cell_type": "code",
   "execution_count": 22,
   "metadata": {},
   "outputs": [
    {
     "data": {
      "text/plain": [
       "694497203493.2275"
      ]
     },
     "execution_count": 22,
     "metadata": {},
     "output_type": "execute_result"
    }
   ],
   "source": [
    "data['o3_mole'].mean()"
   ]
  },
  {
   "cell_type": "code",
   "execution_count": 5,
   "metadata": {},
   "outputs": [
    {
     "data": {
      "text/plain": [
       "1449961.0917056864"
      ]
     },
     "execution_count": 5,
     "metadata": {},
     "output_type": "execute_result"
    }
   ],
   "source": [
    "data['o3prod_mole'].mean()"
   ]
  },
  {
   "cell_type": "code",
   "execution_count": 10,
   "metadata": {},
   "outputs": [
    {
     "data": {
      "text/plain": [
       "267172.3900935375"
      ]
     },
     "execution_count": 10,
     "metadata": {},
     "output_type": "execute_result"
    }
   ],
   "source": [
    "data['lossch4_mole'].mean()"
   ]
  },
  {
   "cell_type": "code",
   "execution_count": 20,
   "metadata": {},
   "outputs": [
    {
     "data": {
      "text/plain": [
       "494908.0823703807"
      ]
     },
     "execution_count": 20,
     "metadata": {},
     "output_type": "execute_result"
    }
   ],
   "source": [
    "data['lossco_mole'].mean()"
   ]
  },
  {
   "cell_type": "code",
   "execution_count": 11,
   "metadata": {},
   "outputs": [
    {
     "data": {
      "text/plain": [
       "7917204698.855514"
      ]
     },
     "execution_count": 11,
     "metadata": {},
     "output_type": "execute_result"
    }
   ],
   "source": [
    "data['no_mole'].mean()"
   ]
  },
  {
   "cell_type": "code",
   "execution_count": 21,
   "metadata": {},
   "outputs": [
    {
     "data": {
      "text/plain": [
       "1088913.981137003"
      ]
     },
     "execution_count": 21,
     "metadata": {},
     "output_type": "execute_result"
    }
   ],
   "source": [
    "data['oh_mole'].mean()"
   ]
  },
  {
   "cell_type": "code",
   "execution_count": null,
   "metadata": {},
   "outputs": [],
   "source": [
    "data['ch3o2_mole'].mean()"
   ]
  },
  {
   "cell_type": "code",
   "execution_count": null,
   "metadata": {},
   "outputs": [],
   "source": [
    "data['ho2_mole'].mean()"
   ]
  },
  {
   "cell_type": "code",
   "execution_count": null,
   "metadata": {},
   "outputs": [],
   "source": [
    "data['o1d_mole'].mean()"
   ]
  },
  {
   "cell_type": "code",
   "execution_count": 8,
   "metadata": {},
   "outputs": [
    {
     "data": {
      "text/plain": [
       "8.53165841139419e-12"
      ]
     },
     "execution_count": 8,
     "metadata": {},
     "output_type": "execute_result"
    }
   ],
   "source": [
    "data['k_no_ch3o2'].mean()"
   ]
  },
  {
   "cell_type": "code",
   "execution_count": 7,
   "metadata": {},
   "outputs": [
    {
     "data": {
      "text/plain": [
       "count    972000.000000\n",
       "mean       1687.628606\n",
       "std        7027.443918\n",
       "min           0.002401\n",
       "25%          25.892841\n",
       "50%         124.718817\n",
       "75%         350.041226\n",
       "max      192483.887553\n",
       "Name: ratio_ch3o2_oh, dtype: float64"
      ]
     },
     "execution_count": 7,
     "metadata": {},
     "output_type": "execute_result"
    }
   ],
   "source": [
    "data['ratio_ch3o2_oh'] = data['ch3o2_mole']/data['oh_mole']\n",
    "data['ratio_ch3o2_oh'].describe()"
   ]
  },
  {
   "cell_type": "code",
   "execution_count": 15,
   "metadata": {},
   "outputs": [
    {
     "data": {
      "text/plain": [
       "count    972000.000000\n",
       "mean          0.474914\n",
       "std           0.475960\n",
       "min           0.002488\n",
       "25%           0.179191\n",
       "50%           0.417904\n",
       "75%           0.692643\n",
       "max          62.306313\n",
       "Name: P2_frac, dtype: float64"
      ]
     },
     "execution_count": 15,
     "metadata": {},
     "output_type": "execute_result"
    }
   ],
   "source": [
    "data['P2'] = data['k_no_ch3o2']*data['no_mole']*data['ch3o2_mole']\n",
    "data['P2_frac'] = data['P2']/data['o3prod_mole']\n",
    "data['P2_frac'].describe()"
   ]
  },
  {
   "cell_type": "code",
   "execution_count": 16,
   "metadata": {},
   "outputs": [
    {
     "data": {
      "text/plain": [
       "230933.79486458184"
      ]
     },
     "execution_count": 16,
     "metadata": {},
     "output_type": "execute_result"
    }
   ],
   "source": [
    "data['P2'].mean()"
   ]
  },
  {
   "cell_type": "code",
   "execution_count": null,
   "metadata": {},
   "outputs": [],
   "source": [
    "data['P1'] = data['k_no_ho2']*data['no_mole']*data['ho2_mole']\n",
    "data['P1_frac'] = data['P1']/data['o3prod_mole']\n",
    "data['P1_frac'].describe()"
   ]
  },
  {
   "cell_type": "code",
   "execution_count": null,
   "metadata": {},
   "outputs": [],
   "source": [
    "data['P1'].mean()"
   ]
  },
  {
   "cell_type": "code",
   "execution_count": 9,
   "metadata": {},
   "outputs": [
    {
     "data": {
      "image/png": "[encoded data removed]",
      "text/plain": [
       "<Figure size 432x288 with 2 Axes>"
      ]
     },
     "metadata": {
      "needs_background": "light"
     },
     "output_type": "display_data"
    }
   ],
   "source": [
    "data['loc'] = data['longitude']*1000 + data['latitude']\n",
    "data_land = data\n",
    "data_mean = data_land.groupby(['loc']).mean()\n",
    "\n",
    "cm = plt.cm.get_cmap('Blues')\n",
    "x = data_mean['longitude']\n",
    "y = data_mean['latitude']\n",
    "z = data_mean['P2_frac']\n",
    "sc = plt.scatter(x, y, c=z, marker=\"s\", vmin=0, vmax=0.5, s=3, cmap=cm)\n",
    "plt.xlim([-180, 180])\n",
    "plt.ylim([-90, 90])\n",
    "plt.colorbar(sc)\n",
    "plt.show()"
   ]
  },
  {
   "cell_type": "code",
   "execution_count": 12,
   "metadata": {},
   "outputs": [
    {
     "data": {
      "text/plain": [
       "count    972000.000000\n",
       "mean          0.137174\n",
       "std           0.523159\n",
       "min         -63.470975\n",
       "25%          -0.107652\n",
       "50%           0.156918\n",
       "75%           0.409877\n",
       "max           0.990821\n",
       "Name: P3_frac, dtype: float64"
      ]
     },
     "execution_count": 12,
     "metadata": {},
     "output_type": "execute_result"
    }
   ],
   "source": [
    "data['P3'] = data['o3prod_mole'] - data['P1'] - data['P2']\n",
    "data['P3_frac'] = data['P3']/data['o3prod_mole']\n",
    "data['P3_frac'].describe()"
   ]
  },
  {
   "cell_type": "code",
   "execution_count": 25,
   "metadata": {},
   "outputs": [
    {
     "data": {
      "text/plain": [
       "count    9.720000e+05\n",
       "mean    -5.288529e+06\n",
       "std      1.035074e+08\n",
       "min     -5.890217e+08\n",
       "25%     -1.469454e+07\n",
       "50%      3.111534e+06\n",
       "75%      2.784910e+07\n",
       "max      1.253907e+09\n",
       "Name: ro2_mole, dtype: float64"
      ]
     },
     "execution_count": 25,
     "metadata": {},
     "output_type": "execute_result"
    }
   ],
   "source": [
    "data['k_no_ro2'] = 2.54*10**(-12)*np.exp(360/data['tas'])\n",
    "data['ro2_mole'] = data['P3']/data['k_no_ro2']/data['no_mole']\n",
    "data['ro2_mole'].describe()"
   ]
  },
  {
   "cell_type": "code",
   "execution_count": 27,
   "metadata": {},
   "outputs": [
    {
     "data": {
      "image/png": "[encoded data removed]",
      "text/plain": [
       "<Figure size 432x288 with 2 Axes>"
      ]
     },
     "metadata": {
      "needs_background": "light"
     },
     "output_type": "display_data"
    }
   ],
   "source": [
    "data['loc'] = data['longitude']*1000 + data['latitude']\n",
    "data_land = data\n",
    "data_mean = data_land.groupby(['loc']).mean()\n",
    "\n",
    "cm = plt.cm.get_cmap('Reds')\n",
    "x = data_mean['longitude']\n",
    "y = data_mean['latitude']\n",
    "z = data_mean['ro2_mole']*10**(-8)\n",
    "sc = plt.scatter(x, y, c=z, marker=\"s\", vmin=0, vmax=2.5, s=3, cmap=cm)\n",
    "plt.xlim([-180, 180])\n",
    "plt.ylim([-90, 90])\n",
    "plt.colorbar(sc)\n",
    "plt.show()"
   ]
  },
  {
   "cell_type": "code",
   "execution_count": 15,
   "metadata": {},
   "outputs": [],
   "source": [
    "data['P5'] = data['k_o3_oh']*data['o3_mole']*data['oh_mole']\n",
    "data['P5_frac'] = data['P5']/data['o3loss_mole']"
   ]
  },
  {
   "cell_type": "code",
   "execution_count": 16,
   "metadata": {},
   "outputs": [],
   "source": [
    "data['P6'] = data['k_o3_ho2']*data['o3_mole']*data['ho2_mole']\n",
    "data['P6_frac'] = data['P6']/data['o3loss_mole']"
   ]
  },
  {
   "cell_type": "code",
   "execution_count": null,
   "metadata": {},
   "outputs": [],
   "source": [
    "data['P4'] = data['k_o1d_h2o']*data['o1d_mole']*data['h2o_mole']\n",
    "data['P4_frac'] = data['P4']/data['o3loss_mole']"
   ]
  },
  {
   "cell_type": "code",
   "execution_count": null,
   "metadata": {},
   "outputs": [],
   "source": [
    "data['P7'] = data['o3loss_mole'] - data['P4'] - data['P5'] - data['P6']\n",
    "data['P7_frac'] = data['P7']/data['o3loss_mole']"
   ]
  },
  {
   "cell_type": "code",
   "execution_count": 17,
   "metadata": {},
   "outputs": [
    {
     "data": {
      "text/plain": [
       "count    972000.000000\n",
       "mean          1.633369\n",
       "std           2.033231\n",
       "min           0.002895\n",
       "25%           0.532406\n",
       "50%           1.069011\n",
       "75%           2.142267\n",
       "max         134.399669\n",
       "Name: ratio_P1_P2, dtype: float64"
      ]
     },
     "execution_count": 17,
     "metadata": {},
     "output_type": "execute_result"
    }
   ],
   "source": [
    "data['ratio_P1_P2'] = data['P1']/data['P2']\n",
    "data['ratio_P1_P2'].describe()"
   ]
  },
  {
   "cell_type": "code",
   "execution_count": 18,
   "metadata": {},
   "outputs": [
    {
     "data": {
      "text/plain": [
       "count    972000.000000\n",
       "mean          2.574864\n",
       "std          15.660226\n",
       "min           0.008336\n",
       "25%           0.158606\n",
       "50%           0.265355\n",
       "75%           0.661963\n",
       "max        1340.643521\n",
       "Name: ratio_P5_P6, dtype: float64"
      ]
     },
     "execution_count": 18,
     "metadata": {},
     "output_type": "execute_result"
    }
   ],
   "source": [
    "data['ratio_P5_P6'] = data['P5']/data['P6']\n",
    "data['ratio_P5_P6'].describe()"
   ]
  },
  {
   "cell_type": "code",
   "execution_count": 19,
   "metadata": {},
   "outputs": [
    {
     "data": {
      "text/html": [
       "<div>\n",
       "<style scoped>\n",
       "    .dataframe tbody tr th:only-of-type {\n",
       "        vertical-align: middle;\n",
       "    }\n",
       "\n",
       "    .dataframe tbody tr th {\n",
       "        vertical-align: top;\n",
       "    }\n",
       "\n",
       "    .dataframe thead th {\n",
       "        text-align: right;\n",
       "    }\n",
       "</style>\n",
       "<table border=\"1\" class=\"dataframe\">\n",
       "  <thead>\n",
       "    <tr style=\"text-align: right;\">\n",
       "      <th></th>\n",
       "      <th>longitude</th>\n",
       "      <th>latitude</th>\n",
       "      <th>t</th>\n",
       "      <th>loc</th>\n",
       "      <th>o3</th>\n",
       "      <th>o3prod</th>\n",
       "      <th>o3loss</th>\n",
       "      <th>eminox</th>\n",
       "      <th>emivoc</th>\n",
       "      <th>tas</th>\n",
       "      <th>...</th>\n",
       "      <th>P3</th>\n",
       "      <th>P3_frac</th>\n",
       "      <th>k_no_ro2</th>\n",
       "      <th>ro2_mole</th>\n",
       "      <th>P5</th>\n",
       "      <th>P5_frac</th>\n",
       "      <th>P6</th>\n",
       "      <th>P6_frac</th>\n",
       "      <th>ratio_P1_P2</th>\n",
       "      <th>ratio_P5_P6</th>\n",
       "    </tr>\n",
       "  </thead>\n",
       "  <tbody>\n",
       "    <tr>\n",
       "      <th>0</th>\n",
       "      <td>1.0</td>\n",
       "      <td>-89.0</td>\n",
       "      <td>1.0</td>\n",
       "      <td>911.0</td>\n",
       "      <td>1.589701e-08</td>\n",
       "      <td>8.802798e-14</td>\n",
       "      <td>9.406584e-14</td>\n",
       "      <td>0.000000e+00</td>\n",
       "      <td>0.000000e+00</td>\n",
       "      <td>249.57623</td>\n",
       "      <td>...</td>\n",
       "      <td>-16509.828473</td>\n",
       "      <td>-0.311445</td>\n",
       "      <td>1.074681e-11</td>\n",
       "      <td>-2.065661e+07</td>\n",
       "      <td>11987.364548</td>\n",
       "      <td>0.211617</td>\n",
       "      <td>35541.184175</td>\n",
       "      <td>0.627421</td>\n",
       "      <td>1.287908</td>\n",
       "      <td>0.337281</td>\n",
       "    </tr>\n",
       "    <tr>\n",
       "      <th>1</th>\n",
       "      <td>3.0</td>\n",
       "      <td>-89.0</td>\n",
       "      <td>1.0</td>\n",
       "      <td>2911.0</td>\n",
       "      <td>1.590375e-08</td>\n",
       "      <td>8.794498e-14</td>\n",
       "      <td>9.389479e-14</td>\n",
       "      <td>0.000000e+00</td>\n",
       "      <td>0.000000e+00</td>\n",
       "      <td>249.54080</td>\n",
       "      <td>...</td>\n",
       "      <td>-16471.822530</td>\n",
       "      <td>-0.311021</td>\n",
       "      <td>1.074901e-11</td>\n",
       "      <td>-2.058355e+07</td>\n",
       "      <td>11984.722511</td>\n",
       "      <td>0.211956</td>\n",
       "      <td>35489.851754</td>\n",
       "      <td>0.627656</td>\n",
       "      <td>1.289965</td>\n",
       "      <td>0.337694</td>\n",
       "    </tr>\n",
       "    <tr>\n",
       "      <th>2</th>\n",
       "      <td>5.0</td>\n",
       "      <td>-89.0</td>\n",
       "      <td>1.0</td>\n",
       "      <td>4911.0</td>\n",
       "      <td>1.591221e-08</td>\n",
       "      <td>8.791484e-14</td>\n",
       "      <td>9.379763e-14</td>\n",
       "      <td>0.000000e+00</td>\n",
       "      <td>0.000000e+00</td>\n",
       "      <td>249.50958</td>\n",
       "      <td>...</td>\n",
       "      <td>-16436.158716</td>\n",
       "      <td>-0.310454</td>\n",
       "      <td>1.075095e-11</td>\n",
       "      <td>-2.051713e+07</td>\n",
       "      <td>11985.175218</td>\n",
       "      <td>0.212184</td>\n",
       "      <td>35461.143407</td>\n",
       "      <td>0.627798</td>\n",
       "      <td>1.291600</td>\n",
       "      <td>0.337981</td>\n",
       "    </tr>\n",
       "    <tr>\n",
       "      <th>3</th>\n",
       "      <td>7.0</td>\n",
       "      <td>-89.0</td>\n",
       "      <td>1.0</td>\n",
       "      <td>6911.0</td>\n",
       "      <td>1.594265e-08</td>\n",
       "      <td>8.803169e-14</td>\n",
       "      <td>9.397011e-14</td>\n",
       "      <td>0.000000e+00</td>\n",
       "      <td>0.000000e+00</td>\n",
       "      <td>249.49193</td>\n",
       "      <td>...</td>\n",
       "      <td>-16479.309553</td>\n",
       "      <td>-0.310856</td>\n",
       "      <td>1.075205e-11</td>\n",
       "      <td>-2.054259e+07</td>\n",
       "      <td>12026.277957</td>\n",
       "      <td>0.212520</td>\n",
       "      <td>35550.656528</td>\n",
       "      <td>0.628228</td>\n",
       "      <td>1.292746</td>\n",
       "      <td>0.338286</td>\n",
       "    </tr>\n",
       "    <tr>\n",
       "      <th>4</th>\n",
       "      <td>9.0</td>\n",
       "      <td>-89.0</td>\n",
       "      <td>1.0</td>\n",
       "      <td>8911.0</td>\n",
       "      <td>1.596177e-08</td>\n",
       "      <td>8.795628e-14</td>\n",
       "      <td>9.384050e-14</td>\n",
       "      <td>0.000000e+00</td>\n",
       "      <td>0.000000e+00</td>\n",
       "      <td>249.46387</td>\n",
       "      <td>...</td>\n",
       "      <td>-16450.644939</td>\n",
       "      <td>-0.310581</td>\n",
       "      <td>1.075380e-11</td>\n",
       "      <td>-2.048288e+07</td>\n",
       "      <td>12037.339682</td>\n",
       "      <td>0.213010</td>\n",
       "      <td>35532.988023</td>\n",
       "      <td>0.628783</td>\n",
       "      <td>1.294496</td>\n",
       "      <td>0.338765</td>\n",
       "    </tr>\n",
       "    <tr>\n",
       "      <th>...</th>\n",
       "      <td>...</td>\n",
       "      <td>...</td>\n",
       "      <td>...</td>\n",
       "      <td>...</td>\n",
       "      <td>...</td>\n",
       "      <td>...</td>\n",
       "      <td>...</td>\n",
       "      <td>...</td>\n",
       "      <td>...</td>\n",
       "      <td>...</td>\n",
       "      <td>...</td>\n",
       "      <td>...</td>\n",
       "      <td>...</td>\n",
       "      <td>...</td>\n",
       "      <td>...</td>\n",
       "      <td>...</td>\n",
       "      <td>...</td>\n",
       "      <td>...</td>\n",
       "      <td>...</td>\n",
       "      <td>...</td>\n",
       "      <td>...</td>\n",
       "    </tr>\n",
       "    <tr>\n",
       "      <th>971995</th>\n",
       "      <td>-9.0</td>\n",
       "      <td>89.0</td>\n",
       "      <td>60.0</td>\n",
       "      <td>-8911.0</td>\n",
       "      <td>1.630996e-08</td>\n",
       "      <td>2.842892e-16</td>\n",
       "      <td>1.809345e-16</td>\n",
       "      <td>3.336417e-13</td>\n",
       "      <td>6.572778e-15</td>\n",
       "      <td>242.57967</td>\n",
       "      <td>...</td>\n",
       "      <td>98.217212</td>\n",
       "      <td>0.573702</td>\n",
       "      <td>1.120335e-11</td>\n",
       "      <td>8.174790e+04</td>\n",
       "      <td>2.256674</td>\n",
       "      <td>0.020711</td>\n",
       "      <td>36.085798</td>\n",
       "      <td>0.331188</td>\n",
       "      <td>4.168988</td>\n",
       "      <td>0.062536</td>\n",
       "    </tr>\n",
       "    <tr>\n",
       "      <th>971996</th>\n",
       "      <td>-7.0</td>\n",
       "      <td>89.0</td>\n",
       "      <td>60.0</td>\n",
       "      <td>-6911.0</td>\n",
       "      <td>1.632853e-08</td>\n",
       "      <td>2.287422e-16</td>\n",
       "      <td>1.680337e-16</td>\n",
       "      <td>1.499039e-13</td>\n",
       "      <td>2.951658e-15</td>\n",
       "      <td>242.59355</td>\n",
       "      <td>...</td>\n",
       "      <td>82.281734</td>\n",
       "      <td>0.597333</td>\n",
       "      <td>1.120240e-11</td>\n",
       "      <td>1.130398e+05</td>\n",
       "      <td>2.246048</td>\n",
       "      <td>0.022196</td>\n",
       "      <td>43.289346</td>\n",
       "      <td>0.427803</td>\n",
       "      <td>3.355159</td>\n",
       "      <td>0.051885</td>\n",
       "    </tr>\n",
       "    <tr>\n",
       "      <th>971997</th>\n",
       "      <td>-5.0</td>\n",
       "      <td>89.0</td>\n",
       "      <td>60.0</td>\n",
       "      <td>-4911.0</td>\n",
       "      <td>1.634956e-08</td>\n",
       "      <td>1.920444e-16</td>\n",
       "      <td>1.595247e-16</td>\n",
       "      <td>1.640803e-14</td>\n",
       "      <td>3.207111e-16</td>\n",
       "      <td>242.60947</td>\n",
       "      <td>...</td>\n",
       "      <td>75.087140</td>\n",
       "      <td>0.649267</td>\n",
       "      <td>1.120131e-11</td>\n",
       "      <td>1.822416e+05</td>\n",
       "      <td>2.228837</td>\n",
       "      <td>0.023201</td>\n",
       "      <td>51.500816</td>\n",
       "      <td>0.536100</td>\n",
       "      <td>2.430410</td>\n",
       "      <td>0.043278</td>\n",
       "    </tr>\n",
       "    <tr>\n",
       "      <th>971998</th>\n",
       "      <td>-3.0</td>\n",
       "      <td>89.0</td>\n",
       "      <td>60.0</td>\n",
       "      <td>-2911.0</td>\n",
       "      <td>1.636259e-08</td>\n",
       "      <td>2.303925e-16</td>\n",
       "      <td>1.698968e-16</td>\n",
       "      <td>3.794615e-14</td>\n",
       "      <td>7.451860e-16</td>\n",
       "      <td>242.61600</td>\n",
       "      <td>...</td>\n",
       "      <td>86.820913</td>\n",
       "      <td>0.625771</td>\n",
       "      <td>1.120086e-11</td>\n",
       "      <td>1.470090e+05</td>\n",
       "      <td>2.315283</td>\n",
       "      <td>0.022630</td>\n",
       "      <td>48.783566</td>\n",
       "      <td>0.476812</td>\n",
       "      <td>3.014331</td>\n",
       "      <td>0.047460</td>\n",
       "    </tr>\n",
       "    <tr>\n",
       "      <th>971999</th>\n",
       "      <td>-1.0</td>\n",
       "      <td>89.0</td>\n",
       "      <td>60.0</td>\n",
       "      <td>-911.0</td>\n",
       "      <td>1.638008e-08</td>\n",
       "      <td>3.034051e-16</td>\n",
       "      <td>1.917071e-16</td>\n",
       "      <td>2.266782e-13</td>\n",
       "      <td>4.464733e-15</td>\n",
       "      <td>242.62566</td>\n",
       "      <td>...</td>\n",
       "      <td>105.579380</td>\n",
       "      <td>0.577851</td>\n",
       "      <td>1.120020e-11</td>\n",
       "      <td>9.140011e+04</td>\n",
       "      <td>2.404540</td>\n",
       "      <td>0.020828</td>\n",
       "      <td>39.746725</td>\n",
       "      <td>0.344288</td>\n",
       "      <td>4.118898</td>\n",
       "      <td>0.060497</td>\n",
       "    </tr>\n",
       "  </tbody>\n",
       "</table>\n",
       "<p>972000 rows × 73 columns</p>\n",
       "</div>"
      ],
      "text/plain": [
       "        longitude  latitude     t     loc            o3        o3prod  \\\n",
       "0             1.0     -89.0   1.0   911.0  1.589701e-08  8.802798e-14   \n",
       "1             3.0     -89.0   1.0  2911.0  1.590375e-08  8.794498e-14   \n",
       "2             5.0     -89.0   1.0  4911.0  1.591221e-08  8.791484e-14   \n",
       "3             7.0     -89.0   1.0  6911.0  1.594265e-08  8.803169e-14   \n",
       "4             9.0     -89.0   1.0  8911.0  1.596177e-08  8.795628e-14   \n",
       "...           ...       ...   ...     ...           ...           ...   \n",
       "971995       -9.0      89.0  60.0 -8911.0  1.630996e-08  2.842892e-16   \n",
       "971996       -7.0      89.0  60.0 -6911.0  1.632853e-08  2.287422e-16   \n",
       "971997       -5.0      89.0  60.0 -4911.0  1.634956e-08  1.920444e-16   \n",
       "971998       -3.0      89.0  60.0 -2911.0  1.636259e-08  2.303925e-16   \n",
       "971999       -1.0      89.0  60.0  -911.0  1.638008e-08  3.034051e-16   \n",
       "\n",
       "              o3loss        eminox        emivoc        tas  ...  \\\n",
       "0       9.406584e-14  0.000000e+00  0.000000e+00  249.57623  ...   \n",
       "1       9.389479e-14  0.000000e+00  0.000000e+00  249.54080  ...   \n",
       "2       9.379763e-14  0.000000e+00  0.000000e+00  249.50958  ...   \n",
       "3       9.397011e-14  0.000000e+00  0.000000e+00  249.49193  ...   \n",
       "4       9.384050e-14  0.000000e+00  0.000000e+00  249.46387  ...   \n",
       "...              ...           ...           ...        ...  ...   \n",
       "971995  1.809345e-16  3.336417e-13  6.572778e-15  242.57967  ...   \n",
       "971996  1.680337e-16  1.499039e-13  2.951658e-15  242.59355  ...   \n",
       "971997  1.595247e-16  1.640803e-14  3.207111e-16  242.60947  ...   \n",
       "971998  1.698968e-16  3.794615e-14  7.451860e-16  242.61600  ...   \n",
       "971999  1.917071e-16  2.266782e-13  4.464733e-15  242.62566  ...   \n",
       "\n",
       "                  P3   P3_frac      k_no_ro2      ro2_mole            P5  \\\n",
       "0      -16509.828473 -0.311445  1.074681e-11 -2.065661e+07  11987.364548   \n",
       "1      -16471.822530 -0.311021  1.074901e-11 -2.058355e+07  11984.722511   \n",
       "2      -16436.158716 -0.310454  1.075095e-11 -2.051713e+07  11985.175218   \n",
       "3      -16479.309553 -0.310856  1.075205e-11 -2.054259e+07  12026.277957   \n",
       "4      -16450.644939 -0.310581  1.075380e-11 -2.048288e+07  12037.339682   \n",
       "...              ...       ...           ...           ...           ...   \n",
       "971995     98.217212  0.573702  1.120335e-11  8.174790e+04      2.256674   \n",
       "971996     82.281734  0.597333  1.120240e-11  1.130398e+05      2.246048   \n",
       "971997     75.087140  0.649267  1.120131e-11  1.822416e+05      2.228837   \n",
       "971998     86.820913  0.625771  1.120086e-11  1.470090e+05      2.315283   \n",
       "971999    105.579380  0.577851  1.120020e-11  9.140011e+04      2.404540   \n",
       "\n",
       "         P5_frac            P6   P6_frac  ratio_P1_P2  ratio_P5_P6  \n",
       "0       0.211617  35541.184175  0.627421     1.287908     0.337281  \n",
       "1       0.211956  35489.851754  0.627656     1.289965     0.337694  \n",
       "2       0.212184  35461.143407  0.627798     1.291600     0.337981  \n",
       "3       0.212520  35550.656528  0.628228     1.292746     0.338286  \n",
       "4       0.213010  35532.988023  0.628783     1.294496     0.338765  \n",
       "...          ...           ...       ...          ...          ...  \n",
       "971995  0.020711     36.085798  0.331188     4.168988     0.062536  \n",
       "971996  0.022196     43.289346  0.427803     3.355159     0.051885  \n",
       "971997  0.023201     51.500816  0.536100     2.430410     0.043278  \n",
       "971998  0.022630     48.783566  0.476812     3.014331     0.047460  \n",
       "971999  0.020828     39.746725  0.344288     4.118898     0.060497  \n",
       "\n",
       "[972000 rows x 73 columns]"
      ]
     },
     "execution_count": 19,
     "metadata": {},
     "output_type": "execute_result"
    }
   ],
   "source": [
    "data = data.drop(['a','b','c','country_y'], axis=1)\n",
    "data = data.rename(columns={'country_x':'country'})\n",
    "data"
   ]
  },
  {
   "cell_type": "code",
   "execution_count": 20,
   "metadata": {},
   "outputs": [],
   "source": [
    "data.to_csv('/Volumes/Database/Research/C7 Multivariate analysis/UKESM1-0-LL_diag_2014(0404).csv', index = False)"
   ]
  },
  {
   "cell_type": "code",
   "execution_count": 21,
   "metadata": {},
   "outputs": [],
   "source": [
    "data_land = data.dropna()\n",
    "ratio_P1_P2 = data_land['ratio_P1_P2'].median()\n",
    "ratio_P5_P6 = data_land['ratio_P5_P6'].median()\n",
    "P1_frac = data_land['P1_frac'].mean()\n",
    "P2_frac = data_land['P2_frac'].mean()\n",
    "P3_frac = data_land['P3_frac'].mean()\n",
    "P4_frac = data_land['P4_frac'].mean()\n",
    "P5_frac = data_land['P5_frac'].mean()\n",
    "P6_frac = data_land['P6_frac'].mean()\n",
    "P7_frac = data_land['P7_frac'].mean()\n",
    "ratio_ho2_oh = data_land['ratio_ho2_oh'].median()\n",
    "ratio_ch3o2_oh = data_land['ratio_ch3o2_oh'].median()"
   ]
  },
  {
   "cell_type": "code",
   "execution_count": 22,
   "metadata": {},
   "outputs": [
    {
     "name": "stdout",
     "output_type": "stream",
     "text": [
      "P1 fraction:    0.33\n",
      "P2 fraction:    0.24\n",
      "P3 fraction:    0.43\n",
      "P5 fraction:    0.13\n",
      "P6 fraction:    0.3\n",
      "P1:P2 ratio:    2.13\n",
      "P5:P6 ratio:    0.84\n",
      "HO₂:OH ratio:   40.0\n",
      "CH₃O₂:OH ratio: 16.9\n"
     ]
    }
   ],
   "source": [
    "print(\"P1 fraction:    \"+str(np.round(P1_frac,2)))\n",
    "print(\"P2 fraction:    \"+str(np.round(P2_frac,2)))\n",
    "print(\"P3 fraction:    \"+str(np.round(P3_frac,2)))\n",
    "print(\"P4 fraction:    \"+str(np.round(P4_frac,2)))\n",
    "print(\"P5 fraction:    \"+str(np.round(P5_frac,2)))\n",
    "print(\"P6 fraction:    \"+str(np.round(P6_frac,2)))\n",
    "print(\"P7 fraction:    \"+str(np.round(P7_frac,2)))\n",
    "print(\"P1:P2 ratio:    \"+str(np.round(ratio_P1_P2,2)))\n",
    "print(\"P5:P6 ratio:    \"+str(np.round(ratio_P5_P6,2)))\n",
    "print(\"HO\\u2082:OH ratio:   \"+str(np.round(ratio_ho2_oh,1)))\n",
    "print(\"CH\\u2083O\\u2082:OH ratio: \"+str(np.round(ratio_ch3o2_oh,1)))"
   ]
  }
 ],
 "metadata": {
  "kernelspec": {
   "display_name": "Python 3",
   "language": "python",
   "name": "python3"
  },
  "language_info": {
   "codemirror_mode": {
    "name": "ipython",
    "version": 3
   },
   "file_extension": ".py",
   "mimetype": "text/x-python",
   "name": "python",
   "nbconvert_exporter": "python",
   "pygments_lexer": "ipython3",
   "version": "3.8.5"
  }
 },
 "nbformat": 4,
 "nbformat_minor": 4
}
