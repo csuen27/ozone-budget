{
 "cells": [
  {
   "cell_type": "code",
   "execution_count": 253,
   "metadata": {},
   "outputs": [],
   "source": [
    "import warnings\n",
    "warnings.filterwarnings(\"ignore\")\n",
    "\n",
    "import pandas as pd\n",
    "import numpy as np\n",
    "import matplotlib as mpl\n",
    "import matplotlib.pyplot as plt\n",
    "\n",
    "from sklearn.metrics import r2_score as R2\n",
    "from sklearn.metrics import mean_squared_error as MSE"
   ]
  },
  {
   "cell_type": "code",
   "execution_count": 254,
   "metadata": {},
   "outputs": [],
   "source": [
    "rest = pd.read_csv('/Volumes/Database/Research/ozone-budget/result_df_UKESM1_3_0_NN_width_64_dropout_0.1_90.csv')\n",
    "data = pd.read_csv('/Volumes/Database/Research/C7 Multivariate analysis/UKESM1-0-LL_diag_2014(1217).csv')"
   ]
  },
  {
   "cell_type": "markdown",
   "metadata": {},
   "source": [
    "### First, converse the concentrations in ppb to molecules cm${^{-3}}$"
   ]
  },
  {
   "cell_type": "code",
   "execution_count": 255,
   "metadata": {},
   "outputs": [],
   "source": [
    "rest['tas'] = data['tas']\n",
    "rest['pan'] = data['pan']\n",
    "rest['photo1d'] = data['photo1d']\n",
    "\n",
    "rest['o3_mole'] = rest['o3']*1.01325*10**5/rest['tas']*7.243*10**7*(10**9)\n",
    "rest['no_mole'] = rest['no']*1.01325*10**5/rest['tas']*7.243*10**7*(10**9)\n",
    "rest['no2_mole'] = rest['no2']*1.01325*10**5/rest['tas']*7.243*10**7*(10**9)\n",
    "rest['oh_mole'] = rest['oh']*1.01325*10**5/rest['tas']*7.243*10**7*(10**9)\n",
    "rest['h2o_mole'] = rest['h2o']*1.01325*10**5/rest['tas']*7.243*10**7*(10**9)\n",
    "rest['hno3_mole'] = rest['hno3']*1.01325*10**5/rest['tas']*7.243*10**7*(10**9)\n",
    "rest['pan_mole'] = rest['pan']*1.01325*10**5/rest['tas']*7.243*10**7*(10**9)\n",
    "\n",
    "rest['ho2_mole'] = rest['HO₂']*1.01325*10**5/rest['tas']*7.243*10**7*(10**9)\n",
    "rest['ch3o2_mole'] = rest['CH₃O₂']*1.01325*10**5/rest['tas']*7.243*10**7*(10**9)\n",
    "\n",
    "rest['k_ho2_ho2'] = 3.0*10**(-13)*np.exp(-460/rest['tas'])\n",
    "rest['k_no_ho2'] = data['k_no_ho2']\n",
    "rest['k_no_ch3o2'] = data['k_no_ch3o2']\n",
    "rest['k_o1d_h2o'] = data['k_o1d_h2o']\n",
    "rest['k_o3_ho2'] = data['k_o3_ho2']\n",
    "rest['k_o3_oh'] = data['k_o3_oh']"
   ]
  },
  {
   "cell_type": "markdown",
   "metadata": {},
   "source": [
    "### A proportion (${\\lambda}$) of the O(${^1}$D) formed by the photolysis of O${_3}$ reacts with H${_2}$O to form 2 OH radicals. Here we can estimate the ${\\lambda}$ based on steady-state assumption. "
   ]
  },
  {
   "cell_type": "code",
   "execution_count": 281,
   "metadata": {},
   "outputs": [],
   "source": [
    "rest['lambda'] = (2*rest['ho2_mole']**2*rest['k_ho2_ho2'])/rest['photo1d']/rest['o3_mole']/2\n",
    "rest.replace([np.inf, -np.inf], 0, inplace=True)"
   ]
  },
  {
   "cell_type": "markdown",
   "metadata": {},
   "source": [
    "### Map the geographical distribution of the ${\\lambda}$"
   ]
  },
  {
   "cell_type": "code",
   "execution_count": 258,
   "metadata": {},
   "outputs": [],
   "source": [
    "country = pd.read_csv('/Users/csuen/Desktop/PhD/Maps/country_province_state_2*2.csv')\n",
    "rest = rest.merge(country, how = 'left', left_on = ['longitude','latitude'], right_on = ['longitude','latitude'])\n",
    "rest = rest.drop(['province','state'], axis=1)"
   ]
  },
  {
   "cell_type": "code",
   "execution_count": 282,
   "metadata": {},
   "outputs": [
    {
     "data": {
      "image/png": "[encoded data removed]",
      "text/plain": [
       "<Figure size 432x288 with 2 Axes>"
      ]
     },
     "metadata": {
      "needs_background": "light"
     },
     "output_type": "display_data"
    }
   ],
   "source": [
    "rest['loc'] = rest['longitude']*1000 + rest['latitude']\n",
    "rest_land = rest.dropna()\n",
    "rest_land = rest_land[rest_land['latitude'] >= -60]\n",
    "rest_lambda = rest_land[rest_land['lambda'] < 1]\n",
    "rest_map = rest_lambda.groupby(['loc']).mean()\n",
    "\n",
    "cm = plt.cm.get_cmap('Reds')\n",
    "x = rest_map['longitude']\n",
    "y = rest_map['latitude']\n",
    "z = rest_map['lambda']\n",
    "sc = plt.scatter(x, y, c=z, marker=\"s\", vmin=0, vmax=0.2, s=5, cmap=cm)\n",
    "plt.xlim([-180, 180])\n",
    "plt.ylim([-90, 90])\n",
    "plt.colorbar(sc)\n",
    "plt.show()"
   ]
  },
  {
   "cell_type": "code",
   "execution_count": 283,
   "metadata": {},
   "outputs": [
    {
     "data": {
      "text/plain": [
       "count    232140.000000\n",
       "mean          0.000955\n",
       "std           0.001511\n",
       "min           0.000000\n",
       "25%           0.000041\n",
       "50%           0.000327\n",
       "75%           0.001326\n",
       "max           0.043587\n",
       "Name: lambda, dtype: float64"
      ]
     },
     "execution_count": 283,
     "metadata": {},
     "output_type": "execute_result"
    }
   ],
   "source": [
    "rest_lambda['lambda'].describe()"
   ]
  },
  {
   "cell_type": "code",
   "execution_count": null,
   "metadata": {},
   "outputs": [],
   "source": []
  }
 ],
 "metadata": {
  "kernelspec": {
   "display_name": "Python 3",
   "language": "python",
   "name": "python3"
  },
  "language_info": {
   "codemirror_mode": {
    "name": "ipython",
    "version": 3
   },
   "file_extension": ".py",
   "mimetype": "text/x-python",
   "name": "python",
   "nbconvert_exporter": "python",
   "pygments_lexer": "ipython3",
   "version": "3.8.5"
  }
 },
 "nbformat": 4,
 "nbformat_minor": 4
}
