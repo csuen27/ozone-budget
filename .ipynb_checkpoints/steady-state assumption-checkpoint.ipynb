{
 "cells": [
  {
   "cell_type": "code",
   "execution_count": 1,
   "metadata": {},
   "outputs": [],
   "source": [
    "import warnings\n",
    "warnings.filterwarnings(\"ignore\")\n",
    "\n",
    "import pandas as pd\n",
    "import numpy as np\n",
    "import matplotlib as mpl\n",
    "import matplotlib.pyplot as plt\n",
    "\n",
    "from sklearn.metrics import r2_score as R2\n",
    "from sklearn.metrics import mean_squared_error as MSE"
   ]
  },
  {
   "cell_type": "code",
   "execution_count": 2,
   "metadata": {},
   "outputs": [],
   "source": [
    "rest = pd.read_csv('/Volumes/Database/Research/ozone-budget/result_df_UKESM1_3_0_NN_width_64_dropout_0.1_90.csv')\n",
    "data = pd.read_csv('/Volumes/Database/Research/C7 Multivariate analysis/UKESM1-0-LL_diag_2014(1217).csv')"
   ]
  },
  {
   "cell_type": "markdown",
   "metadata": {},
   "source": [
    "### First, converse the concentrations in ppb to molecules cm${^{-3}}$"
   ]
  },
  {
   "cell_type": "code",
   "execution_count": 153,
   "metadata": {},
   "outputs": [],
   "source": [
    "rest['tas'] = data['tas']\n",
    "rest['pan'] = data['pan']\n",
    "rest['photo1d'] = data['photo1d']\n",
    "\n",
    "rest['o3_mole'] = rest['o3']*1.01325*10**5/rest['tas']*7.243*10**7*(10**9)\n",
    "rest['no_mole'] = rest['no']*1.01325*10**5/rest['tas']*7.243*10**7*(10**9)\n",
    "rest['no2_mole'] = rest['no2']*1.01325*10**5/rest['tas']*7.243*10**7*(10**9)\n",
    "rest['oh_mole'] = rest['oh']*1.01325*10**5/rest['tas']*7.243*10**7*(10**9)\n",
    "rest['h2o_mole'] = rest['h2o']*1.01325*10**5/rest['tas']*7.243*10**7*(10**9)\n",
    "rest['hno3_mole'] = rest['hno3']*1.01325*10**5/rest['tas']*7.243*10**7*(10**9)\n",
    "rest['pan_mole'] = rest['pan']*1.01325*10**5/rest['tas']*7.243*10**7*(10**9)\n",
    "\n",
    "rest['ho2_mole'] = rest['HO₂']*1.01325*10**5/rest['tas']*7.243*10**7*(10**9)\n",
    "rest['ch3o2_mole'] = rest['CH₃O₂']*1.01325*10**5/rest['tas']*7.243*10**7*(10**9)\n",
    "\n",
    "rest['k_ho2_ho2'] = 2.2*10**(-13)*np.exp(600/rest['tas'])\n",
    "rest['k_oh_no2'] = 6.5*10**(-11)\n",
    "rest['k_no_ho2'] = data['k_no_ho2']\n",
    "rest['k_no_ch3o2'] = data['k_no_ch3o2']\n",
    "rest['k_o1d_h2o'] = 2.14*10**(-10)\n",
    "rest['k_o3_ho2'] = data['k_o3_ho2']\n",
    "rest['k_o3_oh'] = data['k_o3_oh']"
   ]
  },
  {
   "cell_type": "code",
   "execution_count": 116,
   "metadata": {},
   "outputs": [
    {
     "data": {
      "text/plain": [
       "count    9.720000e+05\n",
       "mean     6.500000e-11\n",
       "std      9.202260e-22\n",
       "min      6.500000e-11\n",
       "25%      6.500000e-11\n",
       "50%      6.500000e-11\n",
       "75%      6.500000e-11\n",
       "max      6.500000e-11\n",
       "Name: k_oh_no2, dtype: float64"
      ]
     },
     "execution_count": 116,
     "metadata": {},
     "output_type": "execute_result"
    }
   ],
   "source": [
    "rest['k_oh_no2'].describe()"
   ]
  },
  {
   "cell_type": "markdown",
   "metadata": {},
   "source": [
    "### A proportion (${\\lambda}$) of the O(${^1}$D) formed by the photolysis of O${_3}$ reacts with H${_2}$O to form 2 OH radicals. Here we can estimate the ${\\lambda}$ based on steady-state assumption. "
   ]
  },
  {
   "cell_type": "code",
   "execution_count": 159,
   "metadata": {},
   "outputs": [],
   "source": [
    "rest['lambda'] = (2*rest['ho2_mole']*rest['ho2_mole']*rest['k_ho2_ho2']+0*rest['k_oh_no2']*rest['oh_mole']*rest['no2_mole'])/(rest['photo1d']*rest['o3_mole']*2)\n",
    "rest.replace([np.inf, -np.inf], 0, inplace=True)"
   ]
  },
  {
   "cell_type": "code",
   "execution_count": 118,
   "metadata": {},
   "outputs": [
    {
     "data": {
      "text/html": [
       "<div>\n",
       "<style scoped>\n",
       "    .dataframe tbody tr th:only-of-type {\n",
       "        vertical-align: middle;\n",
       "    }\n",
       "\n",
       "    .dataframe tbody tr th {\n",
       "        vertical-align: top;\n",
       "    }\n",
       "\n",
       "    .dataframe thead th {\n",
       "        text-align: right;\n",
       "    }\n",
       "</style>\n",
       "<table border=\"1\" class=\"dataframe\">\n",
       "  <thead>\n",
       "    <tr style=\"text-align: right;\">\n",
       "      <th></th>\n",
       "      <th>HO₂</th>\n",
       "      <th>CH₃O₂</th>\n",
       "      <th>kₓROₓ</th>\n",
       "      <th>O¹D</th>\n",
       "      <th>kₐalkenes</th>\n",
       "      <th>PO₃̂</th>\n",
       "      <th>LO₃̂</th>\n",
       "      <th>longitude</th>\n",
       "      <th>latitude</th>\n",
       "      <th>t</th>\n",
       "      <th>...</th>\n",
       "      <th>pan_mole</th>\n",
       "      <th>ho2_mole</th>\n",
       "      <th>ch3o2_mole</th>\n",
       "      <th>k_ho2_ho2</th>\n",
       "      <th>lambda</th>\n",
       "      <th>country</th>\n",
       "      <th>loc</th>\n",
       "      <th>k_oh_no2</th>\n",
       "      <th>k_oh_no2_2</th>\n",
       "      <th>HO2_pred</th>\n",
       "    </tr>\n",
       "  </thead>\n",
       "  <tbody>\n",
       "    <tr>\n",
       "      <th>0</th>\n",
       "      <td>7.280630e-12</td>\n",
       "      <td>4.660699e-11</td>\n",
       "      <td>2.658377e-28</td>\n",
       "      <td>9.069226e-22</td>\n",
       "      <td>3.638301e-28</td>\n",
       "      <td>52922.427962</td>\n",
       "      <td>55050.156165</td>\n",
       "      <td>1.0</td>\n",
       "      <td>-89.0</td>\n",
       "      <td>1.0</td>\n",
       "      <td>...</td>\n",
       "      <td>5.728714e+08</td>\n",
       "      <td>2.140922e+08</td>\n",
       "      <td>1.370512e+09</td>\n",
       "      <td>2.435001e-12</td>\n",
       "      <td>0.027368</td>\n",
       "      <td>南极地区</td>\n",
       "      <td>911.0</td>\n",
       "      <td>6.500000e-11</td>\n",
       "      <td>3.000000e-12</td>\n",
       "      <td>2.900940e+08</td>\n",
       "    </tr>\n",
       "    <tr>\n",
       "      <th>1</th>\n",
       "      <td>7.281262e-12</td>\n",
       "      <td>4.661300e-11</td>\n",
       "      <td>2.658434e-28</td>\n",
       "      <td>9.071393e-22</td>\n",
       "      <td>3.638602e-28</td>\n",
       "      <td>52965.764285</td>\n",
       "      <td>54871.991745</td>\n",
       "      <td>3.0</td>\n",
       "      <td>-89.0</td>\n",
       "      <td>1.0</td>\n",
       "      <td>...</td>\n",
       "      <td>5.731662e+08</td>\n",
       "      <td>2.141412e+08</td>\n",
       "      <td>1.370884e+09</td>\n",
       "      <td>2.435833e-12</td>\n",
       "      <td>0.027367</td>\n",
       "      <td>南极地区</td>\n",
       "      <td>2911.0</td>\n",
       "      <td>6.500000e-11</td>\n",
       "      <td>3.000000e-12</td>\n",
       "      <td>2.901661e+08</td>\n",
       "    </tr>\n",
       "    <tr>\n",
       "      <th>2</th>\n",
       "      <td>7.261796e-12</td>\n",
       "      <td>4.650557e-11</td>\n",
       "      <td>2.651481e-28</td>\n",
       "      <td>9.122343e-22</td>\n",
       "      <td>3.619068e-28</td>\n",
       "      <td>52870.091914</td>\n",
       "      <td>54895.091728</td>\n",
       "      <td>5.0</td>\n",
       "      <td>-89.0</td>\n",
       "      <td>1.0</td>\n",
       "      <td>...</td>\n",
       "      <td>5.734841e+08</td>\n",
       "      <td>2.135954e+08</td>\n",
       "      <td>1.367895e+09</td>\n",
       "      <td>2.436566e-12</td>\n",
       "      <td>0.027211</td>\n",
       "      <td>南极地区</td>\n",
       "      <td>4911.0</td>\n",
       "      <td>6.500000e-11</td>\n",
       "      <td>3.000000e-12</td>\n",
       "      <td>2.902572e+08</td>\n",
       "    </tr>\n",
       "    <tr>\n",
       "      <th>3</th>\n",
       "      <td>7.261786e-12</td>\n",
       "      <td>4.651602e-11</td>\n",
       "      <td>2.652178e-28</td>\n",
       "      <td>9.121947e-22</td>\n",
       "      <td>3.614559e-28</td>\n",
       "      <td>52937.939253</td>\n",
       "      <td>54734.487253</td>\n",
       "      <td>7.0</td>\n",
       "      <td>-89.0</td>\n",
       "      <td>1.0</td>\n",
       "      <td>...</td>\n",
       "      <td>5.742442e+08</td>\n",
       "      <td>2.136102e+08</td>\n",
       "      <td>1.368299e+09</td>\n",
       "      <td>2.436980e-12</td>\n",
       "      <td>0.027164</td>\n",
       "      <td>南极地区</td>\n",
       "      <td>6911.0</td>\n",
       "      <td>6.500000e-11</td>\n",
       "      <td>3.000000e-12</td>\n",
       "      <td>2.905309e+08</td>\n",
       "    </tr>\n",
       "    <tr>\n",
       "      <th>4</th>\n",
       "      <td>7.261663e-12</td>\n",
       "      <td>4.652939e-11</td>\n",
       "      <td>2.652065e-28</td>\n",
       "      <td>9.120833e-22</td>\n",
       "      <td>3.616232e-28</td>\n",
       "      <td>52988.650057</td>\n",
       "      <td>54586.117915</td>\n",
       "      <td>9.0</td>\n",
       "      <td>-89.0</td>\n",
       "      <td>1.0</td>\n",
       "      <td>...</td>\n",
       "      <td>5.748282e+08</td>\n",
       "      <td>2.136306e+08</td>\n",
       "      <td>1.368847e+09</td>\n",
       "      <td>2.437640e-12</td>\n",
       "      <td>0.027147</td>\n",
       "      <td>南极地区</td>\n",
       "      <td>8911.0</td>\n",
       "      <td>6.500000e-11</td>\n",
       "      <td>3.000000e-12</td>\n",
       "      <td>2.906529e+08</td>\n",
       "    </tr>\n",
       "    <tr>\n",
       "      <th>...</th>\n",
       "      <td>...</td>\n",
       "      <td>...</td>\n",
       "      <td>...</td>\n",
       "      <td>...</td>\n",
       "      <td>...</td>\n",
       "      <td>...</td>\n",
       "      <td>...</td>\n",
       "      <td>...</td>\n",
       "      <td>...</td>\n",
       "      <td>...</td>\n",
       "      <td>...</td>\n",
       "      <td>...</td>\n",
       "      <td>...</td>\n",
       "      <td>...</td>\n",
       "      <td>...</td>\n",
       "      <td>...</td>\n",
       "      <td>...</td>\n",
       "      <td>...</td>\n",
       "      <td>...</td>\n",
       "      <td>...</td>\n",
       "      <td>...</td>\n",
       "    </tr>\n",
       "    <tr>\n",
       "      <th>971995</th>\n",
       "      <td>1.387260e-14</td>\n",
       "      <td>8.797916e-14</td>\n",
       "      <td>2.047809e-31</td>\n",
       "      <td>7.619175e-25</td>\n",
       "      <td>8.489538e-31</td>\n",
       "      <td>134.963316</td>\n",
       "      <td>40.906482</td>\n",
       "      <td>-9.0</td>\n",
       "      <td>89.0</td>\n",
       "      <td>60.0</td>\n",
       "      <td>...</td>\n",
       "      <td>1.858374e+09</td>\n",
       "      <td>4.196995e+05</td>\n",
       "      <td>2.661708e+06</td>\n",
       "      <td>2.609834e-12</td>\n",
       "      <td>0.000000</td>\n",
       "      <td>NaN</td>\n",
       "      <td>-8911.0</td>\n",
       "      <td>6.500000e-11</td>\n",
       "      <td>3.000000e-12</td>\n",
       "      <td>0.000000e+00</td>\n",
       "    </tr>\n",
       "    <tr>\n",
       "      <th>971996</th>\n",
       "      <td>1.259138e-14</td>\n",
       "      <td>8.829640e-14</td>\n",
       "      <td>1.989219e-31</td>\n",
       "      <td>9.184654e-25</td>\n",
       "      <td>1.161733e-30</td>\n",
       "      <td>80.140742</td>\n",
       "      <td>50.120315</td>\n",
       "      <td>-7.0</td>\n",
       "      <td>89.0</td>\n",
       "      <td>60.0</td>\n",
       "      <td>...</td>\n",
       "      <td>1.859839e+09</td>\n",
       "      <td>3.809160e+05</td>\n",
       "      <td>2.671153e+06</td>\n",
       "      <td>2.609464e-12</td>\n",
       "      <td>0.000000</td>\n",
       "      <td>NaN</td>\n",
       "      <td>-6911.0</td>\n",
       "      <td>6.500000e-11</td>\n",
       "      <td>3.000000e-12</td>\n",
       "      <td>0.000000e+00</td>\n",
       "    </tr>\n",
       "    <tr>\n",
       "      <th>971997</th>\n",
       "      <td>1.375304e-14</td>\n",
       "      <td>9.701694e-14</td>\n",
       "      <td>2.127389e-31</td>\n",
       "      <td>9.824132e-25</td>\n",
       "      <td>1.220742e-30</td>\n",
       "      <td>49.788435</td>\n",
       "      <td>53.173863</td>\n",
       "      <td>-5.0</td>\n",
       "      <td>89.0</td>\n",
       "      <td>60.0</td>\n",
       "      <td>...</td>\n",
       "      <td>1.861512e+09</td>\n",
       "      <td>4.160313e+05</td>\n",
       "      <td>2.934776e+06</td>\n",
       "      <td>2.609041e-12</td>\n",
       "      <td>0.000000</td>\n",
       "      <td>NaN</td>\n",
       "      <td>-4911.0</td>\n",
       "      <td>6.500000e-11</td>\n",
       "      <td>3.000000e-12</td>\n",
       "      <td>0.000000e+00</td>\n",
       "    </tr>\n",
       "    <tr>\n",
       "      <th>971998</th>\n",
       "      <td>1.362856e-14</td>\n",
       "      <td>9.592115e-14</td>\n",
       "      <td>2.115101e-31</td>\n",
       "      <td>9.784521e-25</td>\n",
       "      <td>1.211627e-30</td>\n",
       "      <td>70.603743</td>\n",
       "      <td>52.861757</td>\n",
       "      <td>-3.0</td>\n",
       "      <td>89.0</td>\n",
       "      <td>60.0</td>\n",
       "      <td>...</td>\n",
       "      <td>1.862572e+09</td>\n",
       "      <td>4.122546e+05</td>\n",
       "      <td>2.901550e+06</td>\n",
       "      <td>2.608867e-12</td>\n",
       "      <td>0.000000</td>\n",
       "      <td>NaN</td>\n",
       "      <td>-2911.0</td>\n",
       "      <td>6.500000e-11</td>\n",
       "      <td>3.000000e-12</td>\n",
       "      <td>0.000000e+00</td>\n",
       "    </tr>\n",
       "    <tr>\n",
       "      <th>971999</th>\n",
       "      <td>9.642946e-15</td>\n",
       "      <td>6.869784e-14</td>\n",
       "      <td>1.565586e-31</td>\n",
       "      <td>9.185482e-25</td>\n",
       "      <td>1.328074e-30</td>\n",
       "      <td>98.646613</td>\n",
       "      <td>51.491709</td>\n",
       "      <td>-1.0</td>\n",
       "      <td>89.0</td>\n",
       "      <td>60.0</td>\n",
       "      <td>...</td>\n",
       "      <td>1.863926e+09</td>\n",
       "      <td>2.916810e+05</td>\n",
       "      <td>2.077980e+06</td>\n",
       "      <td>2.608610e-12</td>\n",
       "      <td>0.000000</td>\n",
       "      <td>NaN</td>\n",
       "      <td>-911.0</td>\n",
       "      <td>6.500000e-11</td>\n",
       "      <td>3.000000e-12</td>\n",
       "      <td>0.000000e+00</td>\n",
       "    </tr>\n",
       "  </tbody>\n",
       "</table>\n",
       "<p>972000 rows × 42 columns</p>\n",
       "</div>"
      ],
      "text/plain": [
       "                 HO₂         CH₃O₂         kₓROₓ           O¹D     kₐalkenes  \\\n",
       "0       7.280630e-12  4.660699e-11  2.658377e-28  9.069226e-22  3.638301e-28   \n",
       "1       7.281262e-12  4.661300e-11  2.658434e-28  9.071393e-22  3.638602e-28   \n",
       "2       7.261796e-12  4.650557e-11  2.651481e-28  9.122343e-22  3.619068e-28   \n",
       "3       7.261786e-12  4.651602e-11  2.652178e-28  9.121947e-22  3.614559e-28   \n",
       "4       7.261663e-12  4.652939e-11  2.652065e-28  9.120833e-22  3.616232e-28   \n",
       "...              ...           ...           ...           ...           ...   \n",
       "971995  1.387260e-14  8.797916e-14  2.047809e-31  7.619175e-25  8.489538e-31   \n",
       "971996  1.259138e-14  8.829640e-14  1.989219e-31  9.184654e-25  1.161733e-30   \n",
       "971997  1.375304e-14  9.701694e-14  2.127389e-31  9.824132e-25  1.220742e-30   \n",
       "971998  1.362856e-14  9.592115e-14  2.115101e-31  9.784521e-25  1.211627e-30   \n",
       "971999  9.642946e-15  6.869784e-14  1.565586e-31  9.185482e-25  1.328074e-30   \n",
       "\n",
       "                PO₃̂          LO₃̂  longitude  latitude     t  ...  \\\n",
       "0       52922.427962  55050.156165        1.0     -89.0   1.0  ...   \n",
       "1       52965.764285  54871.991745        3.0     -89.0   1.0  ...   \n",
       "2       52870.091914  54895.091728        5.0     -89.0   1.0  ...   \n",
       "3       52937.939253  54734.487253        7.0     -89.0   1.0  ...   \n",
       "4       52988.650057  54586.117915        9.0     -89.0   1.0  ...   \n",
       "...              ...           ...        ...       ...   ...  ...   \n",
       "971995    134.963316     40.906482       -9.0      89.0  60.0  ...   \n",
       "971996     80.140742     50.120315       -7.0      89.0  60.0  ...   \n",
       "971997     49.788435     53.173863       -5.0      89.0  60.0  ...   \n",
       "971998     70.603743     52.861757       -3.0      89.0  60.0  ...   \n",
       "971999     98.646613     51.491709       -1.0      89.0  60.0  ...   \n",
       "\n",
       "            pan_mole      ho2_mole    ch3o2_mole     k_ho2_ho2    lambda  \\\n",
       "0       5.728714e+08  2.140922e+08  1.370512e+09  2.435001e-12  0.027368   \n",
       "1       5.731662e+08  2.141412e+08  1.370884e+09  2.435833e-12  0.027367   \n",
       "2       5.734841e+08  2.135954e+08  1.367895e+09  2.436566e-12  0.027211   \n",
       "3       5.742442e+08  2.136102e+08  1.368299e+09  2.436980e-12  0.027164   \n",
       "4       5.748282e+08  2.136306e+08  1.368847e+09  2.437640e-12  0.027147   \n",
       "...              ...           ...           ...           ...       ...   \n",
       "971995  1.858374e+09  4.196995e+05  2.661708e+06  2.609834e-12  0.000000   \n",
       "971996  1.859839e+09  3.809160e+05  2.671153e+06  2.609464e-12  0.000000   \n",
       "971997  1.861512e+09  4.160313e+05  2.934776e+06  2.609041e-12  0.000000   \n",
       "971998  1.862572e+09  4.122546e+05  2.901550e+06  2.608867e-12  0.000000   \n",
       "971999  1.863926e+09  2.916810e+05  2.077980e+06  2.608610e-12  0.000000   \n",
       "\n",
       "        country     loc      k_oh_no2    k_oh_no2_2      HO2_pred  \n",
       "0          南极地区   911.0  6.500000e-11  3.000000e-12  2.900940e+08  \n",
       "1          南极地区  2911.0  6.500000e-11  3.000000e-12  2.901661e+08  \n",
       "2          南极地区  4911.0  6.500000e-11  3.000000e-12  2.902572e+08  \n",
       "3          南极地区  6911.0  6.500000e-11  3.000000e-12  2.905309e+08  \n",
       "4          南极地区  8911.0  6.500000e-11  3.000000e-12  2.906529e+08  \n",
       "...         ...     ...           ...           ...           ...  \n",
       "971995      NaN -8911.0  6.500000e-11  3.000000e-12  0.000000e+00  \n",
       "971996      NaN -6911.0  6.500000e-11  3.000000e-12  0.000000e+00  \n",
       "971997      NaN -4911.0  6.500000e-11  3.000000e-12  0.000000e+00  \n",
       "971998      NaN -2911.0  6.500000e-11  3.000000e-12  0.000000e+00  \n",
       "971999      NaN  -911.0  6.500000e-11  3.000000e-12  0.000000e+00  \n",
       "\n",
       "[972000 rows x 42 columns]"
      ]
     },
     "execution_count": 118,
     "metadata": {},
     "output_type": "execute_result"
    }
   ],
   "source": [
    "rest"
   ]
  },
  {
   "cell_type": "markdown",
   "metadata": {},
   "source": [
    "### Map the geographical distribution of the ${\\lambda}$"
   ]
  },
  {
   "cell_type": "code",
   "execution_count": 5,
   "metadata": {},
   "outputs": [],
   "source": [
    "country = pd.read_csv('/Users/csuen/Desktop/PhD/Maps/country_province_state_2*2.csv')\n",
    "rest = rest.merge(country, how = 'left', left_on = ['longitude','latitude'], right_on = ['longitude','latitude'])\n",
    "rest = rest.drop(['province','state'], axis=1)"
   ]
  },
  {
   "cell_type": "code",
   "execution_count": 160,
   "metadata": {},
   "outputs": [
    {
     "data": {
      "image/png": "[encoded data removed]",
      "text/plain": [
       "<Figure size 432x288 with 2 Axes>"
      ]
     },
     "metadata": {
      "needs_background": "light"
     },
     "output_type": "display_data"
    }
   ],
   "source": [
    "rest['loc'] = rest['longitude']*1000 + rest['latitude']\n",
    "#rest_land = rest.dropna()\n",
    "rest_land = rest_land[rest_land['latitude'] >= -60]\n",
    "rest_lambda = rest_land[rest_land['lambda'] < 100]\n",
    "rest_map = rest_lambda.groupby(['loc']).median()\n",
    "\n",
    "cm = plt.cm.get_cmap('Blues_r')\n",
    "x = rest_map['longitude']\n",
    "y = rest_map['latitude']\n",
    "z = rest_map['lambda']\n",
    "sc = plt.scatter(x, y, c=z, marker=\"s\", vmin=0, vmax=0.5, s=3, cmap=cm)\n",
    "plt.xlim([-180, 180])\n",
    "plt.ylim([-90, 90])\n",
    "plt.colorbar(sc)\n",
    "plt.show()"
   ]
  },
  {
   "cell_type": "code",
   "execution_count": 161,
   "metadata": {},
   "outputs": [
    {
     "data": {
      "text/plain": [
       "count    232140.000000\n",
       "mean          0.533065\n",
       "std           0.967850\n",
       "min           0.000000\n",
       "25%           0.079873\n",
       "50%           0.153922\n",
       "75%           0.556572\n",
       "max          51.415416\n",
       "Name: lambda, dtype: float64"
      ]
     },
     "execution_count": 161,
     "metadata": {},
     "output_type": "execute_result"
    }
   ],
   "source": [
    "rest_lambda['lambda'].describe()"
   ]
  },
  {
   "cell_type": "code",
   "execution_count": 149,
   "metadata": {},
   "outputs": [
    {
     "data": {
      "text/plain": [
       "0.9469534073844809"
      ]
     },
     "execution_count": 149,
     "metadata": {},
     "output_type": "execute_result"
    }
   ],
   "source": [
    "np.percentile(rest_lambda['lambda'],99)"
   ]
  },
  {
   "cell_type": "code",
   "execution_count": 122,
   "metadata": {},
   "outputs": [
    {
     "data": {
      "text/plain": [
       "1163113.3931920552"
      ]
     },
     "execution_count": 122,
     "metadata": {},
     "output_type": "execute_result"
    }
   ],
   "source": [
    "rest_lambda['oh_mole'].mean()"
   ]
  },
  {
   "cell_type": "code",
   "execution_count": 123,
   "metadata": {},
   "outputs": [
    {
     "data": {
      "text/plain": [
       "239395120.51498237"
      ]
     },
     "execution_count": 123,
     "metadata": {},
     "output_type": "execute_result"
    }
   ],
   "source": [
    "rest_lambda['ho2_mole'].mean()"
   ]
  },
  {
   "cell_type": "code",
   "execution_count": 124,
   "metadata": {},
   "outputs": [
    {
     "data": {
      "text/plain": [
       "6.544539363086666e-06"
      ]
     },
     "execution_count": 124,
     "metadata": {},
     "output_type": "execute_result"
    }
   ],
   "source": [
    "rest_lambda['photo1d'].mean()"
   ]
  },
  {
   "cell_type": "markdown",
   "metadata": {},
   "source": [
    "### Use pure linear model to estimate the scale of ${\\alpha}$"
   ]
  },
  {
   "cell_type": "code",
   "execution_count": 136,
   "metadata": {},
   "outputs": [
    {
     "data": {
      "text/plain": [
       "(0.054741187737231856, 0.06090880345324926)"
      ]
     },
     "execution_count": 136,
     "metadata": {},
     "output_type": "execute_result"
    }
   ],
   "source": [
    "HO2 = rest['ho2_mole'].median()\n",
    "O3 = rest['o3_mole'].median()\n",
    "JO1D = rest['photo1d'].median()\n",
    "OH = rest['oh_mole'].median()\n",
    "NO2 = rest['no2_mole'].median()\n",
    "k_HO2_HO2 = rest['k_ho2_ho2'].median()\n",
    "k_OH_NO2 = rest['k_oh_no2'].median()\n",
    "\n",
    "alpha_1 = k_HO2_HO2*HO2*HO2/(JO1D*O3)\n",
    "alpha_2 = (2*k_HO2_HO2*HO2*HO2+k_OH_NO2*OH*NO2)/(2*JO1D*O3)\n",
    "alpha_1, alpha_2"
   ]
  },
  {
   "cell_type": "code",
   "execution_count": null,
   "metadata": {},
   "outputs": [],
   "source": []
  }
 ],
 "metadata": {
  "kernelspec": {
   "display_name": "Python 3",
   "language": "python",
   "name": "python3"
  },
  "language_info": {
   "codemirror_mode": {
    "name": "ipython",
    "version": 3
   },
   "file_extension": ".py",
   "mimetype": "text/x-python",
   "name": "python",
   "nbconvert_exporter": "python",
   "pygments_lexer": "ipython3",
   "version": "3.8.5"
  }
 },
 "nbformat": 4,
 "nbformat_minor": 4
}
