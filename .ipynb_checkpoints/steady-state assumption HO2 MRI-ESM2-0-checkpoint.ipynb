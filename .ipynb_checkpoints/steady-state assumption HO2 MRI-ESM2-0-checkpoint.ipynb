{
 "cells": [
  {
   "cell_type": "code",
   "execution_count": 1,
   "metadata": {},
   "outputs": [],
   "source": [
    "import warnings\n",
    "warnings.filterwarnings(\"ignore\")\n",
    "\n",
    "import pandas as pd\n",
    "import numpy as np\n",
    "import matplotlib as mpl\n",
    "import matplotlib.pyplot as plt\n",
    "\n",
    "from sklearn.metrics import r2_score as R2\n",
    "from sklearn.metrics import mean_squared_error as MSE"
   ]
  },
  {
   "cell_type": "code",
   "execution_count": 2,
   "metadata": {},
   "outputs": [],
   "source": [
    "data = pd.read_csv('/Volumes/Database/Research/C7 Multivariate analysis/MRI-ESM2-0_diag_2014(0318).csv')"
   ]
  },
  {
   "cell_type": "code",
   "execution_count": 3,
   "metadata": {},
   "outputs": [],
   "source": [
    "country = pd.read_csv('/Users/csuen/Desktop/PhD/Maps/country_province_state_2*2.csv')\n",
    "data = data.merge(country, how = 'left', left_on = ['longitude','latitude'], right_on = ['longitude','latitude'])\n",
    "data = data.drop(['province','state'], axis=1)"
   ]
  },
  {
   "cell_type": "markdown",
   "metadata": {},
   "source": [
    "### First, converse the concentrations in ppb to molecules cm${^{-3}}$"
   ]
  },
  {
   "cell_type": "code",
   "execution_count": 4,
   "metadata": {},
   "outputs": [],
   "source": [
    "data['o3_mole'] = data['o3']*1.01325*10**5/data['tas']*7.243*10**7*(10**9)\n",
    "data['no_mole'] = data['no']*1.01325*10**5/data['tas']*7.243*10**7*(10**9)\n",
    "data['no2_mole'] = data['no2']*1.01325*10**5/data['tas']*7.243*10**7*(10**9)\n",
    "data['oh_mole'] = data['oh']*1.01325*10**5/data['tas']*7.243*10**7*(10**9)\n",
    "data['h2o_mole'] = data['h2o']*1.01325*10**5/data['tas']*7.243*10**7*(10**9)\n",
    "data['hno3_mole'] = data['hno3']*1.01325*10**5/data['tas']*7.243*10**7*(10**9)\n",
    "data['pan_mole'] = data['pan']*1.01325*10**5/data['tas']*7.243*10**7*(10**9)\n",
    "\n",
    "data['k_ho2_ho2'] = 2.2*10**(-13)*np.exp(600/data['tas'])\n",
    "data['k_oh_no2'] = 6.5*10**(-11)\n",
    "data['k_o1d_h2o'] = 2.14*10**(-10)\n",
    "\n",
    "data['o3prod_mole'] = data['o3prod']*6.022*10**17\n",
    "data['o3loss_mole'] = data['o3loss']*6.022*10**17\n",
    "\n",
    "data['lossch4_mole'] = data['lossch4']*6.022*10**17\n",
    "data['lossco_mole'] = data['lossco']*6.022*10**17\n",
    "data['k_ch3o2_ch3o2'] = 1.03*10**(-13)*np.exp(365/data['tas'])"
   ]
  },
  {
   "cell_type": "code",
   "execution_count": 5,
   "metadata": {},
   "outputs": [
    {
     "data": {
      "text/plain": [
       "8.541200351715088e-12"
      ]
     },
     "execution_count": 5,
     "metadata": {},
     "output_type": "execute_result"
    }
   ],
   "source": [
    "data['k_no_ho2'].median()"
   ]
  },
  {
   "cell_type": "code",
   "execution_count": 6,
   "metadata": {},
   "outputs": [
    {
     "data": {
      "text/plain": [
       "8.173369276523589e-12"
      ]
     },
     "execution_count": 6,
     "metadata": {},
     "output_type": "execute_result"
    }
   ],
   "source": [
    "data['k_no_ch3o2'].median()"
   ]
  },
  {
   "cell_type": "code",
   "execution_count": 7,
   "metadata": {},
   "outputs": [
    {
     "data": {
      "text/plain": [
       "6.202684883028268e-14"
      ]
     },
     "execution_count": 7,
     "metadata": {},
     "output_type": "execute_result"
    }
   ],
   "source": [
    "data['k_o3_oh'].median()"
   ]
  },
  {
   "cell_type": "code",
   "execution_count": 8,
   "metadata": {},
   "outputs": [
    {
     "data": {
      "text/plain": [
       "1.812129009796305e-15"
      ]
     },
     "execution_count": 8,
     "metadata": {},
     "output_type": "execute_result"
    }
   ],
   "source": [
    "data['k_o3_ho2'].median()"
   ]
  },
  {
   "cell_type": "code",
   "execution_count": 9,
   "metadata": {},
   "outputs": [
    {
     "data": {
      "text/plain": [
       "3.7252786956941056e-13"
      ]
     },
     "execution_count": 9,
     "metadata": {},
     "output_type": "execute_result"
    }
   ],
   "source": [
    "data['k_ch3o2_ch3o2'].median()"
   ]
  },
  {
   "cell_type": "code",
   "execution_count": 10,
   "metadata": {},
   "outputs": [],
   "source": [
    "data['a'] = 2*data['k_ho2_ho2']\n",
    "data['b'] = data['k_o3_ho2']*data['o3_mole'] + data['k_no_ho2']*data['no_mole']\n",
    "data['c'] = -data['lossco_mole'] - data['k_o3_oh']*data['o3_mole']*data['oh_mole']"
   ]
  },
  {
   "cell_type": "code",
   "execution_count": 11,
   "metadata": {},
   "outputs": [],
   "source": [
    "data['ho2_mole'] = (-data['b'] + np.sqrt(data['b']**2 - 4*data['a']*data['c']))/(2*data['a'])"
   ]
  },
  {
   "cell_type": "code",
   "execution_count": 12,
   "metadata": {},
   "outputs": [
    {
     "data": {
      "text/plain": [
       "count    9.720000e+05\n",
       "mean     8.642662e+07\n",
       "std      8.480762e+07\n",
       "min      9.692527e+03\n",
       "25%      1.451592e+07\n",
       "50%      5.873797e+07\n",
       "75%      1.453755e+08\n",
       "max      6.176854e+08\n",
       "Name: ho2_mole, dtype: float64"
      ]
     },
     "execution_count": 12,
     "metadata": {},
     "output_type": "execute_result"
    }
   ],
   "source": [
    "data['ho2_mole'].describe()"
   ]
  },
  {
   "cell_type": "code",
   "execution_count": 13,
   "metadata": {},
   "outputs": [
    {
     "data": {
      "text/plain": [
       "count    9.720000e+05\n",
       "mean     1.561070e+06\n",
       "std      1.764012e+06\n",
       "min      3.873581e+01\n",
       "25%      2.056745e+05\n",
       "50%      1.013260e+06\n",
       "75%      2.275798e+06\n",
       "max      1.995531e+07\n",
       "Name: oh_mole, dtype: float64"
      ]
     },
     "execution_count": 13,
     "metadata": {},
     "output_type": "execute_result"
    }
   ],
   "source": [
    "data['oh_mole'].describe()"
   ]
  },
  {
   "cell_type": "code",
   "execution_count": 14,
   "metadata": {},
   "outputs": [
    {
     "data": {
      "text/plain": [
       "count    972000.000000\n",
       "mean        109.473321\n",
       "std          81.313451\n",
       "min           0.219355\n",
       "25%          42.725748\n",
       "50%         103.023208\n",
       "75%         159.981813\n",
       "max         535.860211\n",
       "Name: ratio_ho2_oh, dtype: float64"
      ]
     },
     "execution_count": 14,
     "metadata": {},
     "output_type": "execute_result"
    }
   ],
   "source": [
    "data['ratio_ho2_oh'] = data['ho2_mole']/data['oh_mole']\n",
    "data['ratio_ho2_oh'].describe()"
   ]
  },
  {
   "cell_type": "code",
   "execution_count": 15,
   "metadata": {},
   "outputs": [
    {
     "data": {
      "text/plain": [
       "count    972000.000000\n",
       "mean          0.337509\n",
       "std           0.162965\n",
       "min           0.000312\n",
       "25%           0.258439\n",
       "50%           0.324386\n",
       "75%           0.424497\n",
       "max           1.072218\n",
       "Name: P1_frac, dtype: float64"
      ]
     },
     "execution_count": 15,
     "metadata": {},
     "output_type": "execute_result"
    }
   ],
   "source": [
    "data['P1'] = data['k_no_ho2']*data['no_mole']*data['ho2_mole']\n",
    "data['P1_frac'] = data['P1']/data['o3prod_mole']\n",
    "data['P1_frac'].describe()"
   ]
  },
  {
   "cell_type": "code",
   "execution_count": 16,
   "metadata": {},
   "outputs": [
    {
     "data": {
      "image/png": "[encoded data removed]",
      "text/plain": [
       "<Figure size 432x288 with 2 Axes>"
      ]
     },
     "metadata": {
      "needs_background": "light"
     },
     "output_type": "display_data"
    }
   ],
   "source": [
    "data['loc'] = data['longitude']*1000 + data['latitude']\n",
    "data_land = data\n",
    "data_mean = data_land.groupby(['loc']).mean()\n",
    "\n",
    "cm = plt.cm.get_cmap('Blues')\n",
    "x = data_mean['longitude']\n",
    "y = data_mean['latitude']\n",
    "z = data_mean['P1_frac']\n",
    "sc = plt.scatter(x, y, c=z, marker=\"s\", vmin=0, vmax=0.5, s=3, cmap=cm)\n",
    "plt.xlim([-180, 180])\n",
    "plt.ylim([-90, 90])\n",
    "plt.colorbar(sc)\n",
    "plt.show()"
   ]
  },
  {
   "cell_type": "code",
   "execution_count": 17,
   "metadata": {},
   "outputs": [
    {
     "data": {
      "text/plain": [
       "count    16200.000000\n",
       "mean         0.337509\n",
       "std          0.088230\n",
       "min          0.184010\n",
       "25%          0.270421\n",
       "50%          0.320198\n",
       "75%          0.396089\n",
       "max          0.738958\n",
       "Name: P1_frac, dtype: float64"
      ]
     },
     "execution_count": 17,
     "metadata": {},
     "output_type": "execute_result"
    }
   ],
   "source": [
    "data_mean['P1_frac'].describe()"
   ]
  },
  {
   "cell_type": "code",
   "execution_count": 18,
   "metadata": {},
   "outputs": [
    {
     "data": {
      "image/png": "[encoded data removed]",
      "text/plain": [
       "<Figure size 432x288 with 2 Axes>"
      ]
     },
     "metadata": {
      "needs_background": "light"
     },
     "output_type": "display_data"
    }
   ],
   "source": [
    "data['loc'] = data['longitude']*1000 + data['latitude']\n",
    "data_land = data\n",
    "data_mean = data_land.groupby(['loc']).mean()\n",
    "\n",
    "cm = plt.cm.get_cmap('Reds')\n",
    "x = data_mean['longitude']\n",
    "y = data_mean['latitude']\n",
    "z = data_mean['ho2_mole']*10**(-8)\n",
    "sc = plt.scatter(x, y, c=z, marker=\"s\", vmin=0, vmax=2.5, s=3, cmap=cm)\n",
    "plt.xlim([-180, 180])\n",
    "plt.ylim([-90, 90])\n",
    "plt.colorbar(sc)\n",
    "plt.show()"
   ]
  },
  {
   "cell_type": "code",
   "execution_count": 19,
   "metadata": {},
   "outputs": [
    {
     "data": {
      "text/html": [
       "<div>\n",
       "<style scoped>\n",
       "    .dataframe tbody tr th:only-of-type {\n",
       "        vertical-align: middle;\n",
       "    }\n",
       "\n",
       "    .dataframe tbody tr th {\n",
       "        vertical-align: top;\n",
       "    }\n",
       "\n",
       "    .dataframe thead th {\n",
       "        text-align: right;\n",
       "    }\n",
       "</style>\n",
       "<table border=\"1\" class=\"dataframe\">\n",
       "  <thead>\n",
       "    <tr style=\"text-align: right;\">\n",
       "      <th></th>\n",
       "      <th>longitude</th>\n",
       "      <th>latitude</th>\n",
       "      <th>t</th>\n",
       "      <th>loc</th>\n",
       "      <th>o3</th>\n",
       "      <th>o3prod</th>\n",
       "      <th>o3loss</th>\n",
       "      <th>eminox</th>\n",
       "      <th>emivoc</th>\n",
       "      <th>tas</th>\n",
       "      <th>...</th>\n",
       "      <th>k_oh_no2</th>\n",
       "      <th>o3prod_mole</th>\n",
       "      <th>o3loss_mole</th>\n",
       "      <th>lossch4_mole</th>\n",
       "      <th>lossco_mole</th>\n",
       "      <th>k_ch3o2_ch3o2</th>\n",
       "      <th>ho2_mole</th>\n",
       "      <th>ratio_ho2_oh</th>\n",
       "      <th>P1</th>\n",
       "      <th>P1_frac</th>\n",
       "    </tr>\n",
       "  </thead>\n",
       "  <tbody>\n",
       "    <tr>\n",
       "      <th>0</th>\n",
       "      <td>1.0</td>\n",
       "      <td>-89.0</td>\n",
       "      <td>1.0</td>\n",
       "      <td>911.0</td>\n",
       "      <td>1.881623e-08</td>\n",
       "      <td>1.151662e-13</td>\n",
       "      <td>1.267580e-13</td>\n",
       "      <td>0.000000e+00</td>\n",
       "      <td>0.000000e+00</td>\n",
       "      <td>250.29199</td>\n",
       "      <td>...</td>\n",
       "      <td>6.500000e-11</td>\n",
       "      <td>69353.079618</td>\n",
       "      <td>76333.685666</td>\n",
       "      <td>53995.351269</td>\n",
       "      <td>92983.955620</td>\n",
       "      <td>4.427591e-13</td>\n",
       "      <td>6.505552e+07</td>\n",
       "      <td>57.086252</td>\n",
       "      <td>46762.753048</td>\n",
       "      <td>0.674271</td>\n",
       "    </tr>\n",
       "    <tr>\n",
       "      <th>1</th>\n",
       "      <td>3.0</td>\n",
       "      <td>-89.0</td>\n",
       "      <td>1.0</td>\n",
       "      <td>2911.0</td>\n",
       "      <td>1.881521e-08</td>\n",
       "      <td>1.150717e-13</td>\n",
       "      <td>1.264709e-13</td>\n",
       "      <td>0.000000e+00</td>\n",
       "      <td>0.000000e+00</td>\n",
       "      <td>250.12376</td>\n",
       "      <td>...</td>\n",
       "      <td>6.500000e-11</td>\n",
       "      <td>69296.171718</td>\n",
       "      <td>76160.775980</td>\n",
       "      <td>53872.504878</td>\n",
       "      <td>92919.417846</td>\n",
       "      <td>4.431936e-13</td>\n",
       "      <td>6.496410e+07</td>\n",
       "      <td>56.935796</td>\n",
       "      <td>46807.198692</td>\n",
       "      <td>0.675466</td>\n",
       "    </tr>\n",
       "    <tr>\n",
       "      <th>2</th>\n",
       "      <td>5.0</td>\n",
       "      <td>-89.0</td>\n",
       "      <td>1.0</td>\n",
       "      <td>4911.0</td>\n",
       "      <td>1.881329e-08</td>\n",
       "      <td>1.149488e-13</td>\n",
       "      <td>1.261420e-13</td>\n",
       "      <td>0.000000e+00</td>\n",
       "      <td>0.000000e+00</td>\n",
       "      <td>250.03404</td>\n",
       "      <td>...</td>\n",
       "      <td>6.500000e-11</td>\n",
       "      <td>69222.149294</td>\n",
       "      <td>75962.688312</td>\n",
       "      <td>53733.041380</td>\n",
       "      <td>92843.932076</td>\n",
       "      <td>4.434257e-13</td>\n",
       "      <td>6.489061e+07</td>\n",
       "      <td>56.828678</td>\n",
       "      <td>46828.843303</td>\n",
       "      <td>0.676501</td>\n",
       "    </tr>\n",
       "    <tr>\n",
       "      <th>3</th>\n",
       "      <td>7.0</td>\n",
       "      <td>-89.0</td>\n",
       "      <td>1.0</td>\n",
       "      <td>6911.0</td>\n",
       "      <td>1.881115e-08</td>\n",
       "      <td>1.147325e-13</td>\n",
       "      <td>1.257041e-13</td>\n",
       "      <td>0.000000e+00</td>\n",
       "      <td>0.000000e+00</td>\n",
       "      <td>249.96370</td>\n",
       "      <td>...</td>\n",
       "      <td>6.500000e-11</td>\n",
       "      <td>69091.911500</td>\n",
       "      <td>75698.996976</td>\n",
       "      <td>53544.016822</td>\n",
       "      <td>92682.837554</td>\n",
       "      <td>4.436079e-13</td>\n",
       "      <td>6.478059e+07</td>\n",
       "      <td>56.745930</td>\n",
       "      <td>46797.793916</td>\n",
       "      <td>0.677327</td>\n",
       "    </tr>\n",
       "    <tr>\n",
       "      <th>4</th>\n",
       "      <td>9.0</td>\n",
       "      <td>-89.0</td>\n",
       "      <td>1.0</td>\n",
       "      <td>8911.0</td>\n",
       "      <td>1.880953e-08</td>\n",
       "      <td>1.145785e-13</td>\n",
       "      <td>1.254009e-13</td>\n",
       "      <td>0.000000e+00</td>\n",
       "      <td>0.000000e+00</td>\n",
       "      <td>249.93759</td>\n",
       "      <td>...</td>\n",
       "      <td>6.500000e-11</td>\n",
       "      <td>68999.172700</td>\n",
       "      <td>75516.446068</td>\n",
       "      <td>53413.770597</td>\n",
       "      <td>92595.506510</td>\n",
       "      <td>4.436756e-13</td>\n",
       "      <td>6.472526e+07</td>\n",
       "      <td>56.671437</td>\n",
       "      <td>46793.889044</td>\n",
       "      <td>0.678180</td>\n",
       "    </tr>\n",
       "    <tr>\n",
       "      <th>...</th>\n",
       "      <td>...</td>\n",
       "      <td>...</td>\n",
       "      <td>...</td>\n",
       "      <td>...</td>\n",
       "      <td>...</td>\n",
       "      <td>...</td>\n",
       "      <td>...</td>\n",
       "      <td>...</td>\n",
       "      <td>...</td>\n",
       "      <td>...</td>\n",
       "      <td>...</td>\n",
       "      <td>...</td>\n",
       "      <td>...</td>\n",
       "      <td>...</td>\n",
       "      <td>...</td>\n",
       "      <td>...</td>\n",
       "      <td>...</td>\n",
       "      <td>...</td>\n",
       "      <td>...</td>\n",
       "      <td>...</td>\n",
       "      <td>...</td>\n",
       "    </tr>\n",
       "    <tr>\n",
       "      <th>971995</th>\n",
       "      <td>-9.0</td>\n",
       "      <td>89.0</td>\n",
       "      <td>60.0</td>\n",
       "      <td>-8911.0</td>\n",
       "      <td>4.140486e-08</td>\n",
       "      <td>3.237832e-16</td>\n",
       "      <td>9.027561e-16</td>\n",
       "      <td>1.136441e-13</td>\n",
       "      <td>2.367481e-16</td>\n",
       "      <td>254.84529</td>\n",
       "      <td>...</td>\n",
       "      <td>6.500000e-11</td>\n",
       "      <td>194.982267</td>\n",
       "      <td>543.639723</td>\n",
       "      <td>82.354909</td>\n",
       "      <td>372.117687</td>\n",
       "      <td>4.313719e-13</td>\n",
       "      <td>2.335621e+05</td>\n",
       "      <td>313.077256</td>\n",
       "      <td>2.749903</td>\n",
       "      <td>0.014103</td>\n",
       "    </tr>\n",
       "    <tr>\n",
       "      <th>971996</th>\n",
       "      <td>-7.0</td>\n",
       "      <td>89.0</td>\n",
       "      <td>60.0</td>\n",
       "      <td>-6911.0</td>\n",
       "      <td>4.140422e-08</td>\n",
       "      <td>3.260785e-16</td>\n",
       "      <td>9.182633e-16</td>\n",
       "      <td>9.444109e-14</td>\n",
       "      <td>1.967354e-16</td>\n",
       "      <td>254.86888</td>\n",
       "      <td>...</td>\n",
       "      <td>6.500000e-11</td>\n",
       "      <td>196.364473</td>\n",
       "      <td>552.978159</td>\n",
       "      <td>83.741053</td>\n",
       "      <td>378.688351</td>\n",
       "      <td>4.313147e-13</td>\n",
       "      <td>2.376725e+05</td>\n",
       "      <td>313.493601</td>\n",
       "      <td>2.747298</td>\n",
       "      <td>0.013991</td>\n",
       "    </tr>\n",
       "    <tr>\n",
       "      <th>971997</th>\n",
       "      <td>-5.0</td>\n",
       "      <td>89.0</td>\n",
       "      <td>60.0</td>\n",
       "      <td>-4911.0</td>\n",
       "      <td>4.140335e-08</td>\n",
       "      <td>2.955961e-16</td>\n",
       "      <td>8.787902e-16</td>\n",
       "      <td>2.331798e-17</td>\n",
       "      <td>0.000000e+00</td>\n",
       "      <td>254.89876</td>\n",
       "      <td>...</td>\n",
       "      <td>6.500000e-11</td>\n",
       "      <td>178.007989</td>\n",
       "      <td>529.207440</td>\n",
       "      <td>80.554301</td>\n",
       "      <td>363.073040</td>\n",
       "      <td>4.312423e-13</td>\n",
       "      <td>2.280103e+05</td>\n",
       "      <td>314.185277</td>\n",
       "      <td>2.323839</td>\n",
       "      <td>0.013055</td>\n",
       "    </tr>\n",
       "    <tr>\n",
       "      <th>971998</th>\n",
       "      <td>-3.0</td>\n",
       "      <td>89.0</td>\n",
       "      <td>60.0</td>\n",
       "      <td>-2911.0</td>\n",
       "      <td>4.140186e-08</td>\n",
       "      <td>2.996158e-16</td>\n",
       "      <td>8.724657e-16</td>\n",
       "      <td>2.333118e-14</td>\n",
       "      <td>4.856588e-17</td>\n",
       "      <td>254.92984</td>\n",
       "      <td>...</td>\n",
       "      <td>6.500000e-11</td>\n",
       "      <td>180.428605</td>\n",
       "      <td>525.398845</td>\n",
       "      <td>79.673192</td>\n",
       "      <td>360.314627</td>\n",
       "      <td>4.311670e-13</td>\n",
       "      <td>2.261492e+05</td>\n",
       "      <td>314.790694</td>\n",
       "      <td>2.425858</td>\n",
       "      <td>0.013445</td>\n",
       "    </tr>\n",
       "    <tr>\n",
       "      <th>971999</th>\n",
       "      <td>-1.0</td>\n",
       "      <td>89.0</td>\n",
       "      <td>60.0</td>\n",
       "      <td>-911.0</td>\n",
       "      <td>4.140026e-08</td>\n",
       "      <td>3.384585e-16</td>\n",
       "      <td>9.167659e-16</td>\n",
       "      <td>1.557176e-13</td>\n",
       "      <td>3.244153e-16</td>\n",
       "      <td>254.95494</td>\n",
       "      <td>...</td>\n",
       "      <td>6.500000e-11</td>\n",
       "      <td>203.819709</td>\n",
       "      <td>552.076425</td>\n",
       "      <td>83.190347</td>\n",
       "      <td>378.500603</td>\n",
       "      <td>4.311062e-13</td>\n",
       "      <td>2.372537e+05</td>\n",
       "      <td>315.057668</td>\n",
       "      <td>2.984058</td>\n",
       "      <td>0.014641</td>\n",
       "    </tr>\n",
       "  </tbody>\n",
       "</table>\n",
       "<p>972000 rows × 59 columns</p>\n",
       "</div>"
      ],
      "text/plain": [
       "        longitude  latitude     t     loc            o3        o3prod  \\\n",
       "0             1.0     -89.0   1.0   911.0  1.881623e-08  1.151662e-13   \n",
       "1             3.0     -89.0   1.0  2911.0  1.881521e-08  1.150717e-13   \n",
       "2             5.0     -89.0   1.0  4911.0  1.881329e-08  1.149488e-13   \n",
       "3             7.0     -89.0   1.0  6911.0  1.881115e-08  1.147325e-13   \n",
       "4             9.0     -89.0   1.0  8911.0  1.880953e-08  1.145785e-13   \n",
       "...           ...       ...   ...     ...           ...           ...   \n",
       "971995       -9.0      89.0  60.0 -8911.0  4.140486e-08  3.237832e-16   \n",
       "971996       -7.0      89.0  60.0 -6911.0  4.140422e-08  3.260785e-16   \n",
       "971997       -5.0      89.0  60.0 -4911.0  4.140335e-08  2.955961e-16   \n",
       "971998       -3.0      89.0  60.0 -2911.0  4.140186e-08  2.996158e-16   \n",
       "971999       -1.0      89.0  60.0  -911.0  4.140026e-08  3.384585e-16   \n",
       "\n",
       "              o3loss        eminox        emivoc        tas  ...  \\\n",
       "0       1.267580e-13  0.000000e+00  0.000000e+00  250.29199  ...   \n",
       "1       1.264709e-13  0.000000e+00  0.000000e+00  250.12376  ...   \n",
       "2       1.261420e-13  0.000000e+00  0.000000e+00  250.03404  ...   \n",
       "3       1.257041e-13  0.000000e+00  0.000000e+00  249.96370  ...   \n",
       "4       1.254009e-13  0.000000e+00  0.000000e+00  249.93759  ...   \n",
       "...              ...           ...           ...        ...  ...   \n",
       "971995  9.027561e-16  1.136441e-13  2.367481e-16  254.84529  ...   \n",
       "971996  9.182633e-16  9.444109e-14  1.967354e-16  254.86888  ...   \n",
       "971997  8.787902e-16  2.331798e-17  0.000000e+00  254.89876  ...   \n",
       "971998  8.724657e-16  2.333118e-14  4.856588e-17  254.92984  ...   \n",
       "971999  9.167659e-16  1.557176e-13  3.244153e-16  254.95494  ...   \n",
       "\n",
       "            k_oh_no2   o3prod_mole   o3loss_mole  lossch4_mole   lossco_mole  \\\n",
       "0       6.500000e-11  69353.079618  76333.685666  53995.351269  92983.955620   \n",
       "1       6.500000e-11  69296.171718  76160.775980  53872.504878  92919.417846   \n",
       "2       6.500000e-11  69222.149294  75962.688312  53733.041380  92843.932076   \n",
       "3       6.500000e-11  69091.911500  75698.996976  53544.016822  92682.837554   \n",
       "4       6.500000e-11  68999.172700  75516.446068  53413.770597  92595.506510   \n",
       "...              ...           ...           ...           ...           ...   \n",
       "971995  6.500000e-11    194.982267    543.639723     82.354909    372.117687   \n",
       "971996  6.500000e-11    196.364473    552.978159     83.741053    378.688351   \n",
       "971997  6.500000e-11    178.007989    529.207440     80.554301    363.073040   \n",
       "971998  6.500000e-11    180.428605    525.398845     79.673192    360.314627   \n",
       "971999  6.500000e-11    203.819709    552.076425     83.190347    378.500603   \n",
       "\n",
       "        k_ch3o2_ch3o2      ho2_mole  ratio_ho2_oh            P1   P1_frac  \n",
       "0        4.427591e-13  6.505552e+07     57.086252  46762.753048  0.674271  \n",
       "1        4.431936e-13  6.496410e+07     56.935796  46807.198692  0.675466  \n",
       "2        4.434257e-13  6.489061e+07     56.828678  46828.843303  0.676501  \n",
       "3        4.436079e-13  6.478059e+07     56.745930  46797.793916  0.677327  \n",
       "4        4.436756e-13  6.472526e+07     56.671437  46793.889044  0.678180  \n",
       "...               ...           ...           ...           ...       ...  \n",
       "971995   4.313719e-13  2.335621e+05    313.077256      2.749903  0.014103  \n",
       "971996   4.313147e-13  2.376725e+05    313.493601      2.747298  0.013991  \n",
       "971997   4.312423e-13  2.280103e+05    314.185277      2.323839  0.013055  \n",
       "971998   4.311670e-13  2.261492e+05    314.790694      2.425858  0.013445  \n",
       "971999   4.311062e-13  2.372537e+05    315.057668      2.984058  0.014641  \n",
       "\n",
       "[972000 rows x 59 columns]"
      ]
     },
     "execution_count": 19,
     "metadata": {},
     "output_type": "execute_result"
    }
   ],
   "source": [
    "data = data.drop(['a','b','c'], axis=1)\n",
    "data"
   ]
  },
  {
   "cell_type": "code",
   "execution_count": 20,
   "metadata": {},
   "outputs": [],
   "source": [
    "data.to_csv('/Volumes/Database/Research/C7 Multivariate analysis/MRI-ESM2-0_diag_2014(0319).csv', index = False)"
   ]
  }
 ],
 "metadata": {
  "kernelspec": {
   "display_name": "Python 3",
   "language": "python",
   "name": "python3"
  },
  "language_info": {
   "codemirror_mode": {
    "name": "ipython",
    "version": 3
   },
   "file_extension": ".py",
   "mimetype": "text/x-python",
   "name": "python",
   "nbconvert_exporter": "python",
   "pygments_lexer": "ipython3",
   "version": "3.8.5"
  }
 },
 "nbformat": 4,
 "nbformat_minor": 4
}
