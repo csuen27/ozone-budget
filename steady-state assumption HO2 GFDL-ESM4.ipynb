{
 "cells": [
  {
   "cell_type": "code",
   "execution_count": 1,
   "metadata": {},
   "outputs": [],
   "source": [
    "import warnings\n",
    "warnings.filterwarnings(\"ignore\")\n",
    "\n",
    "import pandas as pd\n",
    "import numpy as np\n",
    "import matplotlib as mpl\n",
    "import matplotlib.pyplot as plt\n",
    "\n",
    "from sklearn.metrics import r2_score as R2\n",
    "from sklearn.metrics import mean_squared_error as MSE"
   ]
  },
  {
   "cell_type": "code",
   "execution_count": 2,
   "metadata": {},
   "outputs": [],
   "source": [
    "data = pd.read_csv('/Volumes/Database/Research/C7 Multivariate analysis/GFDL-ESM4_diag_2014(0317).csv')"
   ]
  },
  {
   "cell_type": "code",
   "execution_count": 3,
   "metadata": {},
   "outputs": [],
   "source": [
    "country = pd.read_csv('/Users/csuen/Desktop/PhD/Maps/country_province_state_2*2.csv')\n",
    "data = data.merge(country, how = 'left', left_on = ['longitude','latitude'], right_on = ['longitude','latitude'])\n",
    "data = data.drop(['province','state'], axis=1)"
   ]
  },
  {
   "cell_type": "markdown",
   "metadata": {},
   "source": [
    "### First, converse the concentrations in ppb to molecules cm${^{-3}}$"
   ]
  },
  {
   "cell_type": "code",
   "execution_count": 4,
   "metadata": {},
   "outputs": [],
   "source": [
    "data['o3_mole'] = data['o3']*1.01325*10**5/data['tas']*7.243*10**7*(10**9)\n",
    "data['no_mole'] = data['no']*1.01325*10**5/data['tas']*7.243*10**7*(10**9)\n",
    "data['no2_mole'] = data['no2']*1.01325*10**5/data['tas']*7.243*10**7*(10**9)\n",
    "data['oh_mole'] = data['oh']*1.01325*10**5/data['tas']*7.243*10**7*(10**9)\n",
    "data['hno3_mole'] = data['hno3']*1.01325*10**5/data['tas']*7.243*10**7*(10**9)\n",
    "data['pan_mole'] = data['pan']*1.01325*10**5/data['tas']*7.243*10**7*(10**9)\n",
    "\n",
    "data['k_ho2_ho2'] = 2.2*10**(-13)*np.exp(600/data['tas'])\n",
    "data['k_oh_no2'] = 6.5*10**(-11)\n",
    "data['k_o1d_h2o'] = 2.14*10**(-10)\n",
    "\n",
    "data['o3prod_mole'] = data['o3prod']*6.022*10**17\n",
    "data['o3loss_mole'] = data['o3loss']*6.022*10**17\n",
    "\n",
    "data['lossch4_mole'] = data['lossch4']*6.022*10**17\n",
    "data['lossco_mole'] = data['lossco']*6.022*10**17\n",
    "data['k_ch3o2_ch3o2'] = 1.03*10**(-13)*np.exp(365/data['tas'])"
   ]
  },
  {
   "cell_type": "code",
   "execution_count": 5,
   "metadata": {},
   "outputs": [
    {
     "data": {
      "text/plain": [
       "8.561410403251648e-12"
      ]
     },
     "execution_count": 5,
     "metadata": {},
     "output_type": "execute_result"
    }
   ],
   "source": [
    "data['k_no_ho2'].median()"
   ]
  },
  {
   "cell_type": "code",
   "execution_count": 6,
   "metadata": {},
   "outputs": [
    {
     "data": {
      "text/plain": [
       "8.199165630340576e-12"
      ]
     },
     "execution_count": 6,
     "metadata": {},
     "output_type": "execute_result"
    }
   ],
   "source": [
    "data['k_no_ch3o2'].median()"
   ]
  },
  {
   "cell_type": "code",
   "execution_count": 7,
   "metadata": {},
   "outputs": [
    {
     "data": {
      "text/plain": [
       "6.151859760284424e-14"
      ]
     },
     "execution_count": 7,
     "metadata": {},
     "output_type": "execute_result"
    }
   ],
   "source": [
    "data['k_o3_oh'].median()"
   ]
  },
  {
   "cell_type": "code",
   "execution_count": 8,
   "metadata": {},
   "outputs": [
    {
     "data": {
      "text/plain": [
       "1.8025909995254195e-15"
      ]
     },
     "execution_count": 8,
     "metadata": {},
     "output_type": "execute_result"
    }
   ],
   "source": [
    "data['k_o3_ho2'].median()"
   ]
  },
  {
   "cell_type": "code",
   "execution_count": 9,
   "metadata": {},
   "outputs": [
    {
     "data": {
      "text/plain": [
       "3.7371995894389584e-13"
      ]
     },
     "execution_count": 9,
     "metadata": {},
     "output_type": "execute_result"
    }
   ],
   "source": [
    "data['k_ch3o2_ch3o2'].median()"
   ]
  },
  {
   "cell_type": "code",
   "execution_count": 10,
   "metadata": {},
   "outputs": [],
   "source": [
    "data['a'] = 2*data['k_ho2_ho2']\n",
    "data['b'] = data['k_o3_ho2']*data['o3_mole'] + data['k_no_ho2']*data['no_mole']\n",
    "data['c'] = -data['lossco_mole'] - data['k_o3_oh']*data['o3_mole']*data['oh_mole']"
   ]
  },
  {
   "cell_type": "code",
   "execution_count": 11,
   "metadata": {},
   "outputs": [],
   "source": [
    "data['ho2_mole'] = (-data['b'] + np.sqrt(data['b']**2 - 4*data['a']*data['c']))/(2*data['a'])"
   ]
  },
  {
   "cell_type": "code",
   "execution_count": 12,
   "metadata": {},
   "outputs": [
    {
     "data": {
      "text/plain": [
       "count    9.720000e+05\n",
       "mean     7.819105e+07\n",
       "std      8.553780e+07\n",
       "min      7.030353e+03\n",
       "25%      1.074628e+07\n",
       "50%      4.597495e+07\n",
       "75%      1.171130e+08\n",
       "max      4.880270e+08\n",
       "Name: ho2_mole, dtype: float64"
      ]
     },
     "execution_count": 12,
     "metadata": {},
     "output_type": "execute_result"
    }
   ],
   "source": [
    "data['ho2_mole'].describe()"
   ]
  },
  {
   "cell_type": "code",
   "execution_count": 13,
   "metadata": {},
   "outputs": [
    {
     "data": {
      "text/plain": [
       "count    9.720000e+05\n",
       "mean     9.021275e+05\n",
       "std      9.455746e+05\n",
       "min      3.652127e+01\n",
       "25%      1.292676e+05\n",
       "50%      6.191394e+05\n",
       "75%      1.431918e+06\n",
       "max      1.838665e+07\n",
       "Name: oh_mole, dtype: float64"
      ]
     },
     "execution_count": 13,
     "metadata": {},
     "output_type": "execute_result"
    }
   ],
   "source": [
    "data['oh_mole'].describe()"
   ]
  },
  {
   "cell_type": "code",
   "execution_count": 14,
   "metadata": {},
   "outputs": [
    {
     "data": {
      "text/plain": [
       "count    972000.000000\n",
       "mean        158.843528\n",
       "std         126.837121\n",
       "min           0.138275\n",
       "25%          54.243301\n",
       "50%         146.189126\n",
       "75%         227.288911\n",
       "max         891.296949\n",
       "Name: ratio_ho2_oh, dtype: float64"
      ]
     },
     "execution_count": 14,
     "metadata": {},
     "output_type": "execute_result"
    }
   ],
   "source": [
    "data['ratio_ho2_oh'] = data['ho2_mole']/data['oh_mole']\n",
    "data['ratio_ho2_oh'].describe()"
   ]
  },
  {
   "cell_type": "code",
   "execution_count": 15,
   "metadata": {},
   "outputs": [
    {
     "data": {
      "text/plain": [
       "count    972000.000000\n",
       "mean          0.466095\n",
       "std           0.241811\n",
       "min           0.003979\n",
       "25%           0.302577\n",
       "50%           0.486591\n",
       "75%           0.611504\n",
       "max           3.434336\n",
       "Name: P1_frac, dtype: float64"
      ]
     },
     "execution_count": 15,
     "metadata": {},
     "output_type": "execute_result"
    }
   ],
   "source": [
    "data['P1'] = data['k_no_ho2']*data['no_mole']*data['ho2_mole']\n",
    "data['P1_frac'] = data['P1']/data['o3prod_mole']\n",
    "data['P1_frac'].describe()"
   ]
  },
  {
   "cell_type": "code",
   "execution_count": 16,
   "metadata": {},
   "outputs": [
    {
     "data": {
      "image/png": "[encoded data removed]",
      "text/plain": [
       "<Figure size 432x288 with 2 Axes>"
      ]
     },
     "metadata": {
      "needs_background": "light"
     },
     "output_type": "display_data"
    }
   ],
   "source": [
    "data['loc'] = data['longitude']*1000 + data['latitude']\n",
    "data_land = data\n",
    "data_mean = data_land.groupby(['loc']).mean()\n",
    "\n",
    "cm = plt.cm.get_cmap('Blues')\n",
    "x = data_mean['longitude']\n",
    "y = data_mean['latitude']\n",
    "z = data_mean['P1_frac']\n",
    "sc = plt.scatter(x, y, c=z, marker=\"s\", vmin=0, vmax=0.5, s=3, cmap=cm)\n",
    "plt.xlim([-180, 180])\n",
    "plt.ylim([-90, 90])\n",
    "plt.colorbar(sc)\n",
    "plt.show()"
   ]
  },
  {
   "cell_type": "code",
   "execution_count": 17,
   "metadata": {},
   "outputs": [
    {
     "data": {
      "image/png": "[encoded data removed]",
      "text/plain": [
       "<Figure size 432x288 with 2 Axes>"
      ]
     },
     "metadata": {
      "needs_background": "light"
     },
     "output_type": "display_data"
    }
   ],
   "source": [
    "data['loc'] = data['longitude']*1000 + data['latitude']\n",
    "data_land = data\n",
    "data_mean = data_land.groupby(['loc']).mean()\n",
    "\n",
    "cm = plt.cm.get_cmap('Reds')\n",
    "x = data_mean['longitude']\n",
    "y = data_mean['latitude']\n",
    "z = data_mean['ho2_mole']*10**(-8)\n",
    "sc = plt.scatter(x, y, c=z, marker=\"s\", vmin=0, vmax=2.5, s=3, cmap=cm)\n",
    "plt.xlim([-180, 180])\n",
    "plt.ylim([-90, 90])\n",
    "plt.colorbar(sc)\n",
    "plt.show()"
   ]
  },
  {
   "cell_type": "code",
   "execution_count": 25,
   "metadata": {},
   "outputs": [
    {
     "data": {
      "text/plain": [
       "count    972000.000000\n",
       "mean          0.002922\n",
       "std           0.598571\n",
       "min         -14.037569\n",
       "25%          -0.293629\n",
       "50%           0.051743\n",
       "75%           0.335310\n",
       "max           0.976786\n",
       "Name: P3_frac, dtype: float64"
      ]
     },
     "execution_count": 25,
     "metadata": {},
     "output_type": "execute_result"
    }
   ],
   "source": [
    "data['P3'] = data['o3prod_mole'] - data['P1'] - data['P2']\n",
    "data['P3_frac'] = data['P3']/data['o3prod_mole']\n",
    "data['P3_frac'].describe()"
   ]
  },
  {
   "cell_type": "code",
   "execution_count": 18,
   "metadata": {},
   "outputs": [
    {
     "data": {
      "text/html": [
       "<div>\n",
       "<style scoped>\n",
       "    .dataframe tbody tr th:only-of-type {\n",
       "        vertical-align: middle;\n",
       "    }\n",
       "\n",
       "    .dataframe tbody tr th {\n",
       "        vertical-align: top;\n",
       "    }\n",
       "\n",
       "    .dataframe thead th {\n",
       "        text-align: right;\n",
       "    }\n",
       "</style>\n",
       "<table border=\"1\" class=\"dataframe\">\n",
       "  <thead>\n",
       "    <tr style=\"text-align: right;\">\n",
       "      <th></th>\n",
       "      <th>longitude</th>\n",
       "      <th>latitude</th>\n",
       "      <th>t</th>\n",
       "      <th>loc</th>\n",
       "      <th>o3</th>\n",
       "      <th>o3prod</th>\n",
       "      <th>o3loss</th>\n",
       "      <th>emivoc</th>\n",
       "      <th>eminox</th>\n",
       "      <th>tas</th>\n",
       "      <th>...</th>\n",
       "      <th>ratio_ch3o2_oh</th>\n",
       "      <th>P2</th>\n",
       "      <th>P2_frac</th>\n",
       "      <th>P5</th>\n",
       "      <th>P5_frac</th>\n",
       "      <th>lossco_mole</th>\n",
       "      <th>ho2_mole</th>\n",
       "      <th>ratio_ho2_oh</th>\n",
       "      <th>P1</th>\n",
       "      <th>P1_frac</th>\n",
       "    </tr>\n",
       "  </thead>\n",
       "  <tbody>\n",
       "    <tr>\n",
       "      <th>0</th>\n",
       "      <td>1.0</td>\n",
       "      <td>-89.0</td>\n",
       "      <td>1.0</td>\n",
       "      <td>911.0</td>\n",
       "      <td>1.809749e-08</td>\n",
       "      <td>5.713640e-14</td>\n",
       "      <td>7.210932e-14</td>\n",
       "      <td>0.0</td>\n",
       "      <td>4.642811e-17</td>\n",
       "      <td>241.67470</td>\n",
       "      <td>...</td>\n",
       "      <td>66.542485</td>\n",
       "      <td>18385.411743</td>\n",
       "      <td>0.534342</td>\n",
       "      <td>9047.459428</td>\n",
       "      <td>0.208350</td>\n",
       "      <td>73033.888612</td>\n",
       "      <td>5.190974e+07</td>\n",
       "      <td>109.646240</td>\n",
       "      <td>29951.759798</td>\n",
       "      <td>0.870500</td>\n",
       "    </tr>\n",
       "    <tr>\n",
       "      <th>1</th>\n",
       "      <td>3.0</td>\n",
       "      <td>-89.0</td>\n",
       "      <td>1.0</td>\n",
       "      <td>2911.0</td>\n",
       "      <td>1.809673e-08</td>\n",
       "      <td>5.712156e-14</td>\n",
       "      <td>7.206955e-14</td>\n",
       "      <td>0.0</td>\n",
       "      <td>4.575431e-17</td>\n",
       "      <td>241.61029</td>\n",
       "      <td>...</td>\n",
       "      <td>66.442818</td>\n",
       "      <td>18377.773569</td>\n",
       "      <td>0.534259</td>\n",
       "      <td>9041.853762</td>\n",
       "      <td>0.208336</td>\n",
       "      <td>73005.266046</td>\n",
       "      <td>5.187812e+07</td>\n",
       "      <td>109.558368</td>\n",
       "      <td>29957.222913</td>\n",
       "      <td>0.870885</td>\n",
       "    </tr>\n",
       "    <tr>\n",
       "      <th>2</th>\n",
       "      <td>5.0</td>\n",
       "      <td>-89.0</td>\n",
       "      <td>1.0</td>\n",
       "      <td>4911.0</td>\n",
       "      <td>1.809596e-08</td>\n",
       "      <td>5.710639e-14</td>\n",
       "      <td>7.202893e-14</td>\n",
       "      <td>0.0</td>\n",
       "      <td>4.506594e-17</td>\n",
       "      <td>241.54594</td>\n",
       "      <td>...</td>\n",
       "      <td>66.342414</td>\n",
       "      <td>18369.948055</td>\n",
       "      <td>0.534174</td>\n",
       "      <td>9036.231687</td>\n",
       "      <td>0.208324</td>\n",
       "      <td>72976.023214</td>\n",
       "      <td>5.184609e+07</td>\n",
       "      <td>109.469864</td>\n",
       "      <td>29962.580776</td>\n",
       "      <td>0.871272</td>\n",
       "    </tr>\n",
       "    <tr>\n",
       "      <th>3</th>\n",
       "      <td>7.0</td>\n",
       "      <td>-89.0</td>\n",
       "      <td>1.0</td>\n",
       "      <td>6911.0</td>\n",
       "      <td>1.809518e-08</td>\n",
       "      <td>5.709094e-14</td>\n",
       "      <td>7.198753e-14</td>\n",
       "      <td>0.0</td>\n",
       "      <td>4.436449e-17</td>\n",
       "      <td>241.48166</td>\n",
       "      <td>...</td>\n",
       "      <td>66.241407</td>\n",
       "      <td>18361.956147</td>\n",
       "      <td>0.534086</td>\n",
       "      <td>9030.592914</td>\n",
       "      <td>0.208314</td>\n",
       "      <td>72946.238402</td>\n",
       "      <td>5.181372e+07</td>\n",
       "      <td>109.380832</td>\n",
       "      <td>29967.845454</td>\n",
       "      <td>0.871661</td>\n",
       "    </tr>\n",
       "    <tr>\n",
       "      <th>4</th>\n",
       "      <td>9.0</td>\n",
       "      <td>-89.0</td>\n",
       "      <td>1.0</td>\n",
       "      <td>8911.0</td>\n",
       "      <td>1.809437e-08</td>\n",
       "      <td>5.707516e-14</td>\n",
       "      <td>7.194526e-14</td>\n",
       "      <td>0.0</td>\n",
       "      <td>4.364817e-17</td>\n",
       "      <td>241.41748</td>\n",
       "      <td>...</td>\n",
       "      <td>66.139700</td>\n",
       "      <td>18353.771549</td>\n",
       "      <td>0.533995</td>\n",
       "      <td>9024.936569</td>\n",
       "      <td>0.208306</td>\n",
       "      <td>72915.803214</td>\n",
       "      <td>5.178093e+07</td>\n",
       "      <td>109.291168</td>\n",
       "      <td>29972.990408</td>\n",
       "      <td>0.872052</td>\n",
       "    </tr>\n",
       "    <tr>\n",
       "      <th>...</th>\n",
       "      <td>...</td>\n",
       "      <td>...</td>\n",
       "      <td>...</td>\n",
       "      <td>...</td>\n",
       "      <td>...</td>\n",
       "      <td>...</td>\n",
       "      <td>...</td>\n",
       "      <td>...</td>\n",
       "      <td>...</td>\n",
       "      <td>...</td>\n",
       "      <td>...</td>\n",
       "      <td>...</td>\n",
       "      <td>...</td>\n",
       "      <td>...</td>\n",
       "      <td>...</td>\n",
       "      <td>...</td>\n",
       "      <td>...</td>\n",
       "      <td>...</td>\n",
       "      <td>...</td>\n",
       "      <td>...</td>\n",
       "      <td>...</td>\n",
       "    </tr>\n",
       "    <tr>\n",
       "      <th>971995</th>\n",
       "      <td>-9.0</td>\n",
       "      <td>89.0</td>\n",
       "      <td>60.0</td>\n",
       "      <td>-8911.0</td>\n",
       "      <td>3.021567e-08</td>\n",
       "      <td>6.217139e-16</td>\n",
       "      <td>6.243434e-14</td>\n",
       "      <td>0.0</td>\n",
       "      <td>7.853882e-13</td>\n",
       "      <td>240.51016</td>\n",
       "      <td>...</td>\n",
       "      <td>5.455662</td>\n",
       "      <td>89.751655</td>\n",
       "      <td>0.239724</td>\n",
       "      <td>31.617429</td>\n",
       "      <td>0.000841</td>\n",
       "      <td>849.904492</td>\n",
       "      <td>5.074200e+04</td>\n",
       "      <td>50.494623</td>\n",
       "      <td>819.806307</td>\n",
       "      <td>2.189676</td>\n",
       "    </tr>\n",
       "    <tr>\n",
       "      <th>971996</th>\n",
       "      <td>-7.0</td>\n",
       "      <td>89.0</td>\n",
       "      <td>60.0</td>\n",
       "      <td>-6911.0</td>\n",
       "      <td>3.021529e-08</td>\n",
       "      <td>6.242805e-16</td>\n",
       "      <td>6.259491e-14</td>\n",
       "      <td>0.0</td>\n",
       "      <td>7.908349e-13</td>\n",
       "      <td>240.53856</td>\n",
       "      <td>...</td>\n",
       "      <td>5.422428</td>\n",
       "      <td>90.016527</td>\n",
       "      <td>0.239443</td>\n",
       "      <td>31.715378</td>\n",
       "      <td>0.000841</td>\n",
       "      <td>852.393806</td>\n",
       "      <td>5.059151e+04</td>\n",
       "      <td>50.205982</td>\n",
       "      <td>822.572438</td>\n",
       "      <td>2.188032</td>\n",
       "    </tr>\n",
       "    <tr>\n",
       "      <th>971997</th>\n",
       "      <td>-5.0</td>\n",
       "      <td>89.0</td>\n",
       "      <td>60.0</td>\n",
       "      <td>-4911.0</td>\n",
       "      <td>3.021489e-08</td>\n",
       "      <td>6.269057e-16</td>\n",
       "      <td>6.275914e-14</td>\n",
       "      <td>0.0</td>\n",
       "      <td>7.964060e-13</td>\n",
       "      <td>240.56699</td>\n",
       "      <td>...</td>\n",
       "      <td>5.388836</td>\n",
       "      <td>90.287463</td>\n",
       "      <td>0.239158</td>\n",
       "      <td>31.815442</td>\n",
       "      <td>0.000842</td>\n",
       "      <td>854.939907</td>\n",
       "      <td>5.043928e+04</td>\n",
       "      <td>49.913985</td>\n",
       "      <td>825.399584</td>\n",
       "      <td>2.186358</td>\n",
       "    </tr>\n",
       "    <tr>\n",
       "      <th>971998</th>\n",
       "      <td>-3.0</td>\n",
       "      <td>89.0</td>\n",
       "      <td>60.0</td>\n",
       "      <td>-2911.0</td>\n",
       "      <td>3.021450e-08</td>\n",
       "      <td>6.295834e-16</td>\n",
       "      <td>6.292666e-14</td>\n",
       "      <td>0.0</td>\n",
       "      <td>8.020886e-13</td>\n",
       "      <td>240.59546</td>\n",
       "      <td>...</td>\n",
       "      <td>5.354986</td>\n",
       "      <td>90.563819</td>\n",
       "      <td>0.238869</td>\n",
       "      <td>31.917432</td>\n",
       "      <td>0.000842</td>\n",
       "      <td>857.537015</td>\n",
       "      <td>5.028582e+04</td>\n",
       "      <td>49.619536</td>\n",
       "      <td>828.281223</td>\n",
       "      <td>2.184660</td>\n",
       "    </tr>\n",
       "    <tr>\n",
       "      <th>971999</th>\n",
       "      <td>-1.0</td>\n",
       "      <td>89.0</td>\n",
       "      <td>60.0</td>\n",
       "      <td>-911.0</td>\n",
       "      <td>3.021409e-08</td>\n",
       "      <td>6.323210e-16</td>\n",
       "      <td>6.309792e-14</td>\n",
       "      <td>0.0</td>\n",
       "      <td>8.078980e-13</td>\n",
       "      <td>240.62396</td>\n",
       "      <td>...</td>\n",
       "      <td>5.320803</td>\n",
       "      <td>90.846329</td>\n",
       "      <td>0.238577</td>\n",
       "      <td>32.021580</td>\n",
       "      <td>0.000843</td>\n",
       "      <td>860.192055</td>\n",
       "      <td>5.013076e+04</td>\n",
       "      <td>49.321966</td>\n",
       "      <td>831.224921</td>\n",
       "      <td>2.182932</td>\n",
       "    </tr>\n",
       "  </tbody>\n",
       "</table>\n",
       "<p>972000 rows × 63 columns</p>\n",
       "</div>"
      ],
      "text/plain": [
       "        longitude  latitude     t     loc            o3        o3prod  \\\n",
       "0             1.0     -89.0   1.0   911.0  1.809749e-08  5.713640e-14   \n",
       "1             3.0     -89.0   1.0  2911.0  1.809673e-08  5.712156e-14   \n",
       "2             5.0     -89.0   1.0  4911.0  1.809596e-08  5.710639e-14   \n",
       "3             7.0     -89.0   1.0  6911.0  1.809518e-08  5.709094e-14   \n",
       "4             9.0     -89.0   1.0  8911.0  1.809437e-08  5.707516e-14   \n",
       "...           ...       ...   ...     ...           ...           ...   \n",
       "971995       -9.0      89.0  60.0 -8911.0  3.021567e-08  6.217139e-16   \n",
       "971996       -7.0      89.0  60.0 -6911.0  3.021529e-08  6.242805e-16   \n",
       "971997       -5.0      89.0  60.0 -4911.0  3.021489e-08  6.269057e-16   \n",
       "971998       -3.0      89.0  60.0 -2911.0  3.021450e-08  6.295834e-16   \n",
       "971999       -1.0      89.0  60.0  -911.0  3.021409e-08  6.323210e-16   \n",
       "\n",
       "              o3loss  emivoc        eminox        tas  ...  ratio_ch3o2_oh  \\\n",
       "0       7.210932e-14     0.0  4.642811e-17  241.67470  ...       66.542485   \n",
       "1       7.206955e-14     0.0  4.575431e-17  241.61029  ...       66.442818   \n",
       "2       7.202893e-14     0.0  4.506594e-17  241.54594  ...       66.342414   \n",
       "3       7.198753e-14     0.0  4.436449e-17  241.48166  ...       66.241407   \n",
       "4       7.194526e-14     0.0  4.364817e-17  241.41748  ...       66.139700   \n",
       "...              ...     ...           ...        ...  ...             ...   \n",
       "971995  6.243434e-14     0.0  7.853882e-13  240.51016  ...        5.455662   \n",
       "971996  6.259491e-14     0.0  7.908349e-13  240.53856  ...        5.422428   \n",
       "971997  6.275914e-14     0.0  7.964060e-13  240.56699  ...        5.388836   \n",
       "971998  6.292666e-14     0.0  8.020886e-13  240.59546  ...        5.354986   \n",
       "971999  6.309792e-14     0.0  8.078980e-13  240.62396  ...        5.320803   \n",
       "\n",
       "                  P2   P2_frac           P5   P5_frac   lossco_mole  \\\n",
       "0       18385.411743  0.534342  9047.459428  0.208350  73033.888612   \n",
       "1       18377.773569  0.534259  9041.853762  0.208336  73005.266046   \n",
       "2       18369.948055  0.534174  9036.231687  0.208324  72976.023214   \n",
       "3       18361.956147  0.534086  9030.592914  0.208314  72946.238402   \n",
       "4       18353.771549  0.533995  9024.936569  0.208306  72915.803214   \n",
       "...              ...       ...          ...       ...           ...   \n",
       "971995     89.751655  0.239724    31.617429  0.000841    849.904492   \n",
       "971996     90.016527  0.239443    31.715378  0.000841    852.393806   \n",
       "971997     90.287463  0.239158    31.815442  0.000842    854.939907   \n",
       "971998     90.563819  0.238869    31.917432  0.000842    857.537015   \n",
       "971999     90.846329  0.238577    32.021580  0.000843    860.192055   \n",
       "\n",
       "            ho2_mole  ratio_ho2_oh            P1   P1_frac  \n",
       "0       5.190974e+07    109.646240  29951.759798  0.870500  \n",
       "1       5.187812e+07    109.558368  29957.222913  0.870885  \n",
       "2       5.184609e+07    109.469864  29962.580776  0.871272  \n",
       "3       5.181372e+07    109.380832  29967.845454  0.871661  \n",
       "4       5.178093e+07    109.291168  29972.990408  0.872052  \n",
       "...              ...           ...           ...       ...  \n",
       "971995  5.074200e+04     50.494623    819.806307  2.189676  \n",
       "971996  5.059151e+04     50.205982    822.572438  2.188032  \n",
       "971997  5.043928e+04     49.913985    825.399584  2.186358  \n",
       "971998  5.028582e+04     49.619536    828.281223  2.184660  \n",
       "971999  5.013076e+04     49.321966    831.224921  2.182932  \n",
       "\n",
       "[972000 rows x 63 columns]"
      ]
     },
     "execution_count": 18,
     "metadata": {},
     "output_type": "execute_result"
    }
   ],
   "source": [
    "data = data.drop(['a','b','c','country_y'], axis=1)\n",
    "data = data.rename(columns={'country_x':'country'})\n",
    "data"
   ]
  },
  {
   "cell_type": "code",
   "execution_count": 19,
   "metadata": {},
   "outputs": [
    {
     "data": {
      "text/plain": [
       "['longitude',\n",
       " 'latitude',\n",
       " 't',\n",
       " 'loc',\n",
       " 'o3',\n",
       " 'o3prod',\n",
       " 'o3loss',\n",
       " 'emivoc',\n",
       " 'eminox',\n",
       " 'tas',\n",
       " 'hus',\n",
       " 'aod',\n",
       " 'bldep',\n",
       " 'ua',\n",
       " 'va',\n",
       " 'jno2',\n",
       " 'photo1d',\n",
       " 'lossch4',\n",
       " 'lossco',\n",
       " 'no2',\n",
       " 'no',\n",
       " 'oh',\n",
       " 'pan',\n",
       " 'hno3',\n",
       " 'k_no_ho2',\n",
       " 'k_no_ch3o2',\n",
       " 'k_o1d_h2o',\n",
       " 'k_o3_ho2',\n",
       " 'k_o3_oh',\n",
       " 'K1_NO_HO2',\n",
       " 'K1_NO_CH3O2',\n",
       " 'K1_O1D_H2O',\n",
       " 'K1_O3_OH',\n",
       " 'K1_O3_HO2',\n",
       " 'K2_NO_HO2',\n",
       " 'K2_NO_CH3O2',\n",
       " 'K2_O1D_H2O',\n",
       " 'K2_O3_OH',\n",
       " 'K2_O3_HO2',\n",
       " 'country',\n",
       " 'o3_mole',\n",
       " 'no_mole',\n",
       " 'no2_mole',\n",
       " 'oh_mole',\n",
       " 'hno3_mole',\n",
       " 'pan_mole',\n",
       " 'k_ho2_ho2',\n",
       " 'k_oh_no2',\n",
       " 'o3prod_mole',\n",
       " 'o3loss_mole',\n",
       " 'lossch4_mole',\n",
       " 'k_ch3o2_ch3o2',\n",
       " 'ch3o2_mole',\n",
       " 'ratio_ch3o2_oh',\n",
       " 'P2',\n",
       " 'P2_frac',\n",
       " 'P5',\n",
       " 'P5_frac',\n",
       " 'lossco_mole',\n",
       " 'ho2_mole',\n",
       " 'ratio_ho2_oh',\n",
       " 'P1',\n",
       " 'P1_frac']"
      ]
     },
     "execution_count": 19,
     "metadata": {},
     "output_type": "execute_result"
    }
   ],
   "source": [
    "list(data)"
   ]
  },
  {
   "cell_type": "code",
   "execution_count": 20,
   "metadata": {},
   "outputs": [],
   "source": [
    "data['P6'] = data['k_o3_ho2']*data['o3_mole']*data['ho2_mole']\n",
    "data['P6_frac'] = data['P6']/data['o3loss_mole']"
   ]
  },
  {
   "cell_type": "code",
   "execution_count": 23,
   "metadata": {},
   "outputs": [
    {
     "data": {
      "text/plain": [
       "count    972000.000000\n",
       "mean          1.803357\n",
       "std           1.948743\n",
       "min           0.009571\n",
       "25%           0.610200\n",
       "50%           1.323061\n",
       "75%           2.519464\n",
       "max         158.745389\n",
       "Name: ratio_P1_P2, dtype: float64"
      ]
     },
     "execution_count": 23,
     "metadata": {},
     "output_type": "execute_result"
    }
   ],
   "source": [
    "data['ratio_P1_P2'] = data['P1']/data['P2']\n",
    "data['ratio_P1_P2'].describe()"
   ]
  },
  {
   "cell_type": "code",
   "execution_count": 21,
   "metadata": {},
   "outputs": [
    {
     "data": {
      "text/plain": [
       "count    972000.000000\n",
       "mean          1.321726\n",
       "std           4.737419\n",
       "min           0.027476\n",
       "25%           0.135068\n",
       "50%           0.226474\n",
       "75%           0.639242\n",
       "max         244.414062\n",
       "Name: ratio_P5_P6, dtype: float64"
      ]
     },
     "execution_count": 21,
     "metadata": {},
     "output_type": "execute_result"
    }
   ],
   "source": [
    "data['ratio_P5_P6'] = data['P5']/data['P6']\n",
    "data['ratio_P5_P6'].describe()"
   ]
  },
  {
   "cell_type": "code",
   "execution_count": 28,
   "metadata": {},
   "outputs": [],
   "source": [
    "data.to_csv('/Volumes/Database/Research/C7 Multivariate analysis/GFDL-ESM4_diag_2014(0318).csv', index = False)"
   ]
  },
  {
   "cell_type": "code",
   "execution_count": 26,
   "metadata": {},
   "outputs": [],
   "source": [
    "data_land = data.dropna()\n",
    "ratio_P1_P2 = data_land['ratio_P1_P2'].median()\n",
    "ratio_P5_P6 = data_land['ratio_P5_P6'].median()\n",
    "P1_frac = data_land['P1_frac'].mean()\n",
    "P2_frac = data_land['P2_frac'].mean()\n",
    "P3_frac = data_land['P3_frac'].mean()\n",
    "P5_frac = data_land['P5_frac'].mean()\n",
    "P6_frac = data_land['P6_frac'].mean()\n",
    "ratio_ho2_oh = data_land['ratio_ho2_oh'].median()\n",
    "ratio_ch3o2_oh = data_land['ratio_ch3o2_oh'].median()"
   ]
  },
  {
   "cell_type": "code",
   "execution_count": 27,
   "metadata": {},
   "outputs": [
    {
     "name": "stdout",
     "output_type": "stream",
     "text": [
      "P1 fraction:    0.37\n",
      "P2 fraction:    0.33\n",
      "P3 fraction:    0.3\n",
      "P5 fraction:    0.09\n",
      "P6 fraction:    0.3\n",
      "P1:P2 ratio:    2.44\n",
      "P5:P6 ratio:    0.6\n",
      "HO₂:OH ratio:   56.7\n",
      "CH₃O₂:OH ratio: 21.6\n"
     ]
    }
   ],
   "source": [
    "print(\"P1 fraction:    \"+str(np.round(P1_frac,2)))\n",
    "print(\"P2 fraction:    \"+str(np.round(P2_frac,2)))\n",
    "print(\"P3 fraction:    \"+str(np.round(P3_frac,2)))\n",
    "print(\"P5 fraction:    \"+str(np.round(P5_frac,2)))\n",
    "print(\"P6 fraction:    \"+str(np.round(P6_frac,2)))\n",
    "print(\"P1:P2 ratio:    \"+str(np.round(ratio_P1_P2,2)))\n",
    "print(\"P5:P6 ratio:    \"+str(np.round(ratio_P5_P6,2)))\n",
    "print(\"HO\\u2082:OH ratio:   \"+str(np.round(ratio_ho2_oh,1)))\n",
    "print(\"CH\\u2083O\\u2082:OH ratio: \"+str(np.round(ratio_ch3o2_oh,1)))"
   ]
  },
  {
   "cell_type": "code",
   "execution_count": null,
   "metadata": {},
   "outputs": [],
   "source": []
  }
 ],
 "metadata": {
  "kernelspec": {
   "display_name": "Python 3",
   "language": "python",
   "name": "python3"
  },
  "language_info": {
   "codemirror_mode": {
    "name": "ipython",
    "version": 3
   },
   "file_extension": ".py",
   "mimetype": "text/x-python",
   "name": "python",
   "nbconvert_exporter": "python",
   "pygments_lexer": "ipython3",
   "version": "3.8.5"
  }
 },
 "nbformat": 4,
 "nbformat_minor": 4
}
