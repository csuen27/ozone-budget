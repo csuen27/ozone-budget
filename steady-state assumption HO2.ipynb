{
 "cells": [
  {
   "cell_type": "code",
   "execution_count": 1,
   "metadata": {},
   "outputs": [],
   "source": [
    "import warnings\n",
    "warnings.filterwarnings(\"ignore\")\n",
    "\n",
    "import pandas as pd\n",
    "import numpy as np\n",
    "import matplotlib as mpl\n",
    "import matplotlib.pyplot as plt\n",
    "\n",
    "from sklearn.metrics import r2_score as R2\n",
    "from sklearn.metrics import mean_squared_error as MSE"
   ]
  },
  {
   "cell_type": "code",
   "execution_count": 2,
   "metadata": {},
   "outputs": [],
   "source": [
    "data = pd.read_csv('/Volumes/Database/Research/C7 Multivariate analysis/UKESM1-0-LL_diag_2014(0301).csv')"
   ]
  },
  {
   "cell_type": "code",
   "execution_count": 3,
   "metadata": {},
   "outputs": [],
   "source": [
    "country = pd.read_csv('/Users/csuen/Desktop/PhD/Maps/country_province_state_2*2.csv')\n",
    "data = data.merge(country, how = 'left', left_on = ['longitude','latitude'], right_on = ['longitude','latitude'])\n",
    "data = data.drop(['province','state'], axis=1)"
   ]
  },
  {
   "cell_type": "markdown",
   "metadata": {},
   "source": [
    "### First, converse the concentrations in ppb to molecules cm${^{-3}}$"
   ]
  },
  {
   "cell_type": "code",
   "execution_count": 4,
   "metadata": {},
   "outputs": [],
   "source": [
    "data['o3_mole'] = data['o3']*1.01325*10**5/data['tas']*7.243*10**7*(10**9)\n",
    "data['no_mole'] = data['no']*1.01325*10**5/data['tas']*7.243*10**7*(10**9)\n",
    "data['no2_mole'] = data['no2']*1.01325*10**5/data['tas']*7.243*10**7*(10**9)\n",
    "data['oh_mole'] = data['oh']*1.01325*10**5/data['tas']*7.243*10**7*(10**9)\n",
    "data['h2o_mole'] = data['h2o']*1.01325*10**5/data['tas']*7.243*10**7*(10**9)\n",
    "data['hno3_mole'] = data['hno3']*1.01325*10**5/data['tas']*7.243*10**7*(10**9)\n",
    "data['pan_mole'] = data['pan']*1.01325*10**5/data['tas']*7.243*10**7*(10**9)\n",
    "\n",
    "data['k_ho2_ho2'] = 2.2*10**(-13)*np.exp(600/data['tas'])\n",
    "data['k_oh_no2'] = 6.5*10**(-11)\n",
    "data['k_o1d_h2o'] = 2.14*10**(-10)\n",
    "\n",
    "data['o3prod_mole'] = data['o3prod']*6.022*10**17\n",
    "data['o3loss_mole'] = data['o3loss']*6.022*10**17\n",
    "\n",
    "data['lossch4_mole'] = data['lossch4']*6.022*10**17\n",
    "data['lossco_mole'] = data['lossco']*6.022*10**17\n",
    "data['k_ch3o2_ch3o2'] = 1.03*10**(-13)*np.exp(365/data['tas'])"
   ]
  },
  {
   "cell_type": "code",
   "execution_count": 5,
   "metadata": {},
   "outputs": [
    {
     "data": {
      "text/plain": [
       "8.555249512195587e-12"
      ]
     },
     "execution_count": 5,
     "metadata": {},
     "output_type": "execute_result"
    }
   ],
   "source": [
    "data['k_no_ho2'].median()"
   ]
  },
  {
   "cell_type": "code",
   "execution_count": 6,
   "metadata": {},
   "outputs": [
    {
     "data": {
      "text/plain": [
       "8.191299915313723e-12"
      ]
     },
     "execution_count": 6,
     "metadata": {},
     "output_type": "execute_result"
    }
   ],
   "source": [
    "data['k_no_ch3o2'].median()"
   ]
  },
  {
   "cell_type": "code",
   "execution_count": 7,
   "metadata": {},
   "outputs": [
    {
     "data": {
      "text/plain": [
       "6.167295798659324e-14"
      ]
     },
     "execution_count": 7,
     "metadata": {},
     "output_type": "execute_result"
    }
   ],
   "source": [
    "data['k_o3_oh'].median()"
   ]
  },
  {
   "cell_type": "code",
   "execution_count": 8,
   "metadata": {},
   "outputs": [
    {
     "data": {
      "text/plain": [
       "1.805485290327477e-15"
      ]
     },
     "execution_count": 8,
     "metadata": {},
     "output_type": "execute_result"
    }
   ],
   "source": [
    "data['k_o3_ho2'].median()"
   ]
  },
  {
   "cell_type": "code",
   "execution_count": 9,
   "metadata": {},
   "outputs": [
    {
     "data": {
      "text/plain": [
       "3.733564591122371e-13"
      ]
     },
     "execution_count": 9,
     "metadata": {},
     "output_type": "execute_result"
    }
   ],
   "source": [
    "data['k_ch3o2_ch3o2'].median()"
   ]
  },
  {
   "cell_type": "code",
   "execution_count": 10,
   "metadata": {},
   "outputs": [],
   "source": [
    "data['a'] = 2*data['k_ho2_ho2']\n",
    "data['b'] = data['k_o3_ho2']*data['o3_mole'] + data['k_no_ho2']*data['no_mole']\n",
    "data['c'] = -data['lossco_mole'] - data['k_o3_oh']*data['o3_mole']*data['oh_mole']"
   ]
  },
  {
   "cell_type": "code",
   "execution_count": 11,
   "metadata": {},
   "outputs": [],
   "source": [
    "data['ho2_mole'] = (-data['b'] + np.sqrt(data['b']**2 - 4*data['a']*data['c']))/(2*data['a'])"
   ]
  },
  {
   "cell_type": "code",
   "execution_count": 12,
   "metadata": {},
   "outputs": [
    {
     "data": {
      "text/plain": [
       "count    9.720000e+05\n",
       "mean     8.845792e+07\n",
       "std      9.758661e+07\n",
       "min      4.667673e-01\n",
       "25%      7.867536e+06\n",
       "50%      5.037379e+07\n",
       "75%      1.424472e+08\n",
       "max      6.021570e+08\n",
       "Name: ho2_mole, dtype: float64"
      ]
     },
     "execution_count": 12,
     "metadata": {},
     "output_type": "execute_result"
    }
   ],
   "source": [
    "data['ho2_mole'].describe()"
   ]
  },
  {
   "cell_type": "code",
   "execution_count": 13,
   "metadata": {},
   "outputs": [
    {
     "data": {
      "text/plain": [
       "count    9.720000e+05\n",
       "mean     1.088914e+06\n",
       "std      1.130226e+06\n",
       "min      8.017235e-01\n",
       "25%      1.339569e+05\n",
       "50%      7.041921e+05\n",
       "75%      1.813829e+06\n",
       "max      9.615703e+06\n",
       "Name: oh_mole, dtype: float64"
      ]
     },
     "execution_count": 13,
     "metadata": {},
     "output_type": "execute_result"
    }
   ],
   "source": [
    "data['oh_mole'].describe()"
   ]
  },
  {
   "cell_type": "code",
   "execution_count": 14,
   "metadata": {},
   "outputs": [
    {
     "data": {
      "text/plain": [
       "count    972000.000000\n",
       "mean        160.413869\n",
       "std         188.892186\n",
       "min           0.025193\n",
       "25%          51.717374\n",
       "50%         128.976370\n",
       "75%         199.216273\n",
       "max        2920.163605\n",
       "Name: ratio_ho2_oh, dtype: float64"
      ]
     },
     "execution_count": 14,
     "metadata": {},
     "output_type": "execute_result"
    }
   ],
   "source": [
    "data['ratio_ho2_oh'] = data['ho2_mole']/data['oh_mole']\n",
    "data['ratio_ho2_oh'].describe()"
   ]
  },
  {
   "cell_type": "code",
   "execution_count": 15,
   "metadata": {},
   "outputs": [
    {
     "data": {
      "text/plain": [
       "count    972000.000000\n",
       "mean          0.387912\n",
       "std           0.190519\n",
       "min           0.000690\n",
       "25%           0.261948\n",
       "50%           0.412561\n",
       "75%           0.512633\n",
       "max           2.760024\n",
       "Name: P1_frac, dtype: float64"
      ]
     },
     "execution_count": 15,
     "metadata": {},
     "output_type": "execute_result"
    }
   ],
   "source": [
    "data['P1'] = data['k_no_ho2']*data['no_mole']*data['ho2_mole']\n",
    "data['P1_frac'] = data['P1']/data['o3prod_mole']\n",
    "data['P1_frac'].describe()"
   ]
  },
  {
   "cell_type": "code",
   "execution_count": 16,
   "metadata": {},
   "outputs": [
    {
     "data": {
      "image/png": "[encoded data removed]",
      "text/plain": [
       "<Figure size 432x288 with 2 Axes>"
      ]
     },
     "metadata": {
      "needs_background": "light"
     },
     "output_type": "display_data"
    }
   ],
   "source": [
    "data['loc'] = data['longitude']*1000 + data['latitude']\n",
    "data_land = data\n",
    "data_mean = data_land.groupby(['loc']).mean()\n",
    "\n",
    "cm = plt.cm.get_cmap('Blues')\n",
    "x = data_mean['longitude']\n",
    "y = data_mean['latitude']\n",
    "z = data_mean['P1_frac']\n",
    "sc = plt.scatter(x, y, c=z, marker=\"s\", vmin=0, vmax=0.5, s=3, cmap=cm)\n",
    "plt.xlim([-180, 180])\n",
    "plt.ylim([-90, 90])\n",
    "plt.colorbar(sc)\n",
    "plt.show()"
   ]
  },
  {
   "cell_type": "code",
   "execution_count": 17,
   "metadata": {},
   "outputs": [
    {
     "data": {
      "text/plain": [
       "count    16200.000000\n",
       "mean         0.387912\n",
       "std          0.118280\n",
       "min          0.010487\n",
       "25%          0.312793\n",
       "50%          0.392688\n",
       "75%          0.479229\n",
       "max          0.763222\n",
       "Name: P1_frac, dtype: float64"
      ]
     },
     "execution_count": 17,
     "metadata": {},
     "output_type": "execute_result"
    }
   ],
   "source": [
    "data_mean['P1_frac'].describe()"
   ]
  },
  {
   "cell_type": "code",
   "execution_count": 18,
   "metadata": {},
   "outputs": [
    {
     "data": {
      "image/png": "[encoded data removed]",
      "text/plain": [
       "<Figure size 432x288 with 2 Axes>"
      ]
     },
     "metadata": {
      "needs_background": "light"
     },
     "output_type": "display_data"
    }
   ],
   "source": [
    "data['loc'] = data['longitude']*1000 + data['latitude']\n",
    "data_land = data\n",
    "data_mean = data_land.groupby(['loc']).mean()\n",
    "\n",
    "cm = plt.cm.get_cmap('Reds')\n",
    "x = data_mean['longitude']\n",
    "y = data_mean['latitude']\n",
    "z = data_mean['ho2_mole']*10**(-8)\n",
    "sc = plt.scatter(x, y, c=z, marker=\"s\", vmin=0, vmax=2.5, s=3, cmap=cm)\n",
    "plt.xlim([-180, 180])\n",
    "plt.ylim([-90, 90])\n",
    "plt.colorbar(sc)\n",
    "plt.show()"
   ]
  },
  {
   "cell_type": "code",
   "execution_count": 19,
   "metadata": {},
   "outputs": [
    {
     "data": {
      "text/html": [
       "<div>\n",
       "<style scoped>\n",
       "    .dataframe tbody tr th:only-of-type {\n",
       "        vertical-align: middle;\n",
       "    }\n",
       "\n",
       "    .dataframe tbody tr th {\n",
       "        vertical-align: top;\n",
       "    }\n",
       "\n",
       "    .dataframe thead th {\n",
       "        text-align: right;\n",
       "    }\n",
       "</style>\n",
       "<table border=\"1\" class=\"dataframe\">\n",
       "  <thead>\n",
       "    <tr style=\"text-align: right;\">\n",
       "      <th></th>\n",
       "      <th>longitude</th>\n",
       "      <th>latitude</th>\n",
       "      <th>t</th>\n",
       "      <th>loc</th>\n",
       "      <th>o3</th>\n",
       "      <th>o3prod</th>\n",
       "      <th>o3loss</th>\n",
       "      <th>eminox</th>\n",
       "      <th>emivoc</th>\n",
       "      <th>tas</th>\n",
       "      <th>...</th>\n",
       "      <th>k_oh_no2</th>\n",
       "      <th>o3prod_mole</th>\n",
       "      <th>o3loss_mole</th>\n",
       "      <th>lossch4_mole</th>\n",
       "      <th>lossco_mole</th>\n",
       "      <th>k_ch3o2_ch3o2</th>\n",
       "      <th>ho2_mole</th>\n",
       "      <th>ratio_ho2_oh</th>\n",
       "      <th>P1</th>\n",
       "      <th>P1_frac</th>\n",
       "    </tr>\n",
       "  </thead>\n",
       "  <tbody>\n",
       "    <tr>\n",
       "      <th>0</th>\n",
       "      <td>1.0</td>\n",
       "      <td>-89.0</td>\n",
       "      <td>1.0</td>\n",
       "      <td>911.0</td>\n",
       "      <td>1.589701e-08</td>\n",
       "      <td>8.802798e-14</td>\n",
       "      <td>9.406584e-14</td>\n",
       "      <td>0.000000e+00</td>\n",
       "      <td>0.000000e+00</td>\n",
       "      <td>249.57623</td>\n",
       "      <td>...</td>\n",
       "      <td>6.500000e-11</td>\n",
       "      <td>53010.449556</td>\n",
       "      <td>56646.448848</td>\n",
       "      <td>31984.018699</td>\n",
       "      <td>76916.025110</td>\n",
       "      <td>4.446147e-13</td>\n",
       "      <td>5.405122e+07</td>\n",
       "      <td>82.900680</td>\n",
       "      <td>39134.321994</td>\n",
       "      <td>0.738238</td>\n",
       "    </tr>\n",
       "    <tr>\n",
       "      <th>1</th>\n",
       "      <td>3.0</td>\n",
       "      <td>-89.0</td>\n",
       "      <td>1.0</td>\n",
       "      <td>2911.0</td>\n",
       "      <td>1.590375e-08</td>\n",
       "      <td>8.794498e-14</td>\n",
       "      <td>9.389479e-14</td>\n",
       "      <td>0.000000e+00</td>\n",
       "      <td>0.000000e+00</td>\n",
       "      <td>249.54080</td>\n",
       "      <td>...</td>\n",
       "      <td>6.500000e-11</td>\n",
       "      <td>52960.466956</td>\n",
       "      <td>56543.445549</td>\n",
       "      <td>31907.818720</td>\n",
       "      <td>76799.999236</td>\n",
       "      <td>4.447070e-13</td>\n",
       "      <td>5.395636e+07</td>\n",
       "      <td>82.775999</td>\n",
       "      <td>39112.045101</td>\n",
       "      <td>0.738514</td>\n",
       "    </tr>\n",
       "    <tr>\n",
       "      <th>2</th>\n",
       "      <td>5.0</td>\n",
       "      <td>-89.0</td>\n",
       "      <td>1.0</td>\n",
       "      <td>4911.0</td>\n",
       "      <td>1.591221e-08</td>\n",
       "      <td>8.791484e-14</td>\n",
       "      <td>9.379763e-14</td>\n",
       "      <td>0.000000e+00</td>\n",
       "      <td>0.000000e+00</td>\n",
       "      <td>249.50958</td>\n",
       "      <td>...</td>\n",
       "      <td>6.500000e-11</td>\n",
       "      <td>52942.316648</td>\n",
       "      <td>56484.932786</td>\n",
       "      <td>31854.920869</td>\n",
       "      <td>76731.215952</td>\n",
       "      <td>4.447884e-13</td>\n",
       "      <td>5.388939e+07</td>\n",
       "      <td>82.685494</td>\n",
       "      <td>39103.349592</td>\n",
       "      <td>0.738603</td>\n",
       "    </tr>\n",
       "    <tr>\n",
       "      <th>3</th>\n",
       "      <td>7.0</td>\n",
       "      <td>-89.0</td>\n",
       "      <td>1.0</td>\n",
       "      <td>6911.0</td>\n",
       "      <td>1.594265e-08</td>\n",
       "      <td>8.803169e-14</td>\n",
       "      <td>9.397011e-14</td>\n",
       "      <td>0.000000e+00</td>\n",
       "      <td>0.000000e+00</td>\n",
       "      <td>249.49193</td>\n",
       "      <td>...</td>\n",
       "      <td>6.500000e-11</td>\n",
       "      <td>53012.686127</td>\n",
       "      <td>56588.800242</td>\n",
       "      <td>31888.690439</td>\n",
       "      <td>76880.049682</td>\n",
       "      <td>4.448344e-13</td>\n",
       "      <td>5.392530e+07</td>\n",
       "      <td>82.599367</td>\n",
       "      <td>39182.495504</td>\n",
       "      <td>0.739115</td>\n",
       "    </tr>\n",
       "    <tr>\n",
       "      <th>4</th>\n",
       "      <td>9.0</td>\n",
       "      <td>-89.0</td>\n",
       "      <td>1.0</td>\n",
       "      <td>8911.0</td>\n",
       "      <td>1.596177e-08</td>\n",
       "      <td>8.795628e-14</td>\n",
       "      <td>9.384050e-14</td>\n",
       "      <td>0.000000e+00</td>\n",
       "      <td>0.000000e+00</td>\n",
       "      <td>249.46387</td>\n",
       "      <td>...</td>\n",
       "      <td>6.500000e-11</td>\n",
       "      <td>52967.271816</td>\n",
       "      <td>56510.749100</td>\n",
       "      <td>31824.126168</td>\n",
       "      <td>76790.984302</td>\n",
       "      <td>4.449076e-13</td>\n",
       "      <td>5.383872e+07</td>\n",
       "      <td>82.464109</td>\n",
       "      <td>39163.811414</td>\n",
       "      <td>0.739396</td>\n",
       "    </tr>\n",
       "    <tr>\n",
       "      <th>...</th>\n",
       "      <td>...</td>\n",
       "      <td>...</td>\n",
       "      <td>...</td>\n",
       "      <td>...</td>\n",
       "      <td>...</td>\n",
       "      <td>...</td>\n",
       "      <td>...</td>\n",
       "      <td>...</td>\n",
       "      <td>...</td>\n",
       "      <td>...</td>\n",
       "      <td>...</td>\n",
       "      <td>...</td>\n",
       "      <td>...</td>\n",
       "      <td>...</td>\n",
       "      <td>...</td>\n",
       "      <td>...</td>\n",
       "      <td>...</td>\n",
       "      <td>...</td>\n",
       "      <td>...</td>\n",
       "      <td>...</td>\n",
       "      <td>...</td>\n",
       "    </tr>\n",
       "    <tr>\n",
       "      <th>971995</th>\n",
       "      <td>-9.0</td>\n",
       "      <td>89.0</td>\n",
       "      <td>60.0</td>\n",
       "      <td>-8911.0</td>\n",
       "      <td>1.630996e-08</td>\n",
       "      <td>2.842892e-16</td>\n",
       "      <td>1.809345e-16</td>\n",
       "      <td>3.336417e-13</td>\n",
       "      <td>6.572778e-15</td>\n",
       "      <td>242.57967</td>\n",
       "      <td>...</td>\n",
       "      <td>6.500000e-11</td>\n",
       "      <td>171.198938</td>\n",
       "      <td>108.958780</td>\n",
       "      <td>14.119311</td>\n",
       "      <td>92.707287</td>\n",
       "      <td>4.637703e-13</td>\n",
       "      <td>5.464829e+04</td>\n",
       "      <td>421.592024</td>\n",
       "      <td>58.862575</td>\n",
       "      <td>0.343826</td>\n",
       "    </tr>\n",
       "    <tr>\n",
       "      <th>971996</th>\n",
       "      <td>-7.0</td>\n",
       "      <td>89.0</td>\n",
       "      <td>60.0</td>\n",
       "      <td>-6911.0</td>\n",
       "      <td>1.632853e-08</td>\n",
       "      <td>2.287422e-16</td>\n",
       "      <td>1.680337e-16</td>\n",
       "      <td>1.499039e-13</td>\n",
       "      <td>2.951658e-15</td>\n",
       "      <td>242.59355</td>\n",
       "      <td>...</td>\n",
       "      <td>6.500000e-11</td>\n",
       "      <td>137.748571</td>\n",
       "      <td>101.189912</td>\n",
       "      <td>12.736248</td>\n",
       "      <td>83.796618</td>\n",
       "      <td>4.637303e-13</td>\n",
       "      <td>6.548010e+04</td>\n",
       "      <td>508.206881</td>\n",
       "      <td>42.730944</td>\n",
       "      <td>0.310210</td>\n",
       "    </tr>\n",
       "    <tr>\n",
       "      <th>971997</th>\n",
       "      <td>-5.0</td>\n",
       "      <td>89.0</td>\n",
       "      <td>60.0</td>\n",
       "      <td>-4911.0</td>\n",
       "      <td>1.634956e-08</td>\n",
       "      <td>1.920444e-16</td>\n",
       "      <td>1.595247e-16</td>\n",
       "      <td>1.640803e-14</td>\n",
       "      <td>3.207111e-16</td>\n",
       "      <td>242.60947</td>\n",
       "      <td>...</td>\n",
       "      <td>6.500000e-11</td>\n",
       "      <td>115.649126</td>\n",
       "      <td>96.065768</td>\n",
       "      <td>11.825190</td>\n",
       "      <td>78.041308</td>\n",
       "      <td>4.636846e-13</td>\n",
       "      <td>7.779707e+04</td>\n",
       "      <td>609.362862</td>\n",
       "      <td>28.737748</td>\n",
       "      <td>0.248491</td>\n",
       "    </tr>\n",
       "    <tr>\n",
       "      <th>971998</th>\n",
       "      <td>-3.0</td>\n",
       "      <td>89.0</td>\n",
       "      <td>60.0</td>\n",
       "      <td>-2911.0</td>\n",
       "      <td>1.636259e-08</td>\n",
       "      <td>2.303925e-16</td>\n",
       "      <td>1.698968e-16</td>\n",
       "      <td>3.794615e-14</td>\n",
       "      <td>7.451860e-16</td>\n",
       "      <td>242.61600</td>\n",
       "      <td>...</td>\n",
       "      <td>6.500000e-11</td>\n",
       "      <td>138.742339</td>\n",
       "      <td>102.311859</td>\n",
       "      <td>12.934571</td>\n",
       "      <td>85.483982</td>\n",
       "      <td>4.636658e-13</td>\n",
       "      <td>7.363227e+04</td>\n",
       "      <td>555.693111</td>\n",
       "      <td>38.987410</td>\n",
       "      <td>0.281006</td>\n",
       "    </tr>\n",
       "    <tr>\n",
       "      <th>971999</th>\n",
       "      <td>-1.0</td>\n",
       "      <td>89.0</td>\n",
       "      <td>60.0</td>\n",
       "      <td>-911.0</td>\n",
       "      <td>1.638008e-08</td>\n",
       "      <td>3.034051e-16</td>\n",
       "      <td>1.917071e-16</td>\n",
       "      <td>2.266782e-13</td>\n",
       "      <td>4.464733e-15</td>\n",
       "      <td>242.62566</td>\n",
       "      <td>...</td>\n",
       "      <td>6.500000e-11</td>\n",
       "      <td>182.710527</td>\n",
       "      <td>115.446034</td>\n",
       "      <td>15.068118</td>\n",
       "      <td>99.424147</td>\n",
       "      <td>4.636380e-13</td>\n",
       "      <td>5.992661e+04</td>\n",
       "      <td>435.985603</td>\n",
       "      <td>62.063226</td>\n",
       "      <td>0.339681</td>\n",
       "    </tr>\n",
       "  </tbody>\n",
       "</table>\n",
       "<p>972000 rows × 59 columns</p>\n",
       "</div>"
      ],
      "text/plain": [
       "        longitude  latitude     t     loc            o3        o3prod  \\\n",
       "0             1.0     -89.0   1.0   911.0  1.589701e-08  8.802798e-14   \n",
       "1             3.0     -89.0   1.0  2911.0  1.590375e-08  8.794498e-14   \n",
       "2             5.0     -89.0   1.0  4911.0  1.591221e-08  8.791484e-14   \n",
       "3             7.0     -89.0   1.0  6911.0  1.594265e-08  8.803169e-14   \n",
       "4             9.0     -89.0   1.0  8911.0  1.596177e-08  8.795628e-14   \n",
       "...           ...       ...   ...     ...           ...           ...   \n",
       "971995       -9.0      89.0  60.0 -8911.0  1.630996e-08  2.842892e-16   \n",
       "971996       -7.0      89.0  60.0 -6911.0  1.632853e-08  2.287422e-16   \n",
       "971997       -5.0      89.0  60.0 -4911.0  1.634956e-08  1.920444e-16   \n",
       "971998       -3.0      89.0  60.0 -2911.0  1.636259e-08  2.303925e-16   \n",
       "971999       -1.0      89.0  60.0  -911.0  1.638008e-08  3.034051e-16   \n",
       "\n",
       "              o3loss        eminox        emivoc        tas  ...  \\\n",
       "0       9.406584e-14  0.000000e+00  0.000000e+00  249.57623  ...   \n",
       "1       9.389479e-14  0.000000e+00  0.000000e+00  249.54080  ...   \n",
       "2       9.379763e-14  0.000000e+00  0.000000e+00  249.50958  ...   \n",
       "3       9.397011e-14  0.000000e+00  0.000000e+00  249.49193  ...   \n",
       "4       9.384050e-14  0.000000e+00  0.000000e+00  249.46387  ...   \n",
       "...              ...           ...           ...        ...  ...   \n",
       "971995  1.809345e-16  3.336417e-13  6.572778e-15  242.57967  ...   \n",
       "971996  1.680337e-16  1.499039e-13  2.951658e-15  242.59355  ...   \n",
       "971997  1.595247e-16  1.640803e-14  3.207111e-16  242.60947  ...   \n",
       "971998  1.698968e-16  3.794615e-14  7.451860e-16  242.61600  ...   \n",
       "971999  1.917071e-16  2.266782e-13  4.464733e-15  242.62566  ...   \n",
       "\n",
       "            k_oh_no2   o3prod_mole   o3loss_mole  lossch4_mole   lossco_mole  \\\n",
       "0       6.500000e-11  53010.449556  56646.448848  31984.018699  76916.025110   \n",
       "1       6.500000e-11  52960.466956  56543.445549  31907.818720  76799.999236   \n",
       "2       6.500000e-11  52942.316648  56484.932786  31854.920869  76731.215952   \n",
       "3       6.500000e-11  53012.686127  56588.800242  31888.690439  76880.049682   \n",
       "4       6.500000e-11  52967.271816  56510.749100  31824.126168  76790.984302   \n",
       "...              ...           ...           ...           ...           ...   \n",
       "971995  6.500000e-11    171.198938    108.958780     14.119311     92.707287   \n",
       "971996  6.500000e-11    137.748571    101.189912     12.736248     83.796618   \n",
       "971997  6.500000e-11    115.649126     96.065768     11.825190     78.041308   \n",
       "971998  6.500000e-11    138.742339    102.311859     12.934571     85.483982   \n",
       "971999  6.500000e-11    182.710527    115.446034     15.068118     99.424147   \n",
       "\n",
       "        k_ch3o2_ch3o2      ho2_mole  ratio_ho2_oh            P1   P1_frac  \n",
       "0        4.446147e-13  5.405122e+07     82.900680  39134.321994  0.738238  \n",
       "1        4.447070e-13  5.395636e+07     82.775999  39112.045101  0.738514  \n",
       "2        4.447884e-13  5.388939e+07     82.685494  39103.349592  0.738603  \n",
       "3        4.448344e-13  5.392530e+07     82.599367  39182.495504  0.739115  \n",
       "4        4.449076e-13  5.383872e+07     82.464109  39163.811414  0.739396  \n",
       "...               ...           ...           ...           ...       ...  \n",
       "971995   4.637703e-13  5.464829e+04    421.592024     58.862575  0.343826  \n",
       "971996   4.637303e-13  6.548010e+04    508.206881     42.730944  0.310210  \n",
       "971997   4.636846e-13  7.779707e+04    609.362862     28.737748  0.248491  \n",
       "971998   4.636658e-13  7.363227e+04    555.693111     38.987410  0.281006  \n",
       "971999   4.636380e-13  5.992661e+04    435.985603     62.063226  0.339681  \n",
       "\n",
       "[972000 rows x 59 columns]"
      ]
     },
     "execution_count": 19,
     "metadata": {},
     "output_type": "execute_result"
    }
   ],
   "source": [
    "data = data.drop(['a','b','c'], axis=1)\n",
    "data"
   ]
  },
  {
   "cell_type": "code",
   "execution_count": 20,
   "metadata": {},
   "outputs": [
    {
     "data": {
      "text/plain": [
       "['longitude',\n",
       " 'latitude',\n",
       " 't',\n",
       " 'loc',\n",
       " 'o3',\n",
       " 'o3prod',\n",
       " 'o3loss',\n",
       " 'eminox',\n",
       " 'emivoc',\n",
       " 'tas',\n",
       " 'hus',\n",
       " 'aod',\n",
       " 'bldep',\n",
       " 'ua',\n",
       " 'va',\n",
       " 'jno2',\n",
       " 'photo1d',\n",
       " 'lossch4',\n",
       " 'lossco',\n",
       " 'no2',\n",
       " 'no',\n",
       " 'oh',\n",
       " 'h2o',\n",
       " 'pan',\n",
       " 'hno3',\n",
       " 'k_no_ho2',\n",
       " 'k_no_ch3o2',\n",
       " 'k_o1d_h2o',\n",
       " 'k_o3_ho2',\n",
       " 'k_o3_oh',\n",
       " 'K1_NO_HO2',\n",
       " 'K1_NO_CH3O2',\n",
       " 'K1_O1D_H2O',\n",
       " 'K1_O3_OH',\n",
       " 'K1_O3_HO2',\n",
       " 'K2_NO_HO2',\n",
       " 'K2_NO_CH3O2',\n",
       " 'K2_O1D_H2O',\n",
       " 'K2_O3_OH',\n",
       " 'K2_O3_HO2',\n",
       " 'country',\n",
       " 'o3_mole',\n",
       " 'no_mole',\n",
       " 'no2_mole',\n",
       " 'oh_mole',\n",
       " 'h2o_mole',\n",
       " 'hno3_mole',\n",
       " 'pan_mole',\n",
       " 'k_ho2_ho2',\n",
       " 'k_oh_no2',\n",
       " 'o3prod_mole',\n",
       " 'o3loss_mole',\n",
       " 'lossch4_mole',\n",
       " 'lossco_mole',\n",
       " 'k_ch3o2_ch3o2',\n",
       " 'ho2_mole',\n",
       " 'ratio_ho2_oh',\n",
       " 'P1',\n",
       " 'P1_frac']"
      ]
     },
     "execution_count": 20,
     "metadata": {},
     "output_type": "execute_result"
    }
   ],
   "source": [
    "list(data)"
   ]
  },
  {
   "cell_type": "code",
   "execution_count": 21,
   "metadata": {},
   "outputs": [],
   "source": [
    "data.to_csv('/Volumes/Database/Research/C7 Multivariate analysis/UKESM1-0-LL_diag_2014(0316).csv', index = False)"
   ]
  }
 ],
 "metadata": {
  "kernelspec": {
   "display_name": "Python 3",
   "language": "python",
   "name": "python3"
  },
  "language_info": {
   "codemirror_mode": {
    "name": "ipython",
    "version": 3
   },
   "file_extension": ".py",
   "mimetype": "text/x-python",
   "name": "python",
   "nbconvert_exporter": "python",
   "pygments_lexer": "ipython3",
   "version": "3.8.5"
  }
 },
 "nbformat": 4,
 "nbformat_minor": 4
}
