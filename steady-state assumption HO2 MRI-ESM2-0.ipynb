{
 "cells": [
  {
   "cell_type": "code",
   "execution_count": 1,
   "metadata": {},
   "outputs": [],
   "source": [
    "import warnings\n",
    "warnings.filterwarnings(\"ignore\")\n",
    "\n",
    "import pandas as pd\n",
    "import numpy as np\n",
    "import matplotlib as mpl\n",
    "import matplotlib.pyplot as plt\n",
    "\n",
    "from sklearn.metrics import r2_score as R2\n",
    "from sklearn.metrics import mean_squared_error as MSE"
   ]
  },
  {
   "cell_type": "code",
   "execution_count": 2,
   "metadata": {},
   "outputs": [],
   "source": [
    "data = pd.read_csv('/Volumes/Database/Research/C7 Multivariate analysis/MRI-ESM2-0_diag_2014(0318).csv')"
   ]
  },
  {
   "cell_type": "code",
   "execution_count": 3,
   "metadata": {},
   "outputs": [],
   "source": [
    "country = pd.read_csv('/Users/csuen/Desktop/PhD/Maps/country_province_state_2*2.csv')\n",
    "data = data.merge(country, how = 'left', left_on = ['longitude','latitude'], right_on = ['longitude','latitude'])\n",
    "data = data.drop(['province','state'], axis=1)"
   ]
  },
  {
   "cell_type": "markdown",
   "metadata": {},
   "source": [
    "### First, converse the concentrations in ppb to molecules cm${^{-3}}$"
   ]
  },
  {
   "cell_type": "code",
   "execution_count": 4,
   "metadata": {},
   "outputs": [],
   "source": [
    "data['o3_mole'] = data['o3']*1.01325*10**5/data['tas']*7.243*10**7*(10**9)\n",
    "data['no_mole'] = data['no']*1.01325*10**5/data['tas']*7.243*10**7*(10**9)\n",
    "data['no2_mole'] = data['no2']*1.01325*10**5/data['tas']*7.243*10**7*(10**9)\n",
    "data['oh_mole'] = data['oh']*1.01325*10**5/data['tas']*7.243*10**7*(10**9)\n",
    "data['h2o_mole'] = data['h2o']*1.01325*10**5/data['tas']*7.243*10**7*(10**9)\n",
    "data['hno3_mole'] = data['hno3']*1.01325*10**5/data['tas']*7.243*10**7*(10**9)\n",
    "data['pan_mole'] = data['pan']*1.01325*10**5/data['tas']*7.243*10**7*(10**9)\n",
    "\n",
    "data['k_ho2_ho2'] = 2.2*10**(-13)*np.exp(600/data['tas'])\n",
    "data['k_oh_no2'] = 6.5*10**(-11)\n",
    "data['k_o1d_h2o'] = 2.14*10**(-10)\n",
    "\n",
    "data['o3prod_mole'] = data['o3prod']*6.022*10**17\n",
    "data['o3loss_mole'] = data['o3loss']*6.022*10**17\n",
    "\n",
    "data['lossch4_mole'] = data['lossch4']*6.022*10**17\n",
    "data['lossco_mole'] = data['lossco']*6.022*10**17\n",
    "data['k_ch3o2_ch3o2'] = 1.03*10**(-13)*np.exp(365/data['tas'])"
   ]
  },
  {
   "cell_type": "code",
   "execution_count": 5,
   "metadata": {},
   "outputs": [
    {
     "data": {
      "text/plain": [
       "8.5582200050354e-12"
      ]
     },
     "execution_count": 5,
     "metadata": {},
     "output_type": "execute_result"
    }
   ],
   "source": [
    "data['k_no_ho2'].median()"
   ]
  },
  {
   "cell_type": "code",
   "execution_count": 6,
   "metadata": {},
   "outputs": [
    {
     "data": {
      "text/plain": [
       "8.195091295242309e-12"
      ]
     },
     "execution_count": 6,
     "metadata": {},
     "output_type": "execute_result"
    }
   ],
   "source": [
    "data['k_no_ch3o2'].median()"
   ]
  },
  {
   "cell_type": "code",
   "execution_count": 7,
   "metadata": {},
   "outputs": [
    {
     "data": {
      "text/plain": [
       "6.159847564995288e-14"
      ]
     },
     "execution_count": 7,
     "metadata": {},
     "output_type": "execute_result"
    }
   ],
   "source": [
    "data['k_o3_oh'].median()"
   ]
  },
  {
   "cell_type": "code",
   "execution_count": 8,
   "metadata": {},
   "outputs": [
    {
     "data": {
      "text/plain": [
       "1.80408852853292e-15"
      ]
     },
     "execution_count": 8,
     "metadata": {},
     "output_type": "execute_result"
    }
   ],
   "source": [
    "data['k_o3_ho2'].median()"
   ]
  },
  {
   "cell_type": "code",
   "execution_count": 9,
   "metadata": {},
   "outputs": [
    {
     "data": {
      "text/plain": [
       "3.735316759134441e-13"
      ]
     },
     "execution_count": 9,
     "metadata": {},
     "output_type": "execute_result"
    }
   ],
   "source": [
    "data['k_ch3o2_ch3o2'].median()"
   ]
  },
  {
   "cell_type": "code",
   "execution_count": 10,
   "metadata": {},
   "outputs": [],
   "source": [
    "data['a'] = 2*data['k_ho2_ho2']\n",
    "data['b'] = data['k_o3_ho2']*data['o3_mole'] + data['k_no_ho2']*data['no_mole']\n",
    "data['c'] = -data['lossco_mole'] - data['k_o3_oh']*data['o3_mole']*data['oh_mole']"
   ]
  },
  {
   "cell_type": "code",
   "execution_count": 11,
   "metadata": {},
   "outputs": [],
   "source": [
    "data['ho2_mole'] = (-data['b'] + np.sqrt(data['b']**2 - 4*data['a']*data['c']))/(2*data['a'])"
   ]
  },
  {
   "cell_type": "code",
   "execution_count": 12,
   "metadata": {},
   "outputs": [
    {
     "data": {
      "text/plain": [
       "count    9.720000e+05\n",
       "mean     1.017926e+08\n",
       "std      1.161205e+08\n",
       "min      1.635250e+04\n",
       "25%      1.389389e+07\n",
       "50%      5.066793e+07\n",
       "75%      1.634243e+08\n",
       "max      6.719771e+08\n",
       "Name: ho2_mole, dtype: float64"
      ]
     },
     "execution_count": 12,
     "metadata": {},
     "output_type": "execute_result"
    }
   ],
   "source": [
    "data['ho2_mole'].describe()"
   ]
  },
  {
   "cell_type": "code",
   "execution_count": 13,
   "metadata": {},
   "outputs": [
    {
     "data": {
      "text/plain": [
       "count    9.720000e+05\n",
       "mean     1.055557e+06\n",
       "std      1.201472e+06\n",
       "min      1.742188e+02\n",
       "25%      1.020759e+05\n",
       "50%      5.479556e+05\n",
       "75%      1.799636e+06\n",
       "max      1.831110e+07\n",
       "Name: oh_mole, dtype: float64"
      ]
     },
     "execution_count": 13,
     "metadata": {},
     "output_type": "execute_result"
    }
   ],
   "source": [
    "data['oh_mole'].describe()"
   ]
  },
  {
   "cell_type": "code",
   "execution_count": 14,
   "metadata": {},
   "outputs": [
    {
     "data": {
      "text/plain": [
       "count    972000.000000\n",
       "mean        186.460982\n",
       "std         177.895193\n",
       "min           0.499327\n",
       "25%          78.529714\n",
       "50%         152.198604\n",
       "75%         230.345198\n",
       "max        1948.656895\n",
       "Name: ratio_ho2_oh, dtype: float64"
      ]
     },
     "execution_count": 14,
     "metadata": {},
     "output_type": "execute_result"
    }
   ],
   "source": [
    "data['ratio_ho2_oh'] = data['ho2_mole']/data['oh_mole']\n",
    "data['ratio_ho2_oh'].describe()"
   ]
  },
  {
   "cell_type": "code",
   "execution_count": 15,
   "metadata": {},
   "outputs": [
    {
     "data": {
      "text/plain": [
       "count    972000.000000\n",
       "mean          0.307118\n",
       "std           0.172418\n",
       "min           0.003401\n",
       "25%           0.164243\n",
       "50%           0.335924\n",
       "75%           0.419594\n",
       "max           1.528890\n",
       "Name: P1_frac, dtype: float64"
      ]
     },
     "execution_count": 15,
     "metadata": {},
     "output_type": "execute_result"
    }
   ],
   "source": [
    "data['P1'] = data['k_no_ho2']*data['no_mole']*data['ho2_mole']\n",
    "data['P1_frac'] = data['P1']/data['o3prod_mole']\n",
    "data['P1_frac'].describe()"
   ]
  },
  {
   "cell_type": "code",
   "execution_count": 23,
   "metadata": {},
   "outputs": [
    {
     "data": {
      "image/png": "[encoded data removed]",
      "text/plain": [
       "<Figure size 432x288 with 2 Axes>"
      ]
     },
     "metadata": {
      "needs_background": "light"
     },
     "output_type": "display_data"
    }
   ],
   "source": [
    "data['loc'] = data['longitude']*1000 + data['latitude']\n",
    "data_land = data\n",
    "data_mean = data_land.groupby(['loc']).mean()\n",
    "\n",
    "cm = plt.cm.get_cmap('Blues')\n",
    "x = data_mean['longitude']\n",
    "y = data_mean['latitude']\n",
    "z = data_mean['P1_frac']\n",
    "sc = plt.scatter(x, y, c=z, marker=\"s\", vmin=0, vmax=0.5, s=3, cmap=cm)\n",
    "plt.xlim([-180, 180])\n",
    "plt.ylim([-90, 90])\n",
    "plt.colorbar(sc)\n",
    "plt.show()"
   ]
  },
  {
   "cell_type": "code",
   "execution_count": 17,
   "metadata": {},
   "outputs": [
    {
     "data": {
      "text/plain": [
       "count    16200.000000\n",
       "mean         0.307118\n",
       "std          0.104561\n",
       "min          0.004736\n",
       "25%          0.265275\n",
       "50%          0.322396\n",
       "75%          0.381997\n",
       "max          0.563652\n",
       "Name: P1_frac, dtype: float64"
      ]
     },
     "execution_count": 17,
     "metadata": {},
     "output_type": "execute_result"
    }
   ],
   "source": [
    "data_mean['P1_frac'].describe()"
   ]
  },
  {
   "cell_type": "code",
   "execution_count": 24,
   "metadata": {},
   "outputs": [
    {
     "data": {
      "image/png": "[encoded data removed]",
      "text/plain": [
       "<Figure size 432x288 with 2 Axes>"
      ]
     },
     "metadata": {
      "needs_background": "light"
     },
     "output_type": "display_data"
    }
   ],
   "source": [
    "data['loc'] = data['longitude']*1000 + data['latitude']\n",
    "data_land = data\n",
    "data_mean = data_land.groupby(['loc']).mean()\n",
    "\n",
    "cm = plt.cm.get_cmap('Reds')\n",
    "x = data_mean['longitude']\n",
    "y = data_mean['latitude']\n",
    "z = data_mean['ho2_mole']*10**(-8)\n",
    "sc = plt.scatter(x, y, c=z, marker=\"s\", vmin=0, vmax=2.5, s=3, cmap=cm)\n",
    "plt.xlim([-180, 180])\n",
    "plt.ylim([-90, 90])\n",
    "plt.colorbar(sc)\n",
    "plt.show()"
   ]
  },
  {
   "cell_type": "code",
   "execution_count": 19,
   "metadata": {},
   "outputs": [
    {
     "data": {
      "text/html": [
       "<div>\n",
       "<style scoped>\n",
       "    .dataframe tbody tr th:only-of-type {\n",
       "        vertical-align: middle;\n",
       "    }\n",
       "\n",
       "    .dataframe tbody tr th {\n",
       "        vertical-align: top;\n",
       "    }\n",
       "\n",
       "    .dataframe thead th {\n",
       "        text-align: right;\n",
       "    }\n",
       "</style>\n",
       "<table border=\"1\" class=\"dataframe\">\n",
       "  <thead>\n",
       "    <tr style=\"text-align: right;\">\n",
       "      <th></th>\n",
       "      <th>longitude</th>\n",
       "      <th>latitude</th>\n",
       "      <th>t</th>\n",
       "      <th>loc</th>\n",
       "      <th>o3</th>\n",
       "      <th>o3prod</th>\n",
       "      <th>o3loss</th>\n",
       "      <th>eminox</th>\n",
       "      <th>emivoc</th>\n",
       "      <th>tas</th>\n",
       "      <th>...</th>\n",
       "      <th>k_oh_no2</th>\n",
       "      <th>o3prod_mole</th>\n",
       "      <th>o3loss_mole</th>\n",
       "      <th>lossch4_mole</th>\n",
       "      <th>lossco_mole</th>\n",
       "      <th>k_ch3o2_ch3o2</th>\n",
       "      <th>ho2_mole</th>\n",
       "      <th>ratio_ho2_oh</th>\n",
       "      <th>P1</th>\n",
       "      <th>P1_frac</th>\n",
       "    </tr>\n",
       "  </thead>\n",
       "  <tbody>\n",
       "    <tr>\n",
       "      <th>0</th>\n",
       "      <td>1.0</td>\n",
       "      <td>-89.0</td>\n",
       "      <td>1.0</td>\n",
       "      <td>911.0</td>\n",
       "      <td>1.754211e-08</td>\n",
       "      <td>2.336547e-14</td>\n",
       "      <td>4.840957e-14</td>\n",
       "      <td>0.000000e+00</td>\n",
       "      <td>0.000000e+00</td>\n",
       "      <td>245.63487</td>\n",
       "      <td>...</td>\n",
       "      <td>6.500000e-11</td>\n",
       "      <td>14070.686034</td>\n",
       "      <td>29152.243054</td>\n",
       "      <td>10454.230541</td>\n",
       "      <td>33474.575708</td>\n",
       "      <td>4.551715e-13</td>\n",
       "      <td>3.154034e+07</td>\n",
       "      <td>149.301958</td>\n",
       "      <td>9932.451697</td>\n",
       "      <td>0.705897</td>\n",
       "    </tr>\n",
       "    <tr>\n",
       "      <th>1</th>\n",
       "      <td>3.0</td>\n",
       "      <td>-89.0</td>\n",
       "      <td>1.0</td>\n",
       "      <td>2911.0</td>\n",
       "      <td>1.751341e-08</td>\n",
       "      <td>2.332420e-14</td>\n",
       "      <td>4.801625e-14</td>\n",
       "      <td>0.000000e+00</td>\n",
       "      <td>0.000000e+00</td>\n",
       "      <td>245.64409</td>\n",
       "      <td>...</td>\n",
       "      <td>6.500000e-11</td>\n",
       "      <td>14045.834444</td>\n",
       "      <td>28915.388761</td>\n",
       "      <td>10360.419223</td>\n",
       "      <td>33351.554077</td>\n",
       "      <td>4.551462e-13</td>\n",
       "      <td>3.144905e+07</td>\n",
       "      <td>148.935621</td>\n",
       "      <td>9932.603369</td>\n",
       "      <td>0.707157</td>\n",
       "    </tr>\n",
       "    <tr>\n",
       "      <th>2</th>\n",
       "      <td>5.0</td>\n",
       "      <td>-89.0</td>\n",
       "      <td>1.0</td>\n",
       "      <td>4911.0</td>\n",
       "      <td>1.744699e-08</td>\n",
       "      <td>2.322402e-14</td>\n",
       "      <td>4.737500e-14</td>\n",
       "      <td>0.000000e+00</td>\n",
       "      <td>0.000000e+00</td>\n",
       "      <td>245.48904</td>\n",
       "      <td>...</td>\n",
       "      <td>6.500000e-11</td>\n",
       "      <td>13985.506048</td>\n",
       "      <td>28529.225000</td>\n",
       "      <td>10219.086496</td>\n",
       "      <td>33077.563314</td>\n",
       "      <td>4.555735e-13</td>\n",
       "      <td>3.125500e+07</td>\n",
       "      <td>148.654812</td>\n",
       "      <td>9906.502108</td>\n",
       "      <td>0.708341</td>\n",
       "    </tr>\n",
       "    <tr>\n",
       "      <th>3</th>\n",
       "      <td>7.0</td>\n",
       "      <td>-89.0</td>\n",
       "      <td>1.0</td>\n",
       "      <td>6911.0</td>\n",
       "      <td>1.744699e-08</td>\n",
       "      <td>2.322402e-14</td>\n",
       "      <td>4.737500e-14</td>\n",
       "      <td>0.000000e+00</td>\n",
       "      <td>0.000000e+00</td>\n",
       "      <td>245.48055</td>\n",
       "      <td>...</td>\n",
       "      <td>6.500000e-11</td>\n",
       "      <td>13985.506048</td>\n",
       "      <td>28529.225000</td>\n",
       "      <td>10219.086496</td>\n",
       "      <td>33077.563314</td>\n",
       "      <td>4.555969e-13</td>\n",
       "      <td>3.125439e+07</td>\n",
       "      <td>148.646778</td>\n",
       "      <td>9907.027804</td>\n",
       "      <td>0.708378</td>\n",
       "    </tr>\n",
       "    <tr>\n",
       "      <th>4</th>\n",
       "      <td>9.0</td>\n",
       "      <td>-89.0</td>\n",
       "      <td>1.0</td>\n",
       "      <td>8911.0</td>\n",
       "      <td>1.745826e-08</td>\n",
       "      <td>2.328491e-14</td>\n",
       "      <td>4.718132e-14</td>\n",
       "      <td>0.000000e+00</td>\n",
       "      <td>0.000000e+00</td>\n",
       "      <td>245.57079</td>\n",
       "      <td>...</td>\n",
       "      <td>6.500000e-11</td>\n",
       "      <td>14022.172802</td>\n",
       "      <td>28412.593313</td>\n",
       "      <td>10163.669643</td>\n",
       "      <td>33072.289246</td>\n",
       "      <td>4.553481e-13</td>\n",
       "      <td>3.121678e+07</td>\n",
       "      <td>148.019231</td>\n",
       "      <td>9943.550450</td>\n",
       "      <td>0.709131</td>\n",
       "    </tr>\n",
       "    <tr>\n",
       "      <th>...</th>\n",
       "      <td>...</td>\n",
       "      <td>...</td>\n",
       "      <td>...</td>\n",
       "      <td>...</td>\n",
       "      <td>...</td>\n",
       "      <td>...</td>\n",
       "      <td>...</td>\n",
       "      <td>...</td>\n",
       "      <td>...</td>\n",
       "      <td>...</td>\n",
       "      <td>...</td>\n",
       "      <td>...</td>\n",
       "      <td>...</td>\n",
       "      <td>...</td>\n",
       "      <td>...</td>\n",
       "      <td>...</td>\n",
       "      <td>...</td>\n",
       "      <td>...</td>\n",
       "      <td>...</td>\n",
       "      <td>...</td>\n",
       "      <td>...</td>\n",
       "    </tr>\n",
       "    <tr>\n",
       "      <th>971995</th>\n",
       "      <td>-9.0</td>\n",
       "      <td>89.0</td>\n",
       "      <td>60.0</td>\n",
       "      <td>-8911.0</td>\n",
       "      <td>2.287199e-08</td>\n",
       "      <td>7.559570e-16</td>\n",
       "      <td>1.561717e-15</td>\n",
       "      <td>7.690745e-14</td>\n",
       "      <td>1.949230e-16</td>\n",
       "      <td>251.85805</td>\n",
       "      <td>...</td>\n",
       "      <td>6.500000e-11</td>\n",
       "      <td>455.237305</td>\n",
       "      <td>940.465917</td>\n",
       "      <td>82.652763</td>\n",
       "      <td>562.043678</td>\n",
       "      <td>4.387624e-13</td>\n",
       "      <td>4.806739e+05</td>\n",
       "      <td>713.909148</td>\n",
       "      <td>121.114244</td>\n",
       "      <td>0.266046</td>\n",
       "    </tr>\n",
       "    <tr>\n",
       "      <th>971996</th>\n",
       "      <td>-7.0</td>\n",
       "      <td>89.0</td>\n",
       "      <td>60.0</td>\n",
       "      <td>-6911.0</td>\n",
       "      <td>2.284715e-08</td>\n",
       "      <td>1.474946e-16</td>\n",
       "      <td>1.534075e-15</td>\n",
       "      <td>4.297552e-15</td>\n",
       "      <td>1.089221e-17</td>\n",
       "      <td>251.88918</td>\n",
       "      <td>...</td>\n",
       "      <td>6.500000e-11</td>\n",
       "      <td>88.821266</td>\n",
       "      <td>923.819664</td>\n",
       "      <td>69.291583</td>\n",
       "      <td>482.988849</td>\n",
       "      <td>4.386838e-13</td>\n",
       "      <td>5.142405e+05</td>\n",
       "      <td>899.213634</td>\n",
       "      <td>7.631525</td>\n",
       "      <td>0.085920</td>\n",
       "    </tr>\n",
       "    <tr>\n",
       "      <th>971997</th>\n",
       "      <td>-5.0</td>\n",
       "      <td>89.0</td>\n",
       "      <td>60.0</td>\n",
       "      <td>-4911.0</td>\n",
       "      <td>2.284715e-08</td>\n",
       "      <td>1.474946e-16</td>\n",
       "      <td>1.534075e-15</td>\n",
       "      <td>4.297552e-15</td>\n",
       "      <td>1.089221e-17</td>\n",
       "      <td>251.92060</td>\n",
       "      <td>...</td>\n",
       "      <td>6.500000e-11</td>\n",
       "      <td>88.821266</td>\n",
       "      <td>923.819664</td>\n",
       "      <td>69.291583</td>\n",
       "      <td>482.988849</td>\n",
       "      <td>4.386045e-13</td>\n",
       "      <td>5.141949e+05</td>\n",
       "      <td>899.246078</td>\n",
       "      <td>7.628877</td>\n",
       "      <td>0.085890</td>\n",
       "    </tr>\n",
       "    <tr>\n",
       "      <th>971998</th>\n",
       "      <td>-3.0</td>\n",
       "      <td>89.0</td>\n",
       "      <td>60.0</td>\n",
       "      <td>-2911.0</td>\n",
       "      <td>2.283424e-08</td>\n",
       "      <td>3.365895e-16</td>\n",
       "      <td>1.605734e-15</td>\n",
       "      <td>1.650221e-14</td>\n",
       "      <td>4.182508e-17</td>\n",
       "      <td>251.93549</td>\n",
       "      <td>...</td>\n",
       "      <td>6.500000e-11</td>\n",
       "      <td>202.694197</td>\n",
       "      <td>966.973135</td>\n",
       "      <td>75.874785</td>\n",
       "      <td>525.512419</td>\n",
       "      <td>4.385670e-13</td>\n",
       "      <td>5.369044e+05</td>\n",
       "      <td>860.434979</td>\n",
       "      <td>30.087751</td>\n",
       "      <td>0.148439</td>\n",
       "    </tr>\n",
       "    <tr>\n",
       "      <th>971999</th>\n",
       "      <td>-1.0</td>\n",
       "      <td>89.0</td>\n",
       "      <td>60.0</td>\n",
       "      <td>-911.0</td>\n",
       "      <td>2.281497e-08</td>\n",
       "      <td>7.303474e-16</td>\n",
       "      <td>1.560100e-15</td>\n",
       "      <td>7.247755e-14</td>\n",
       "      <td>1.836954e-16</td>\n",
       "      <td>251.96606</td>\n",
       "      <td>...</td>\n",
       "      <td>6.500000e-11</td>\n",
       "      <td>439.815204</td>\n",
       "      <td>939.492220</td>\n",
       "      <td>81.795483</td>\n",
       "      <td>554.094759</td>\n",
       "      <td>4.384899e-13</td>\n",
       "      <td>4.804328e+05</td>\n",
       "      <td>723.107502</td>\n",
       "      <td>114.113228</td>\n",
       "      <td>0.259457</td>\n",
       "    </tr>\n",
       "  </tbody>\n",
       "</table>\n",
       "<p>972000 rows × 58 columns</p>\n",
       "</div>"
      ],
      "text/plain": [
       "        longitude  latitude     t     loc            o3        o3prod  \\\n",
       "0             1.0     -89.0   1.0   911.0  1.754211e-08  2.336547e-14   \n",
       "1             3.0     -89.0   1.0  2911.0  1.751341e-08  2.332420e-14   \n",
       "2             5.0     -89.0   1.0  4911.0  1.744699e-08  2.322402e-14   \n",
       "3             7.0     -89.0   1.0  6911.0  1.744699e-08  2.322402e-14   \n",
       "4             9.0     -89.0   1.0  8911.0  1.745826e-08  2.328491e-14   \n",
       "...           ...       ...   ...     ...           ...           ...   \n",
       "971995       -9.0      89.0  60.0 -8911.0  2.287199e-08  7.559570e-16   \n",
       "971996       -7.0      89.0  60.0 -6911.0  2.284715e-08  1.474946e-16   \n",
       "971997       -5.0      89.0  60.0 -4911.0  2.284715e-08  1.474946e-16   \n",
       "971998       -3.0      89.0  60.0 -2911.0  2.283424e-08  3.365895e-16   \n",
       "971999       -1.0      89.0  60.0  -911.0  2.281497e-08  7.303474e-16   \n",
       "\n",
       "              o3loss        eminox        emivoc        tas  ...  \\\n",
       "0       4.840957e-14  0.000000e+00  0.000000e+00  245.63487  ...   \n",
       "1       4.801625e-14  0.000000e+00  0.000000e+00  245.64409  ...   \n",
       "2       4.737500e-14  0.000000e+00  0.000000e+00  245.48904  ...   \n",
       "3       4.737500e-14  0.000000e+00  0.000000e+00  245.48055  ...   \n",
       "4       4.718132e-14  0.000000e+00  0.000000e+00  245.57079  ...   \n",
       "...              ...           ...           ...        ...  ...   \n",
       "971995  1.561717e-15  7.690745e-14  1.949230e-16  251.85805  ...   \n",
       "971996  1.534075e-15  4.297552e-15  1.089221e-17  251.88918  ...   \n",
       "971997  1.534075e-15  4.297552e-15  1.089221e-17  251.92060  ...   \n",
       "971998  1.605734e-15  1.650221e-14  4.182508e-17  251.93549  ...   \n",
       "971999  1.560100e-15  7.247755e-14  1.836954e-16  251.96606  ...   \n",
       "\n",
       "            k_oh_no2   o3prod_mole   o3loss_mole  lossch4_mole   lossco_mole  \\\n",
       "0       6.500000e-11  14070.686034  29152.243054  10454.230541  33474.575708   \n",
       "1       6.500000e-11  14045.834444  28915.388761  10360.419223  33351.554077   \n",
       "2       6.500000e-11  13985.506048  28529.225000  10219.086496  33077.563314   \n",
       "3       6.500000e-11  13985.506048  28529.225000  10219.086496  33077.563314   \n",
       "4       6.500000e-11  14022.172802  28412.593313  10163.669643  33072.289246   \n",
       "...              ...           ...           ...           ...           ...   \n",
       "971995  6.500000e-11    455.237305    940.465917     82.652763    562.043678   \n",
       "971996  6.500000e-11     88.821266    923.819664     69.291583    482.988849   \n",
       "971997  6.500000e-11     88.821266    923.819664     69.291583    482.988849   \n",
       "971998  6.500000e-11    202.694197    966.973135     75.874785    525.512419   \n",
       "971999  6.500000e-11    439.815204    939.492220     81.795483    554.094759   \n",
       "\n",
       "        k_ch3o2_ch3o2      ho2_mole  ratio_ho2_oh           P1   P1_frac  \n",
       "0        4.551715e-13  3.154034e+07    149.301958  9932.451697  0.705897  \n",
       "1        4.551462e-13  3.144905e+07    148.935621  9932.603369  0.707157  \n",
       "2        4.555735e-13  3.125500e+07    148.654812  9906.502108  0.708341  \n",
       "3        4.555969e-13  3.125439e+07    148.646778  9907.027804  0.708378  \n",
       "4        4.553481e-13  3.121678e+07    148.019231  9943.550450  0.709131  \n",
       "...               ...           ...           ...          ...       ...  \n",
       "971995   4.387624e-13  4.806739e+05    713.909148   121.114244  0.266046  \n",
       "971996   4.386838e-13  5.142405e+05    899.213634     7.631525  0.085920  \n",
       "971997   4.386045e-13  5.141949e+05    899.246078     7.628877  0.085890  \n",
       "971998   4.385670e-13  5.369044e+05    860.434979    30.087751  0.148439  \n",
       "971999   4.384899e-13  4.804328e+05    723.107502   114.113228  0.259457  \n",
       "\n",
       "[972000 rows x 58 columns]"
      ]
     },
     "execution_count": 19,
     "metadata": {},
     "output_type": "execute_result"
    }
   ],
   "source": [
    "data = data.drop(['a','b','c'], axis=1)\n",
    "data"
   ]
  },
  {
   "cell_type": "code",
   "execution_count": 20,
   "metadata": {},
   "outputs": [],
   "source": [
    "data.to_csv('/Volumes/Database/Research/C7 Multivariate analysis/MRI-ESM2-0_diag_2014(0319).csv', index = False)"
   ]
  }
 ],
 "metadata": {
  "kernelspec": {
   "display_name": "Python 3",
   "language": "python",
   "name": "python3"
  },
  "language_info": {
   "codemirror_mode": {
    "name": "ipython",
    "version": 3
   },
   "file_extension": ".py",
   "mimetype": "text/x-python",
   "name": "python",
   "nbconvert_exporter": "python",
   "pygments_lexer": "ipython3",
   "version": "3.8.5"
  }
 },
 "nbformat": 4,
 "nbformat_minor": 4
}
