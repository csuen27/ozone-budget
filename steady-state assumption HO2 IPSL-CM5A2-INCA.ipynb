{
 "cells": [
  {
   "cell_type": "code",
   "execution_count": 1,
   "metadata": {},
   "outputs": [],
   "source": [
    "import warnings\n",
    "warnings.filterwarnings(\"ignore\")\n",
    "\n",
    "import pandas as pd\n",
    "import numpy as np\n",
    "import matplotlib as mpl\n",
    "import matplotlib.pyplot as plt\n",
    "\n",
    "from sklearn.metrics import r2_score as R2\n",
    "from sklearn.metrics import mean_squared_error as MSE"
   ]
  },
  {
   "cell_type": "code",
   "execution_count": 2,
   "metadata": {},
   "outputs": [],
   "source": [
    "data = pd.read_csv('/Volumes/Database/Research/C7 Multivariate analysis/IPSL-CM5A2-INCA_diag_2014(0318).csv')"
   ]
  },
  {
   "cell_type": "code",
   "execution_count": 3,
   "metadata": {},
   "outputs": [],
   "source": [
    "country = pd.read_csv('/Users/csuen/Desktop/PhD/Maps/country_province_state_2*2.csv')\n",
    "data = data.merge(country, how = 'left', left_on = ['longitude','latitude'], right_on = ['longitude','latitude'])\n",
    "data = data.drop(['province','state'], axis=1)"
   ]
  },
  {
   "cell_type": "markdown",
   "metadata": {},
   "source": [
    "### First, converse the concentrations in ppb to molecules cm${^{-3}}$"
   ]
  },
  {
   "cell_type": "code",
   "execution_count": 4,
   "metadata": {},
   "outputs": [],
   "source": [
    "data['o3_mole'] = data['o3']*1.01325*10**5/data['tas']*7.243*10**7*(10**9)\n",
    "data['no_mole'] = data['no']*1.01325*10**5/data['tas']*7.243*10**7*(10**9)\n",
    "data['no2_mole'] = data['no2']*1.01325*10**5/data['tas']*7.243*10**7*(10**9)\n",
    "data['oh_mole'] = data['oh']*1.01325*10**5/data['tas']*7.243*10**7*(10**9)\n",
    "data['h2o_mole'] = data['h2o']*1.01325*10**5/data['tas']*7.243*10**7*(10**9)\n",
    "data['hno3_mole'] = data['hno3']*1.01325*10**5/data['tas']*7.243*10**7*(10**9)\n",
    "data['pan_mole'] = data['pan']*1.01325*10**5/data['tas']*7.243*10**7*(10**9)\n",
    "\n",
    "data['k_ho2_ho2'] = 2.2*10**(-13)*np.exp(600/data['tas'])\n",
    "data['k_oh_no2'] = 6.5*10**(-11)\n",
    "data['k_o1d_h2o'] = 2.14*10**(-10)\n",
    "\n",
    "data['o3prod_mole'] = data['o3prod']\n",
    "data['o3loss_mole'] = data['o3loss']\n",
    "\n",
    "data['lossch4_mole'] = data['lossch4']\n",
    "data['lossco_mole'] = data['lossco']\n",
    "data['k_ch3o2_ch3o2'] = 1.03*10**(-13)*np.exp(365/data['tas'])"
   ]
  },
  {
   "cell_type": "code",
   "execution_count": 5,
   "metadata": {},
   "outputs": [
    {
     "data": {
      "text/plain": [
       "8.571551227569579e-12"
      ]
     },
     "execution_count": 5,
     "metadata": {},
     "output_type": "execute_result"
    }
   ],
   "source": [
    "data['k_no_ho2'].median()"
   ]
  },
  {
   "cell_type": "code",
   "execution_count": 6,
   "metadata": {},
   "outputs": [
    {
     "data": {
      "text/plain": [
       "8.21211850643158e-12"
      ]
     },
     "execution_count": 6,
     "metadata": {},
     "output_type": "execute_result"
    }
   ],
   "source": [
    "data['k_no_ch3o2'].median()"
   ]
  },
  {
   "cell_type": "code",
   "execution_count": 7,
   "metadata": {},
   "outputs": [
    {
     "data": {
      "text/plain": [
       "6.126556284725666e-14"
      ]
     },
     "execution_count": 7,
     "metadata": {},
     "output_type": "execute_result"
    }
   ],
   "source": [
    "data['k_o3_oh'].median()"
   ]
  },
  {
   "cell_type": "code",
   "execution_count": 8,
   "metadata": {},
   "outputs": [
    {
     "data": {
      "text/plain": [
       "1.797851070566387e-15"
      ]
     },
     "execution_count": 8,
     "metadata": {},
     "output_type": "execute_result"
    }
   ],
   "source": [
    "data['k_o3_ho2'].median()"
   ]
  },
  {
   "cell_type": "code",
   "execution_count": 9,
   "metadata": {},
   "outputs": [
    {
     "data": {
      "text/plain": [
       "3.7431853389400414e-13"
      ]
     },
     "execution_count": 9,
     "metadata": {},
     "output_type": "execute_result"
    }
   ],
   "source": [
    "data['k_ch3o2_ch3o2'].median()"
   ]
  },
  {
   "cell_type": "code",
   "execution_count": 10,
   "metadata": {},
   "outputs": [],
   "source": [
    "data['a'] = 2*data['k_ho2_ho2']\n",
    "data['b'] = data['k_o3_ho2']*data['o3_mole'] + data['k_no_ho2']*data['no_mole']\n",
    "data['c'] = -data['lossco_mole'] - data['k_o3_oh']*data['o3_mole']*data['oh_mole']"
   ]
  },
  {
   "cell_type": "code",
   "execution_count": 11,
   "metadata": {},
   "outputs": [],
   "source": [
    "data['ho2_mole'] = (-data['b'] + np.sqrt(data['b']**2 - 4*data['a']*data['c']))/(2*data['a'])"
   ]
  },
  {
   "cell_type": "code",
   "execution_count": 12,
   "metadata": {},
   "outputs": [
    {
     "data": {
      "text/plain": [
       "433075.70326380787"
      ]
     },
     "execution_count": 12,
     "metadata": {},
     "output_type": "execute_result"
    }
   ],
   "source": [
    "data['lossco'].mean()"
   ]
  },
  {
   "cell_type": "code",
   "execution_count": 13,
   "metadata": {},
   "outputs": [
    {
     "data": {
      "text/plain": [
       "count    9.720000e+05\n",
       "mean     7.816475e+07\n",
       "std      8.685630e+07\n",
       "min      2.092492e+03\n",
       "25%      1.116001e+07\n",
       "50%      4.432782e+07\n",
       "75%      1.196820e+08\n",
       "max      6.014305e+08\n",
       "Name: ho2_mole, dtype: float64"
      ]
     },
     "execution_count": 13,
     "metadata": {},
     "output_type": "execute_result"
    }
   ],
   "source": [
    "data['ho2_mole'].describe()"
   ]
  },
  {
   "cell_type": "code",
   "execution_count": 14,
   "metadata": {},
   "outputs": [
    {
     "data": {
      "text/plain": [
       "count    9.720000e+05\n",
       "mean     9.724862e+05\n",
       "std      1.092392e+06\n",
       "min      8.187205e+00\n",
       "25%      1.134230e+05\n",
       "50%      5.851662e+05\n",
       "75%      1.585218e+06\n",
       "max      2.289215e+07\n",
       "Name: oh_mole, dtype: float64"
      ]
     },
     "execution_count": 14,
     "metadata": {},
     "output_type": "execute_result"
    }
   ],
   "source": [
    "data['oh_mole'].describe()"
   ]
  },
  {
   "cell_type": "code",
   "execution_count": 15,
   "metadata": {},
   "outputs": [
    {
     "data": {
      "text/plain": [
       "count    972000.000000\n",
       "mean        159.670943\n",
       "std         154.954236\n",
       "min           0.390853\n",
       "25%          58.477217\n",
       "50%         130.402889\n",
       "75%         210.612507\n",
       "max        1466.740944\n",
       "Name: ratio_ho2_oh, dtype: float64"
      ]
     },
     "execution_count": 15,
     "metadata": {},
     "output_type": "execute_result"
    }
   ],
   "source": [
    "data['ratio_ho2_oh'] = data['ho2_mole']/data['oh_mole']\n",
    "data['ratio_ho2_oh'].describe()"
   ]
  },
  {
   "cell_type": "code",
   "execution_count": 16,
   "metadata": {},
   "outputs": [
    {
     "data": {
      "text/plain": [
       "count    972000.000000\n",
       "mean          0.383222\n",
       "std           0.211867\n",
       "min           0.000363\n",
       "25%           0.234491\n",
       "50%           0.392250\n",
       "75%           0.522386\n",
       "max           1.515435\n",
       "Name: P1_frac, dtype: float64"
      ]
     },
     "execution_count": 16,
     "metadata": {},
     "output_type": "execute_result"
    }
   ],
   "source": [
    "data['P1'] = data['k_no_ho2']*data['no_mole']*data['ho2_mole']\n",
    "data['P1_frac'] = data['P1']/data['o3prod_mole']\n",
    "data['P1_frac'].describe()"
   ]
  },
  {
   "cell_type": "code",
   "execution_count": 17,
   "metadata": {},
   "outputs": [
    {
     "data": {
      "image/png": "[encoded data removed]",
      "text/plain": [
       "<Figure size 432x288 with 2 Axes>"
      ]
     },
     "metadata": {
      "needs_background": "light"
     },
     "output_type": "display_data"
    }
   ],
   "source": [
    "data['loc'] = data['longitude']*1000 + data['latitude']\n",
    "data_land = data\n",
    "data_mean = data_land.groupby(['loc']).mean()\n",
    "\n",
    "cm = plt.cm.get_cmap('Blues')\n",
    "x = data_mean['longitude']\n",
    "y = data_mean['latitude']\n",
    "z = data_mean['P1_frac']\n",
    "sc = plt.scatter(x, y, c=z, marker=\"s\", vmin=0, vmax=0.5, s=3, cmap=cm)\n",
    "plt.xlim([-180, 180])\n",
    "plt.ylim([-90, 90])\n",
    "plt.colorbar(sc)\n",
    "plt.show()"
   ]
  },
  {
   "cell_type": "code",
   "execution_count": 18,
   "metadata": {},
   "outputs": [
    {
     "data": {
      "text/plain": [
       "count    16200.000000\n",
       "mean         0.383222\n",
       "std          0.139599\n",
       "min          0.019757\n",
       "25%          0.313459\n",
       "50%          0.364402\n",
       "75%          0.471110\n",
       "max          0.883822\n",
       "Name: P1_frac, dtype: float64"
      ]
     },
     "execution_count": 18,
     "metadata": {},
     "output_type": "execute_result"
    }
   ],
   "source": [
    "data_mean['P1_frac'].describe()"
   ]
  },
  {
   "cell_type": "code",
   "execution_count": 19,
   "metadata": {},
   "outputs": [
    {
     "data": {
      "image/png": "[encoded data removed]",
      "text/plain": [
       "<Figure size 432x288 with 2 Axes>"
      ]
     },
     "metadata": {
      "needs_background": "light"
     },
     "output_type": "display_data"
    }
   ],
   "source": [
    "data['loc'] = data['longitude']*1000 + data['latitude']\n",
    "data_land = data\n",
    "data_mean = data_land.groupby(['loc']).mean()\n",
    "\n",
    "cm = plt.cm.get_cmap('Reds')\n",
    "x = data_mean['longitude']\n",
    "y = data_mean['latitude']\n",
    "z = data_mean['ho2_mole']*10**(-8)\n",
    "sc = plt.scatter(x, y, c=z, marker=\"s\", vmin=0, vmax=2.5, s=3, cmap=cm)\n",
    "plt.xlim([-180, 180])\n",
    "plt.ylim([-90, 90])\n",
    "plt.colorbar(sc)\n",
    "plt.show()"
   ]
  },
  {
   "cell_type": "code",
   "execution_count": 20,
   "metadata": {},
   "outputs": [
    {
     "data": {
      "text/html": [
       "<div>\n",
       "<style scoped>\n",
       "    .dataframe tbody tr th:only-of-type {\n",
       "        vertical-align: middle;\n",
       "    }\n",
       "\n",
       "    .dataframe tbody tr th {\n",
       "        vertical-align: top;\n",
       "    }\n",
       "\n",
       "    .dataframe thead th {\n",
       "        text-align: right;\n",
       "    }\n",
       "</style>\n",
       "<table border=\"1\" class=\"dataframe\">\n",
       "  <thead>\n",
       "    <tr style=\"text-align: right;\">\n",
       "      <th></th>\n",
       "      <th>longitude</th>\n",
       "      <th>latitude</th>\n",
       "      <th>t</th>\n",
       "      <th>loc</th>\n",
       "      <th>o3</th>\n",
       "      <th>o3prod</th>\n",
       "      <th>o3loss</th>\n",
       "      <th>eminox</th>\n",
       "      <th>emivoc</th>\n",
       "      <th>tas</th>\n",
       "      <th>...</th>\n",
       "      <th>k_oh_no2</th>\n",
       "      <th>o3prod_mole</th>\n",
       "      <th>o3loss_mole</th>\n",
       "      <th>lossch4_mole</th>\n",
       "      <th>lossco_mole</th>\n",
       "      <th>k_ch3o2_ch3o2</th>\n",
       "      <th>ho2_mole</th>\n",
       "      <th>ratio_ho2_oh</th>\n",
       "      <th>P1</th>\n",
       "      <th>P1_frac</th>\n",
       "    </tr>\n",
       "  </thead>\n",
       "  <tbody>\n",
       "    <tr>\n",
       "      <th>0</th>\n",
       "      <td>1.0</td>\n",
       "      <td>-89.0</td>\n",
       "      <td>1.0</td>\n",
       "      <td>911.0</td>\n",
       "      <td>1.112896e-08</td>\n",
       "      <td>43453.7800</td>\n",
       "      <td>29979.4260</td>\n",
       "      <td>0.000000e+00</td>\n",
       "      <td>0.000000e+00</td>\n",
       "      <td>245.66006</td>\n",
       "      <td>...</td>\n",
       "      <td>6.500000e-11</td>\n",
       "      <td>43453.7800</td>\n",
       "      <td>29979.4260</td>\n",
       "      <td>1.438867e+00</td>\n",
       "      <td>66282.48400</td>\n",
       "      <td>4.551022e-13</td>\n",
       "      <td>5.048696e+07</td>\n",
       "      <td>104.136986</td>\n",
       "      <td>36395.603854</td>\n",
       "      <td>0.837570</td>\n",
       "    </tr>\n",
       "    <tr>\n",
       "      <th>1</th>\n",
       "      <td>3.0</td>\n",
       "      <td>-89.0</td>\n",
       "      <td>1.0</td>\n",
       "      <td>2911.0</td>\n",
       "      <td>1.113095e-08</td>\n",
       "      <td>43206.9180</td>\n",
       "      <td>29742.9550</td>\n",
       "      <td>0.000000e+00</td>\n",
       "      <td>0.000000e+00</td>\n",
       "      <td>245.46959</td>\n",
       "      <td>...</td>\n",
       "      <td>6.500000e-11</td>\n",
       "      <td>43206.9180</td>\n",
       "      <td>29742.9550</td>\n",
       "      <td>1.436088e+00</td>\n",
       "      <td>66020.16400</td>\n",
       "      <td>4.556272e-13</td>\n",
       "      <td>5.028849e+07</td>\n",
       "      <td>103.487042</td>\n",
       "      <td>36311.495598</td>\n",
       "      <td>0.840409</td>\n",
       "    </tr>\n",
       "    <tr>\n",
       "      <th>2</th>\n",
       "      <td>5.0</td>\n",
       "      <td>-89.0</td>\n",
       "      <td>1.0</td>\n",
       "      <td>4911.0</td>\n",
       "      <td>1.113095e-08</td>\n",
       "      <td>43206.9180</td>\n",
       "      <td>29742.9550</td>\n",
       "      <td>0.000000e+00</td>\n",
       "      <td>0.000000e+00</td>\n",
       "      <td>245.46959</td>\n",
       "      <td>...</td>\n",
       "      <td>6.500000e-11</td>\n",
       "      <td>43206.9180</td>\n",
       "      <td>29742.9550</td>\n",
       "      <td>1.436088e+00</td>\n",
       "      <td>66020.16400</td>\n",
       "      <td>4.556272e-13</td>\n",
       "      <td>5.028849e+07</td>\n",
       "      <td>103.487042</td>\n",
       "      <td>36311.495598</td>\n",
       "      <td>0.840409</td>\n",
       "    </tr>\n",
       "    <tr>\n",
       "      <th>3</th>\n",
       "      <td>7.0</td>\n",
       "      <td>-89.0</td>\n",
       "      <td>1.0</td>\n",
       "      <td>6911.0</td>\n",
       "      <td>1.113436e-08</td>\n",
       "      <td>42965.9960</td>\n",
       "      <td>29509.3320</td>\n",
       "      <td>0.000000e+00</td>\n",
       "      <td>0.000000e+00</td>\n",
       "      <td>245.26491</td>\n",
       "      <td>...</td>\n",
       "      <td>6.500000e-11</td>\n",
       "      <td>42965.9960</td>\n",
       "      <td>29509.3320</td>\n",
       "      <td>1.433408e+00</td>\n",
       "      <td>65769.07000</td>\n",
       "      <td>4.561929e-13</td>\n",
       "      <td>5.008854e+07</td>\n",
       "      <td>102.781754</td>\n",
       "      <td>36239.036844</td>\n",
       "      <td>0.843435</td>\n",
       "    </tr>\n",
       "    <tr>\n",
       "      <th>4</th>\n",
       "      <td>9.0</td>\n",
       "      <td>-89.0</td>\n",
       "      <td>1.0</td>\n",
       "      <td>8911.0</td>\n",
       "      <td>1.113436e-08</td>\n",
       "      <td>42965.9960</td>\n",
       "      <td>29509.3320</td>\n",
       "      <td>0.000000e+00</td>\n",
       "      <td>0.000000e+00</td>\n",
       "      <td>245.26491</td>\n",
       "      <td>...</td>\n",
       "      <td>6.500000e-11</td>\n",
       "      <td>42965.9960</td>\n",
       "      <td>29509.3320</td>\n",
       "      <td>1.433408e+00</td>\n",
       "      <td>65769.07000</td>\n",
       "      <td>4.561929e-13</td>\n",
       "      <td>5.008854e+07</td>\n",
       "      <td>102.781754</td>\n",
       "      <td>36239.036844</td>\n",
       "      <td>0.843435</td>\n",
       "    </tr>\n",
       "    <tr>\n",
       "      <th>...</th>\n",
       "      <td>...</td>\n",
       "      <td>...</td>\n",
       "      <td>...</td>\n",
       "      <td>...</td>\n",
       "      <td>...</td>\n",
       "      <td>...</td>\n",
       "      <td>...</td>\n",
       "      <td>...</td>\n",
       "      <td>...</td>\n",
       "      <td>...</td>\n",
       "      <td>...</td>\n",
       "      <td>...</td>\n",
       "      <td>...</td>\n",
       "      <td>...</td>\n",
       "      <td>...</td>\n",
       "      <td>...</td>\n",
       "      <td>...</td>\n",
       "      <td>...</td>\n",
       "      <td>...</td>\n",
       "      <td>...</td>\n",
       "      <td>...</td>\n",
       "    </tr>\n",
       "    <tr>\n",
       "      <th>971995</th>\n",
       "      <td>-9.0</td>\n",
       "      <td>89.0</td>\n",
       "      <td>60.0</td>\n",
       "      <td>-8911.0</td>\n",
       "      <td>1.862602e-08</td>\n",
       "      <td>4275.3660</td>\n",
       "      <td>1351.6846</td>\n",
       "      <td>9.564082e-14</td>\n",
       "      <td>7.891430e-15</td>\n",
       "      <td>243.62012</td>\n",
       "      <td>...</td>\n",
       "      <td>6.500000e-11</td>\n",
       "      <td>4275.3660</td>\n",
       "      <td>1351.6846</td>\n",
       "      <td>5.829146e-18</td>\n",
       "      <td>593.31146</td>\n",
       "      <td>4.607996e-13</td>\n",
       "      <td>5.385743e+05</td>\n",
       "      <td>694.382017</td>\n",
       "      <td>200.035263</td>\n",
       "      <td>0.046788</td>\n",
       "    </tr>\n",
       "    <tr>\n",
       "      <th>971996</th>\n",
       "      <td>-7.0</td>\n",
       "      <td>89.0</td>\n",
       "      <td>60.0</td>\n",
       "      <td>-6911.0</td>\n",
       "      <td>1.862602e-08</td>\n",
       "      <td>4275.3660</td>\n",
       "      <td>1351.6846</td>\n",
       "      <td>9.564082e-14</td>\n",
       "      <td>2.050938e-15</td>\n",
       "      <td>243.62012</td>\n",
       "      <td>...</td>\n",
       "      <td>6.500000e-11</td>\n",
       "      <td>4275.3660</td>\n",
       "      <td>1351.6846</td>\n",
       "      <td>5.829146e-18</td>\n",
       "      <td>593.31146</td>\n",
       "      <td>4.607996e-13</td>\n",
       "      <td>5.385743e+05</td>\n",
       "      <td>694.382017</td>\n",
       "      <td>200.035263</td>\n",
       "      <td>0.046788</td>\n",
       "    </tr>\n",
       "    <tr>\n",
       "      <th>971997</th>\n",
       "      <td>-5.0</td>\n",
       "      <td>89.0</td>\n",
       "      <td>60.0</td>\n",
       "      <td>-4911.0</td>\n",
       "      <td>1.860374e-08</td>\n",
       "      <td>3114.9426</td>\n",
       "      <td>1375.8046</td>\n",
       "      <td>1.464548e-14</td>\n",
       "      <td>0.000000e+00</td>\n",
       "      <td>243.73741</td>\n",
       "      <td>...</td>\n",
       "      <td>6.500000e-11</td>\n",
       "      <td>3114.9426</td>\n",
       "      <td>1375.8046</td>\n",
       "      <td>5.823773e-18</td>\n",
       "      <td>605.01666</td>\n",
       "      <td>4.604675e-13</td>\n",
       "      <td>7.473813e+05</td>\n",
       "      <td>943.450725</td>\n",
       "      <td>53.225640</td>\n",
       "      <td>0.017087</td>\n",
       "    </tr>\n",
       "    <tr>\n",
       "      <th>971998</th>\n",
       "      <td>-3.0</td>\n",
       "      <td>89.0</td>\n",
       "      <td>60.0</td>\n",
       "      <td>-2911.0</td>\n",
       "      <td>1.860374e-08</td>\n",
       "      <td>3114.9426</td>\n",
       "      <td>1375.8046</td>\n",
       "      <td>1.464548e-14</td>\n",
       "      <td>8.804016e-16</td>\n",
       "      <td>243.73741</td>\n",
       "      <td>...</td>\n",
       "      <td>6.500000e-11</td>\n",
       "      <td>3114.9426</td>\n",
       "      <td>1375.8046</td>\n",
       "      <td>5.823773e-18</td>\n",
       "      <td>605.01666</td>\n",
       "      <td>4.604675e-13</td>\n",
       "      <td>7.473813e+05</td>\n",
       "      <td>943.450725</td>\n",
       "      <td>53.225640</td>\n",
       "      <td>0.017087</td>\n",
       "    </tr>\n",
       "    <tr>\n",
       "      <th>971999</th>\n",
       "      <td>-1.0</td>\n",
       "      <td>89.0</td>\n",
       "      <td>60.0</td>\n",
       "      <td>-911.0</td>\n",
       "      <td>1.858534e-08</td>\n",
       "      <td>6020.3433</td>\n",
       "      <td>1367.0948</td>\n",
       "      <td>1.340802e-13</td>\n",
       "      <td>5.280841e-15</td>\n",
       "      <td>243.85782</td>\n",
       "      <td>...</td>\n",
       "      <td>6.500000e-11</td>\n",
       "      <td>6020.3433</td>\n",
       "      <td>1367.0948</td>\n",
       "      <td>5.820628e-18</td>\n",
       "      <td>598.73250</td>\n",
       "      <td>4.601271e-13</td>\n",
       "      <td>4.797955e+05</td>\n",
       "      <td>613.777847</td>\n",
       "      <td>250.897416</td>\n",
       "      <td>0.041675</td>\n",
       "    </tr>\n",
       "  </tbody>\n",
       "</table>\n",
       "<p>972000 rows × 59 columns</p>\n",
       "</div>"
      ],
      "text/plain": [
       "        longitude  latitude     t     loc            o3      o3prod  \\\n",
       "0             1.0     -89.0   1.0   911.0  1.112896e-08  43453.7800   \n",
       "1             3.0     -89.0   1.0  2911.0  1.113095e-08  43206.9180   \n",
       "2             5.0     -89.0   1.0  4911.0  1.113095e-08  43206.9180   \n",
       "3             7.0     -89.0   1.0  6911.0  1.113436e-08  42965.9960   \n",
       "4             9.0     -89.0   1.0  8911.0  1.113436e-08  42965.9960   \n",
       "...           ...       ...   ...     ...           ...         ...   \n",
       "971995       -9.0      89.0  60.0 -8911.0  1.862602e-08   4275.3660   \n",
       "971996       -7.0      89.0  60.0 -6911.0  1.862602e-08   4275.3660   \n",
       "971997       -5.0      89.0  60.0 -4911.0  1.860374e-08   3114.9426   \n",
       "971998       -3.0      89.0  60.0 -2911.0  1.860374e-08   3114.9426   \n",
       "971999       -1.0      89.0  60.0  -911.0  1.858534e-08   6020.3433   \n",
       "\n",
       "            o3loss        eminox        emivoc        tas  ...      k_oh_no2  \\\n",
       "0       29979.4260  0.000000e+00  0.000000e+00  245.66006  ...  6.500000e-11   \n",
       "1       29742.9550  0.000000e+00  0.000000e+00  245.46959  ...  6.500000e-11   \n",
       "2       29742.9550  0.000000e+00  0.000000e+00  245.46959  ...  6.500000e-11   \n",
       "3       29509.3320  0.000000e+00  0.000000e+00  245.26491  ...  6.500000e-11   \n",
       "4       29509.3320  0.000000e+00  0.000000e+00  245.26491  ...  6.500000e-11   \n",
       "...            ...           ...           ...        ...  ...           ...   \n",
       "971995   1351.6846  9.564082e-14  7.891430e-15  243.62012  ...  6.500000e-11   \n",
       "971996   1351.6846  9.564082e-14  2.050938e-15  243.62012  ...  6.500000e-11   \n",
       "971997   1375.8046  1.464548e-14  0.000000e+00  243.73741  ...  6.500000e-11   \n",
       "971998   1375.8046  1.464548e-14  8.804016e-16  243.73741  ...  6.500000e-11   \n",
       "971999   1367.0948  1.340802e-13  5.280841e-15  243.85782  ...  6.500000e-11   \n",
       "\n",
       "        o3prod_mole  o3loss_mole  lossch4_mole  lossco_mole  k_ch3o2_ch3o2  \\\n",
       "0        43453.7800   29979.4260  1.438867e+00  66282.48400   4.551022e-13   \n",
       "1        43206.9180   29742.9550  1.436088e+00  66020.16400   4.556272e-13   \n",
       "2        43206.9180   29742.9550  1.436088e+00  66020.16400   4.556272e-13   \n",
       "3        42965.9960   29509.3320  1.433408e+00  65769.07000   4.561929e-13   \n",
       "4        42965.9960   29509.3320  1.433408e+00  65769.07000   4.561929e-13   \n",
       "...             ...          ...           ...          ...            ...   \n",
       "971995    4275.3660    1351.6846  5.829146e-18    593.31146   4.607996e-13   \n",
       "971996    4275.3660    1351.6846  5.829146e-18    593.31146   4.607996e-13   \n",
       "971997    3114.9426    1375.8046  5.823773e-18    605.01666   4.604675e-13   \n",
       "971998    3114.9426    1375.8046  5.823773e-18    605.01666   4.604675e-13   \n",
       "971999    6020.3433    1367.0948  5.820628e-18    598.73250   4.601271e-13   \n",
       "\n",
       "            ho2_mole  ratio_ho2_oh            P1   P1_frac  \n",
       "0       5.048696e+07    104.136986  36395.603854  0.837570  \n",
       "1       5.028849e+07    103.487042  36311.495598  0.840409  \n",
       "2       5.028849e+07    103.487042  36311.495598  0.840409  \n",
       "3       5.008854e+07    102.781754  36239.036844  0.843435  \n",
       "4       5.008854e+07    102.781754  36239.036844  0.843435  \n",
       "...              ...           ...           ...       ...  \n",
       "971995  5.385743e+05    694.382017    200.035263  0.046788  \n",
       "971996  5.385743e+05    694.382017    200.035263  0.046788  \n",
       "971997  7.473813e+05    943.450725     53.225640  0.017087  \n",
       "971998  7.473813e+05    943.450725     53.225640  0.017087  \n",
       "971999  4.797955e+05    613.777847    250.897416  0.041675  \n",
       "\n",
       "[972000 rows x 59 columns]"
      ]
     },
     "execution_count": 20,
     "metadata": {},
     "output_type": "execute_result"
    }
   ],
   "source": [
    "data = data.drop(['a','b','c'], axis=1)\n",
    "data"
   ]
  },
  {
   "cell_type": "code",
   "execution_count": 22,
   "metadata": {},
   "outputs": [],
   "source": [
    "data.to_csv('/Volumes/Database/Research/C7 Multivariate analysis/IPSL-CM5A2-INCA_diag_2014(0319).csv', index = False)"
   ]
  }
 ],
 "metadata": {
  "kernelspec": {
   "display_name": "Python 3",
   "language": "python",
   "name": "python3"
  },
  "language_info": {
   "codemirror_mode": {
    "name": "ipython",
    "version": 3
   },
   "file_extension": ".py",
   "mimetype": "text/x-python",
   "name": "python",
   "nbconvert_exporter": "python",
   "pygments_lexer": "ipython3",
   "version": "3.8.5"
  }
 },
 "nbformat": 4,
 "nbformat_minor": 4
}
