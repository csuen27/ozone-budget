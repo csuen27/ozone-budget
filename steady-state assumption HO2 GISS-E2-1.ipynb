{
 "cells": [
  {
   "cell_type": "code",
   "execution_count": 1,
   "metadata": {},
   "outputs": [],
   "source": [
    "import warnings\n",
    "warnings.filterwarnings(\"ignore\")\n",
    "\n",
    "import pandas as pd\n",
    "import numpy as np\n",
    "import matplotlib as mpl\n",
    "import matplotlib.pyplot as plt\n",
    "\n",
    "from sklearn.metrics import r2_score as R2\n",
    "from sklearn.metrics import mean_squared_error as MSE"
   ]
  },
  {
   "cell_type": "code",
   "execution_count": 2,
   "metadata": {},
   "outputs": [],
   "source": [
    "data = pd.read_csv('/Volumes/Database/Research/C7 Multivariate analysis/GISS-E2-1_diag_2014(0318).csv')"
   ]
  },
  {
   "cell_type": "code",
   "execution_count": 3,
   "metadata": {},
   "outputs": [],
   "source": [
    "country = pd.read_csv('/Users/csuen/Desktop/PhD/Maps/country_province_state_2*2.csv')\n",
    "data = data.merge(country, how = 'left', left_on = ['longitude','latitude'], right_on = ['longitude','latitude'])\n",
    "data = data.drop(['province','state'], axis=1)"
   ]
  },
  {
   "cell_type": "markdown",
   "metadata": {},
   "source": [
    "### First, converse the concentrations in ppb to molecules cm${^{-3}}$"
   ]
  },
  {
   "cell_type": "code",
   "execution_count": 4,
   "metadata": {},
   "outputs": [],
   "source": [
    "data['o3_mole'] = data['o3']*1.01325*10**5/data['tas']*7.243*10**7*(10**9)\n",
    "data['no_mole'] = data['no']*1.01325*10**5/data['tas']*7.243*10**7*(10**9)\n",
    "data['no2_mole'] = data['no2']*1.01325*10**5/data['tas']*7.243*10**7*(10**9)\n",
    "data['oh_mole'] = data['oh']*1.01325*10**5/data['tas']*7.243*10**7*(10**9)\n",
    "data['h2o_mole'] = data['h2o']*1.01325*10**5/data['tas']*7.243*10**7*(10**9)\n",
    "data['hno3_mole'] = data['hno3']*1.01325*10**5/data['tas']*7.243*10**7*(10**9)\n",
    "data['pan_mole'] = data['pan']*1.01325*10**5/data['tas']*7.243*10**7*(10**9)\n",
    "\n",
    "data['k_ho2_ho2'] = 2.2*10**(-13)*np.exp(600/data['tas'])\n",
    "data['k_oh_no2'] = 6.5*10**(-11)\n",
    "data['k_o1d_h2o'] = 2.14*10**(-10)\n",
    "\n",
    "data['o3prod_mole'] = data['o3prod']*6.022*10**17\n",
    "data['o3loss_mole'] = data['o3loss']*6.022*10**17\n",
    "\n",
    "data['lossch4_mole'] = data['lossch4']*6.022*10**17\n",
    "data['lossco_mole'] = data['lossco']*6.022*10**17\n",
    "data['k_ch3o2_ch3o2'] = 1.03*10**(-13)*np.exp(365/data['tas'])"
   ]
  },
  {
   "cell_type": "code",
   "execution_count": 5,
   "metadata": {},
   "outputs": [
    {
     "data": {
      "text/plain": [
       "8.561436760425568e-12"
      ]
     },
     "execution_count": 5,
     "metadata": {},
     "output_type": "execute_result"
    }
   ],
   "source": [
    "data['k_no_ho2'].median()"
   ]
  },
  {
   "cell_type": "code",
   "execution_count": 6,
   "metadata": {},
   "outputs": [
    {
     "data": {
      "text/plain": [
       "8.19919935464859e-12"
      ]
     },
     "execution_count": 6,
     "metadata": {},
     "output_type": "execute_result"
    }
   ],
   "source": [
    "data['k_no_ch3o2'].median()"
   ]
  },
  {
   "cell_type": "code",
   "execution_count": 7,
   "metadata": {},
   "outputs": [
    {
     "data": {
      "text/plain": [
       "6.151791997253894e-14"
      ]
     },
     "execution_count": 7,
     "metadata": {},
     "output_type": "execute_result"
    }
   ],
   "source": [
    "data['k_o3_oh'].median()"
   ]
  },
  {
   "cell_type": "code",
   "execution_count": 8,
   "metadata": {},
   "outputs": [
    {
     "data": {
      "text/plain": [
       "1.80257820186075e-15"
      ]
     },
     "execution_count": 8,
     "metadata": {},
     "output_type": "execute_result"
    }
   ],
   "source": [
    "data['k_o3_ho2'].median()"
   ]
  },
  {
   "cell_type": "code",
   "execution_count": 9,
   "metadata": {},
   "outputs": [
    {
     "data": {
      "text/plain": [
       "3.737215320338433e-13"
      ]
     },
     "execution_count": 9,
     "metadata": {},
     "output_type": "execute_result"
    }
   ],
   "source": [
    "data['k_ch3o2_ch3o2'].median()"
   ]
  },
  {
   "cell_type": "code",
   "execution_count": 10,
   "metadata": {},
   "outputs": [],
   "source": [
    "data['a'] = 2*data['k_ho2_ho2']\n",
    "data['b'] = data['k_o3_ho2']*data['o3_mole'] + data['k_no_ho2']*data['no_mole']\n",
    "data['c'] = -data['lossco_mole'] - data['k_o3_oh']*data['o3_mole']*data['oh_mole']"
   ]
  },
  {
   "cell_type": "code",
   "execution_count": 11,
   "metadata": {},
   "outputs": [],
   "source": [
    "data['ho2_mole'] = (-data['b'] + np.sqrt(data['b']**2 - 4*data['a']*data['c']))/(2*data['a'])"
   ]
  },
  {
   "cell_type": "code",
   "execution_count": 12,
   "metadata": {},
   "outputs": [
    {
     "data": {
      "text/plain": [
       "count    9.720000e+05\n",
       "mean     9.683807e+07\n",
       "std      7.054596e+07\n",
       "min      0.000000e+00\n",
       "25%      3.985511e+07\n",
       "50%      8.525960e+07\n",
       "75%      1.417273e+08\n",
       "max      4.505527e+08\n",
       "Name: ho2_mole, dtype: float64"
      ]
     },
     "execution_count": 12,
     "metadata": {},
     "output_type": "execute_result"
    }
   ],
   "source": [
    "data['ho2_mole'].describe()"
   ]
  },
  {
   "cell_type": "code",
   "execution_count": 13,
   "metadata": {},
   "outputs": [
    {
     "data": {
      "text/plain": [
       "count    9.720000e+05\n",
       "mean     8.247508e+05\n",
       "std      8.649706e+05\n",
       "min      0.000000e+00\n",
       "25%      1.853992e+05\n",
       "50%      5.610260e+05\n",
       "75%      1.203413e+06\n",
       "max      1.821567e+07\n",
       "Name: oh_mole, dtype: float64"
      ]
     },
     "execution_count": 13,
     "metadata": {},
     "output_type": "execute_result"
    }
   ],
   "source": [
    "data['oh_mole'].describe()"
   ]
  },
  {
   "cell_type": "code",
   "execution_count": 14,
   "metadata": {},
   "outputs": [
    {
     "data": {
      "text/plain": [
       "count    943610.000000\n",
       "mean        195.536042\n",
       "std         122.331337\n",
       "min           2.082493\n",
       "25%         105.836388\n",
       "50%         173.079441\n",
       "75%         256.953460\n",
       "max        2221.587200\n",
       "Name: ratio_ho2_oh, dtype: float64"
      ]
     },
     "execution_count": 14,
     "metadata": {},
     "output_type": "execute_result"
    }
   ],
   "source": [
    "data['ratio_ho2_oh'] = data['ho2_mole']/data['oh_mole']\n",
    "data['ratio_ho2_oh'].describe()"
   ]
  },
  {
   "cell_type": "code",
   "execution_count": 15,
   "metadata": {},
   "outputs": [
    {
     "data": {
      "text/plain": [
       "count    9.436100e+05\n",
       "mean     3.535528e-01\n",
       "std      1.963152e-01\n",
       "min      6.170430e-16\n",
       "25%      2.405777e-01\n",
       "50%      3.370939e-01\n",
       "75%      4.435036e-01\n",
       "max      1.169109e+00\n",
       "Name: P1_frac, dtype: float64"
      ]
     },
     "execution_count": 15,
     "metadata": {},
     "output_type": "execute_result"
    }
   ],
   "source": [
    "data['P1'] = data['k_no_ho2']*data['no_mole']*data['ho2_mole']\n",
    "data['P1_frac'] = data['P1']/data['o3prod_mole']\n",
    "data['P1_frac'].describe()"
   ]
  },
  {
   "cell_type": "code",
   "execution_count": 16,
   "metadata": {},
   "outputs": [
    {
     "data": {
      "image/png": "[encoded data removed]",
      "text/plain": [
       "<Figure size 432x288 with 2 Axes>"
      ]
     },
     "metadata": {
      "needs_background": "light"
     },
     "output_type": "display_data"
    }
   ],
   "source": [
    "data['loc'] = data['longitude']*1000 + data['latitude']\n",
    "data_land = data\n",
    "#data_land = data_land[data_land['latitude'] >= -60]\n",
    "#data_land = data_land[data_land['P1_frac'] <1]\n",
    "data_mean = data_land.groupby(['loc']).mean()\n",
    "\n",
    "cm = plt.cm.get_cmap('Blues')\n",
    "x = data_mean['longitude']\n",
    "y = data_mean['latitude']\n",
    "z = data_mean['P1_frac']\n",
    "sc = plt.scatter(x, y, c=z, marker=\"s\", vmin=0, vmax=0.5, s=3, cmap=cm)\n",
    "plt.xlim([-180, 180])\n",
    "plt.ylim([-90, 90])\n",
    "plt.colorbar(sc)\n",
    "plt.show()"
   ]
  },
  {
   "cell_type": "code",
   "execution_count": 17,
   "metadata": {},
   "outputs": [
    {
     "data": {
      "text/plain": [
       "count    16200.000000\n",
       "mean         0.359484\n",
       "std          0.138207\n",
       "min          0.006149\n",
       "25%          0.293909\n",
       "50%          0.355479\n",
       "75%          0.448624\n",
       "max          0.773312\n",
       "Name: P1_frac, dtype: float64"
      ]
     },
     "execution_count": 17,
     "metadata": {},
     "output_type": "execute_result"
    }
   ],
   "source": [
    "data_mean['P1_frac'].describe()"
   ]
  },
  {
   "cell_type": "code",
   "execution_count": 18,
   "metadata": {},
   "outputs": [
    {
     "data": {
      "image/png": "[encoded data removed]",
      "text/plain": [
       "<Figure size 432x288 with 2 Axes>"
      ]
     },
     "metadata": {
      "needs_background": "light"
     },
     "output_type": "display_data"
    }
   ],
   "source": [
    "data['loc'] = data['longitude']*1000 + data['latitude']\n",
    "data_land = data\n",
    "#data_land = data_land[data_land['latitude'] >= -60]\n",
    "data_mean = data_land.groupby(['loc']).mean()\n",
    "\n",
    "cm = plt.cm.get_cmap('Reds')\n",
    "x = data_mean['longitude']\n",
    "y = data_mean['latitude']\n",
    "z = data_mean['ho2_mole']*10**(-8)\n",
    "sc = plt.scatter(x, y, c=z, marker=\"s\", vmin=0, vmax=2.5, s=3, cmap=cm)\n",
    "plt.xlim([-180, 180])\n",
    "plt.ylim([-90, 90])\n",
    "plt.colorbar(sc)\n",
    "plt.show()"
   ]
  },
  {
   "cell_type": "code",
   "execution_count": 19,
   "metadata": {},
   "outputs": [
    {
     "data": {
      "text/html": [
       "<div>\n",
       "<style scoped>\n",
       "    .dataframe tbody tr th:only-of-type {\n",
       "        vertical-align: middle;\n",
       "    }\n",
       "\n",
       "    .dataframe tbody tr th {\n",
       "        vertical-align: top;\n",
       "    }\n",
       "\n",
       "    .dataframe thead th {\n",
       "        text-align: right;\n",
       "    }\n",
       "</style>\n",
       "<table border=\"1\" class=\"dataframe\">\n",
       "  <thead>\n",
       "    <tr style=\"text-align: right;\">\n",
       "      <th></th>\n",
       "      <th>longitude</th>\n",
       "      <th>latitude</th>\n",
       "      <th>t</th>\n",
       "      <th>loc</th>\n",
       "      <th>o3</th>\n",
       "      <th>o3prod</th>\n",
       "      <th>o3loss</th>\n",
       "      <th>eminox</th>\n",
       "      <th>emivoc</th>\n",
       "      <th>tas</th>\n",
       "      <th>...</th>\n",
       "      <th>k_oh_no2</th>\n",
       "      <th>o3prod_mole</th>\n",
       "      <th>o3loss_mole</th>\n",
       "      <th>lossch4_mole</th>\n",
       "      <th>lossco_mole</th>\n",
       "      <th>k_ch3o2_ch3o2</th>\n",
       "      <th>ho2_mole</th>\n",
       "      <th>ratio_ho2_oh</th>\n",
       "      <th>P1</th>\n",
       "      <th>P1_frac</th>\n",
       "    </tr>\n",
       "  </thead>\n",
       "  <tbody>\n",
       "    <tr>\n",
       "      <th>0</th>\n",
       "      <td>1.0</td>\n",
       "      <td>-89.0</td>\n",
       "      <td>1.0</td>\n",
       "      <td>911.0</td>\n",
       "      <td>4.129741e-08</td>\n",
       "      <td>2.993728e-13</td>\n",
       "      <td>1.002680e-13</td>\n",
       "      <td>0.0</td>\n",
       "      <td>0.0</td>\n",
       "      <td>245.94757</td>\n",
       "      <td>...</td>\n",
       "      <td>6.500000e-11</td>\n",
       "      <td>180282.318226</td>\n",
       "      <td>60381.383578</td>\n",
       "      <td>116011.84274</td>\n",
       "      <td>194108.87238</td>\n",
       "      <td>4.543124e-13</td>\n",
       "      <td>7.842498e+07</td>\n",
       "      <td>28.293193</td>\n",
       "      <td>157700.310115</td>\n",
       "      <td>0.874741</td>\n",
       "    </tr>\n",
       "    <tr>\n",
       "      <th>1</th>\n",
       "      <td>3.0</td>\n",
       "      <td>-89.0</td>\n",
       "      <td>1.0</td>\n",
       "      <td>2911.0</td>\n",
       "      <td>4.129741e-08</td>\n",
       "      <td>2.993728e-13</td>\n",
       "      <td>1.002680e-13</td>\n",
       "      <td>0.0</td>\n",
       "      <td>0.0</td>\n",
       "      <td>245.94757</td>\n",
       "      <td>...</td>\n",
       "      <td>6.500000e-11</td>\n",
       "      <td>180282.318226</td>\n",
       "      <td>60381.383578</td>\n",
       "      <td>116011.84274</td>\n",
       "      <td>194108.87238</td>\n",
       "      <td>4.543124e-13</td>\n",
       "      <td>7.842498e+07</td>\n",
       "      <td>28.293193</td>\n",
       "      <td>157700.310115</td>\n",
       "      <td>0.874741</td>\n",
       "    </tr>\n",
       "    <tr>\n",
       "      <th>2</th>\n",
       "      <td>5.0</td>\n",
       "      <td>-89.0</td>\n",
       "      <td>1.0</td>\n",
       "      <td>4911.0</td>\n",
       "      <td>4.129741e-08</td>\n",
       "      <td>2.993728e-13</td>\n",
       "      <td>1.002680e-13</td>\n",
       "      <td>0.0</td>\n",
       "      <td>0.0</td>\n",
       "      <td>245.94757</td>\n",
       "      <td>...</td>\n",
       "      <td>6.500000e-11</td>\n",
       "      <td>180282.318226</td>\n",
       "      <td>60381.383578</td>\n",
       "      <td>116011.84274</td>\n",
       "      <td>194108.87238</td>\n",
       "      <td>4.543124e-13</td>\n",
       "      <td>7.842498e+07</td>\n",
       "      <td>28.293193</td>\n",
       "      <td>157700.310115</td>\n",
       "      <td>0.874741</td>\n",
       "    </tr>\n",
       "    <tr>\n",
       "      <th>3</th>\n",
       "      <td>7.0</td>\n",
       "      <td>-89.0</td>\n",
       "      <td>1.0</td>\n",
       "      <td>6911.0</td>\n",
       "      <td>4.129741e-08</td>\n",
       "      <td>2.993728e-13</td>\n",
       "      <td>1.002680e-13</td>\n",
       "      <td>0.0</td>\n",
       "      <td>0.0</td>\n",
       "      <td>245.94757</td>\n",
       "      <td>...</td>\n",
       "      <td>6.500000e-11</td>\n",
       "      <td>180282.318226</td>\n",
       "      <td>60381.383578</td>\n",
       "      <td>116011.84274</td>\n",
       "      <td>194108.87238</td>\n",
       "      <td>4.543124e-13</td>\n",
       "      <td>7.842498e+07</td>\n",
       "      <td>28.293193</td>\n",
       "      <td>157700.310115</td>\n",
       "      <td>0.874741</td>\n",
       "    </tr>\n",
       "    <tr>\n",
       "      <th>4</th>\n",
       "      <td>9.0</td>\n",
       "      <td>-89.0</td>\n",
       "      <td>1.0</td>\n",
       "      <td>8911.0</td>\n",
       "      <td>4.129741e-08</td>\n",
       "      <td>2.993728e-13</td>\n",
       "      <td>1.002680e-13</td>\n",
       "      <td>0.0</td>\n",
       "      <td>0.0</td>\n",
       "      <td>245.94757</td>\n",
       "      <td>...</td>\n",
       "      <td>6.500000e-11</td>\n",
       "      <td>180282.318226</td>\n",
       "      <td>60381.383578</td>\n",
       "      <td>116011.84274</td>\n",
       "      <td>194108.87238</td>\n",
       "      <td>4.543124e-13</td>\n",
       "      <td>7.842498e+07</td>\n",
       "      <td>28.293193</td>\n",
       "      <td>157700.310115</td>\n",
       "      <td>0.874741</td>\n",
       "    </tr>\n",
       "    <tr>\n",
       "      <th>...</th>\n",
       "      <td>...</td>\n",
       "      <td>...</td>\n",
       "      <td>...</td>\n",
       "      <td>...</td>\n",
       "      <td>...</td>\n",
       "      <td>...</td>\n",
       "      <td>...</td>\n",
       "      <td>...</td>\n",
       "      <td>...</td>\n",
       "      <td>...</td>\n",
       "      <td>...</td>\n",
       "      <td>...</td>\n",
       "      <td>...</td>\n",
       "      <td>...</td>\n",
       "      <td>...</td>\n",
       "      <td>...</td>\n",
       "      <td>...</td>\n",
       "      <td>...</td>\n",
       "      <td>...</td>\n",
       "      <td>...</td>\n",
       "      <td>...</td>\n",
       "    </tr>\n",
       "    <tr>\n",
       "      <th>971995</th>\n",
       "      <td>-9.0</td>\n",
       "      <td>89.0</td>\n",
       "      <td>60.0</td>\n",
       "      <td>-8911.0</td>\n",
       "      <td>3.921430e-08</td>\n",
       "      <td>0.000000e+00</td>\n",
       "      <td>1.640510e-15</td>\n",
       "      <td>0.0</td>\n",
       "      <td>0.0</td>\n",
       "      <td>240.98276</td>\n",
       "      <td>...</td>\n",
       "      <td>6.500000e-11</td>\n",
       "      <td>0.000000</td>\n",
       "      <td>987.914941</td>\n",
       "      <td>0.00000</td>\n",
       "      <td>0.00000</td>\n",
       "      <td>4.684176e-13</td>\n",
       "      <td>0.000000e+00</td>\n",
       "      <td>NaN</td>\n",
       "      <td>0.000000</td>\n",
       "      <td>NaN</td>\n",
       "    </tr>\n",
       "    <tr>\n",
       "      <th>971996</th>\n",
       "      <td>-7.0</td>\n",
       "      <td>89.0</td>\n",
       "      <td>60.0</td>\n",
       "      <td>-6911.0</td>\n",
       "      <td>3.921430e-08</td>\n",
       "      <td>0.000000e+00</td>\n",
       "      <td>1.640510e-15</td>\n",
       "      <td>0.0</td>\n",
       "      <td>0.0</td>\n",
       "      <td>240.98276</td>\n",
       "      <td>...</td>\n",
       "      <td>6.500000e-11</td>\n",
       "      <td>0.000000</td>\n",
       "      <td>987.914941</td>\n",
       "      <td>0.00000</td>\n",
       "      <td>0.00000</td>\n",
       "      <td>4.684176e-13</td>\n",
       "      <td>0.000000e+00</td>\n",
       "      <td>NaN</td>\n",
       "      <td>0.000000</td>\n",
       "      <td>NaN</td>\n",
       "    </tr>\n",
       "    <tr>\n",
       "      <th>971997</th>\n",
       "      <td>-5.0</td>\n",
       "      <td>89.0</td>\n",
       "      <td>60.0</td>\n",
       "      <td>-4911.0</td>\n",
       "      <td>3.921430e-08</td>\n",
       "      <td>0.000000e+00</td>\n",
       "      <td>1.640510e-15</td>\n",
       "      <td>0.0</td>\n",
       "      <td>0.0</td>\n",
       "      <td>240.98276</td>\n",
       "      <td>...</td>\n",
       "      <td>6.500000e-11</td>\n",
       "      <td>0.000000</td>\n",
       "      <td>987.914941</td>\n",
       "      <td>0.00000</td>\n",
       "      <td>0.00000</td>\n",
       "      <td>4.684176e-13</td>\n",
       "      <td>0.000000e+00</td>\n",
       "      <td>NaN</td>\n",
       "      <td>0.000000</td>\n",
       "      <td>NaN</td>\n",
       "    </tr>\n",
       "    <tr>\n",
       "      <th>971998</th>\n",
       "      <td>-3.0</td>\n",
       "      <td>89.0</td>\n",
       "      <td>60.0</td>\n",
       "      <td>-2911.0</td>\n",
       "      <td>3.921430e-08</td>\n",
       "      <td>0.000000e+00</td>\n",
       "      <td>1.640510e-15</td>\n",
       "      <td>0.0</td>\n",
       "      <td>0.0</td>\n",
       "      <td>240.98276</td>\n",
       "      <td>...</td>\n",
       "      <td>6.500000e-11</td>\n",
       "      <td>0.000000</td>\n",
       "      <td>987.914941</td>\n",
       "      <td>0.00000</td>\n",
       "      <td>0.00000</td>\n",
       "      <td>4.684176e-13</td>\n",
       "      <td>0.000000e+00</td>\n",
       "      <td>NaN</td>\n",
       "      <td>0.000000</td>\n",
       "      <td>NaN</td>\n",
       "    </tr>\n",
       "    <tr>\n",
       "      <th>971999</th>\n",
       "      <td>-1.0</td>\n",
       "      <td>89.0</td>\n",
       "      <td>60.0</td>\n",
       "      <td>-911.0</td>\n",
       "      <td>3.921430e-08</td>\n",
       "      <td>0.000000e+00</td>\n",
       "      <td>1.640510e-15</td>\n",
       "      <td>0.0</td>\n",
       "      <td>0.0</td>\n",
       "      <td>240.98276</td>\n",
       "      <td>...</td>\n",
       "      <td>6.500000e-11</td>\n",
       "      <td>0.000000</td>\n",
       "      <td>987.914941</td>\n",
       "      <td>0.00000</td>\n",
       "      <td>0.00000</td>\n",
       "      <td>4.684176e-13</td>\n",
       "      <td>0.000000e+00</td>\n",
       "      <td>NaN</td>\n",
       "      <td>0.000000</td>\n",
       "      <td>NaN</td>\n",
       "    </tr>\n",
       "  </tbody>\n",
       "</table>\n",
       "<p>972000 rows × 59 columns</p>\n",
       "</div>"
      ],
      "text/plain": [
       "        longitude  latitude     t     loc            o3        o3prod  \\\n",
       "0             1.0     -89.0   1.0   911.0  4.129741e-08  2.993728e-13   \n",
       "1             3.0     -89.0   1.0  2911.0  4.129741e-08  2.993728e-13   \n",
       "2             5.0     -89.0   1.0  4911.0  4.129741e-08  2.993728e-13   \n",
       "3             7.0     -89.0   1.0  6911.0  4.129741e-08  2.993728e-13   \n",
       "4             9.0     -89.0   1.0  8911.0  4.129741e-08  2.993728e-13   \n",
       "...           ...       ...   ...     ...           ...           ...   \n",
       "971995       -9.0      89.0  60.0 -8911.0  3.921430e-08  0.000000e+00   \n",
       "971996       -7.0      89.0  60.0 -6911.0  3.921430e-08  0.000000e+00   \n",
       "971997       -5.0      89.0  60.0 -4911.0  3.921430e-08  0.000000e+00   \n",
       "971998       -3.0      89.0  60.0 -2911.0  3.921430e-08  0.000000e+00   \n",
       "971999       -1.0      89.0  60.0  -911.0  3.921430e-08  0.000000e+00   \n",
       "\n",
       "              o3loss  eminox  emivoc        tas  ...      k_oh_no2  \\\n",
       "0       1.002680e-13     0.0     0.0  245.94757  ...  6.500000e-11   \n",
       "1       1.002680e-13     0.0     0.0  245.94757  ...  6.500000e-11   \n",
       "2       1.002680e-13     0.0     0.0  245.94757  ...  6.500000e-11   \n",
       "3       1.002680e-13     0.0     0.0  245.94757  ...  6.500000e-11   \n",
       "4       1.002680e-13     0.0     0.0  245.94757  ...  6.500000e-11   \n",
       "...              ...     ...     ...        ...  ...           ...   \n",
       "971995  1.640510e-15     0.0     0.0  240.98276  ...  6.500000e-11   \n",
       "971996  1.640510e-15     0.0     0.0  240.98276  ...  6.500000e-11   \n",
       "971997  1.640510e-15     0.0     0.0  240.98276  ...  6.500000e-11   \n",
       "971998  1.640510e-15     0.0     0.0  240.98276  ...  6.500000e-11   \n",
       "971999  1.640510e-15     0.0     0.0  240.98276  ...  6.500000e-11   \n",
       "\n",
       "          o3prod_mole   o3loss_mole  lossch4_mole   lossco_mole  \\\n",
       "0       180282.318226  60381.383578  116011.84274  194108.87238   \n",
       "1       180282.318226  60381.383578  116011.84274  194108.87238   \n",
       "2       180282.318226  60381.383578  116011.84274  194108.87238   \n",
       "3       180282.318226  60381.383578  116011.84274  194108.87238   \n",
       "4       180282.318226  60381.383578  116011.84274  194108.87238   \n",
       "...               ...           ...           ...           ...   \n",
       "971995       0.000000    987.914941       0.00000       0.00000   \n",
       "971996       0.000000    987.914941       0.00000       0.00000   \n",
       "971997       0.000000    987.914941       0.00000       0.00000   \n",
       "971998       0.000000    987.914941       0.00000       0.00000   \n",
       "971999       0.000000    987.914941       0.00000       0.00000   \n",
       "\n",
       "        k_ch3o2_ch3o2      ho2_mole  ratio_ho2_oh             P1   P1_frac  \n",
       "0        4.543124e-13  7.842498e+07     28.293193  157700.310115  0.874741  \n",
       "1        4.543124e-13  7.842498e+07     28.293193  157700.310115  0.874741  \n",
       "2        4.543124e-13  7.842498e+07     28.293193  157700.310115  0.874741  \n",
       "3        4.543124e-13  7.842498e+07     28.293193  157700.310115  0.874741  \n",
       "4        4.543124e-13  7.842498e+07     28.293193  157700.310115  0.874741  \n",
       "...               ...           ...           ...            ...       ...  \n",
       "971995   4.684176e-13  0.000000e+00           NaN       0.000000       NaN  \n",
       "971996   4.684176e-13  0.000000e+00           NaN       0.000000       NaN  \n",
       "971997   4.684176e-13  0.000000e+00           NaN       0.000000       NaN  \n",
       "971998   4.684176e-13  0.000000e+00           NaN       0.000000       NaN  \n",
       "971999   4.684176e-13  0.000000e+00           NaN       0.000000       NaN  \n",
       "\n",
       "[972000 rows x 59 columns]"
      ]
     },
     "execution_count": 19,
     "metadata": {},
     "output_type": "execute_result"
    }
   ],
   "source": [
    "data = data.drop(['a','b','c'], axis=1)\n",
    "data"
   ]
  },
  {
   "cell_type": "code",
   "execution_count": 20,
   "metadata": {},
   "outputs": [],
   "source": [
    "data.to_csv('/Volumes/Database/Research/C7 Multivariate analysis/GISS-E2-1_diag_2014(0319).csv', index = False)"
   ]
  }
 ],
 "metadata": {
  "kernelspec": {
   "display_name": "Python 3",
   "language": "python",
   "name": "python3"
  },
  "language_info": {
   "codemirror_mode": {
    "name": "ipython",
    "version": 3
   },
   "file_extension": ".py",
   "mimetype": "text/x-python",
   "name": "python",
   "nbconvert_exporter": "python",
   "pygments_lexer": "ipython3",
   "version": "3.8.5"
  }
 },
 "nbformat": 4,
 "nbformat_minor": 4
}
