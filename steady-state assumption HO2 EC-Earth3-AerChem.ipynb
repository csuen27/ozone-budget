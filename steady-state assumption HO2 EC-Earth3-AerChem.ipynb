{
 "cells": [
  {
   "cell_type": "code",
   "execution_count": 1,
   "metadata": {},
   "outputs": [],
   "source": [
    "import warnings\n",
    "warnings.filterwarnings(\"ignore\")\n",
    "\n",
    "import pandas as pd\n",
    "import numpy as np\n",
    "import matplotlib as mpl\n",
    "import matplotlib.pyplot as plt\n",
    "\n",
    "from sklearn.metrics import r2_score as R2\n",
    "from sklearn.metrics import mean_squared_error as MSE"
   ]
  },
  {
   "cell_type": "code",
   "execution_count": 2,
   "metadata": {},
   "outputs": [],
   "source": [
    "data = pd.read_csv('/Volumes/Database/Research/C7 Multivariate analysis/EC-Earth3-AerChem_diag_2014(0318).csv')"
   ]
  },
  {
   "cell_type": "code",
   "execution_count": 3,
   "metadata": {},
   "outputs": [],
   "source": [
    "country = pd.read_csv('/Users/csuen/Desktop/PhD/Maps/country_province_state_2*2.csv')\n",
    "data = data.merge(country, how = 'left', left_on = ['longitude','latitude'], right_on = ['longitude','latitude'])\n",
    "data = data.drop(['province','state'], axis=1)"
   ]
  },
  {
   "cell_type": "markdown",
   "metadata": {},
   "source": [
    "### First, converse the concentrations in ppb to molecules cm${^{-3}}$"
   ]
  },
  {
   "cell_type": "code",
   "execution_count": 4,
   "metadata": {},
   "outputs": [],
   "source": [
    "data['o3_mole'] = data['o3']*1.01325*10**5/data['tas']*7.243*10**7*(10**9)\n",
    "data['no_mole'] = data['no']*1.01325*10**5/data['tas']*7.243*10**7*(10**9)\n",
    "data['no2_mole'] = data['no2']*1.01325*10**5/data['tas']*7.243*10**7*(10**9)\n",
    "data['oh_mole'] = data['oh']*1.01325*10**5/data['tas']*7.243*10**7*(10**9)\n",
    "data['h2o_mole'] = data['h2o']*1.01325*10**5/data['tas']*7.243*10**7*(10**9)\n",
    "data['hno3_mole'] = data['hno3']*1.01325*10**5/data['tas']*7.243*10**7*(10**9)\n",
    "data['pan_mole'] = data['pan']*1.01325*10**5/data['tas']*7.243*10**7*(10**9)\n",
    "\n",
    "data['k_ho2_ho2'] = 2.2*10**(-13)*np.exp(600/data['tas'])\n",
    "data['k_oh_no2'] = 6.5*10**(-11)\n",
    "data['k_o1d_h2o'] = 2.14*10**(-10)\n",
    "\n",
    "data['o3prod_mole'] = data['o3prod']*6.022*10**17\n",
    "data['o3loss_mole'] = data['o3loss']*6.022*10**17\n",
    "\n",
    "data['lossch4_mole'] = data['lossch4']*6.022*10**17\n",
    "data['lossco_mole'] = data['lossco']*6.022*10**17\n",
    "data['k_ch3o2_ch3o2'] = 1.03*10**(-13)*np.exp(365/data['tas'])"
   ]
  },
  {
   "cell_type": "code",
   "execution_count": 5,
   "metadata": {},
   "outputs": [
    {
     "data": {
      "text/plain": [
       "8.51696079969406e-12"
      ]
     },
     "execution_count": 5,
     "metadata": {},
     "output_type": "execute_result"
    }
   ],
   "source": [
    "data['k_no_ho2'].median()"
   ]
  },
  {
   "cell_type": "code",
   "execution_count": 6,
   "metadata": {},
   "outputs": [
    {
     "data": {
      "text/plain": [
       "8.142456424236298e-12"
      ]
     },
     "execution_count": 6,
     "metadata": {},
     "output_type": "execute_result"
    }
   ],
   "source": [
    "data['k_no_ch3o2'].median()"
   ]
  },
  {
   "cell_type": "code",
   "execution_count": 7,
   "metadata": {},
   "outputs": [
    {
     "data": {
      "text/plain": [
       "6.264362223446369e-14"
      ]
     },
     "execution_count": 7,
     "metadata": {},
     "output_type": "execute_result"
    }
   ],
   "source": [
    "data['k_o3_oh'].median()"
   ]
  },
  {
   "cell_type": "code",
   "execution_count": 8,
   "metadata": {},
   "outputs": [
    {
     "data": {
      "text/plain": [
       "1.8237333652759167e-15"
      ]
     },
     "execution_count": 8,
     "metadata": {},
     "output_type": "execute_result"
    }
   ],
   "source": [
    "data['k_o3_ho2'].median()"
   ]
  },
  {
   "cell_type": "code",
   "execution_count": 9,
   "metadata": {},
   "outputs": [
    {
     "data": {
      "text/plain": [
       "3.7109935488520403e-13"
      ]
     },
     "execution_count": 9,
     "metadata": {},
     "output_type": "execute_result"
    }
   ],
   "source": [
    "data['k_ch3o2_ch3o2'].median()"
   ]
  },
  {
   "cell_type": "code",
   "execution_count": 10,
   "metadata": {},
   "outputs": [],
   "source": [
    "data['a'] = 2*data['k_ho2_ho2']\n",
    "data['b'] = data['k_o3_ho2']*data['o3_mole'] + data['k_no_ho2']*data['no_mole']\n",
    "data['c'] = -data['lossco_mole'] - data['k_o3_oh']*data['o3_mole']*data['oh_mole']"
   ]
  },
  {
   "cell_type": "code",
   "execution_count": 11,
   "metadata": {},
   "outputs": [],
   "source": [
    "data['ho2_mole'] = (-data['b'] + np.sqrt(data['b']**2 - 4*data['a']*data['c']))/(2*data['a'])"
   ]
  },
  {
   "cell_type": "code",
   "execution_count": 12,
   "metadata": {},
   "outputs": [
    {
     "data": {
      "text/plain": [
       "count    1.944000e+05\n",
       "mean     1.048462e+08\n",
       "std      1.108927e+08\n",
       "min      8.014530e+03\n",
       "25%      1.455481e+07\n",
       "50%      6.043853e+07\n",
       "75%      1.770183e+08\n",
       "max      5.426603e+08\n",
       "Name: ho2_mole, dtype: float64"
      ]
     },
     "execution_count": 12,
     "metadata": {},
     "output_type": "execute_result"
    }
   ],
   "source": [
    "data['ho2_mole'].describe()"
   ]
  },
  {
   "cell_type": "code",
   "execution_count": 13,
   "metadata": {},
   "outputs": [
    {
     "data": {
      "text/plain": [
       "count    1.944000e+05\n",
       "mean     1.013119e+06\n",
       "std      1.043842e+06\n",
       "min      3.625931e+01\n",
       "25%      1.484290e+05\n",
       "50%      6.396672e+05\n",
       "75%      1.717572e+06\n",
       "max      1.227739e+07\n",
       "Name: oh_mole, dtype: float64"
      ]
     },
     "execution_count": 13,
     "metadata": {},
     "output_type": "execute_result"
    }
   ],
   "source": [
    "data['oh_mole'].describe()"
   ]
  },
  {
   "cell_type": "code",
   "execution_count": 14,
   "metadata": {},
   "outputs": [
    {
     "data": {
      "text/plain": [
       "count    194400.000000\n",
       "mean        158.027510\n",
       "std         120.235579\n",
       "min           0.290393\n",
       "25%          80.498465\n",
       "50%         143.731563\n",
       "75%         200.535510\n",
       "max         894.304197\n",
       "Name: ratio_ho2_oh, dtype: float64"
      ]
     },
     "execution_count": 14,
     "metadata": {},
     "output_type": "execute_result"
    }
   ],
   "source": [
    "data['ratio_ho2_oh'] = data['ho2_mole']/data['oh_mole']\n",
    "data['ratio_ho2_oh'].describe()"
   ]
  },
  {
   "cell_type": "code",
   "execution_count": 15,
   "metadata": {},
   "outputs": [
    {
     "data": {
      "text/plain": [
       "count    194400.000000\n",
       "mean          0.292835\n",
       "std           0.177434\n",
       "min           0.001869\n",
       "25%           0.136812\n",
       "50%           0.326595\n",
       "75%           0.405088\n",
       "max           0.882953\n",
       "Name: P1_frac, dtype: float64"
      ]
     },
     "execution_count": 15,
     "metadata": {},
     "output_type": "execute_result"
    }
   ],
   "source": [
    "data['P1'] = data['k_no_ho2']*data['no_mole']*data['ho2_mole']\n",
    "data['P1_frac'] = data['P1']/data['o3prod_mole']\n",
    "data['P1_frac'].describe()"
   ]
  },
  {
   "cell_type": "code",
   "execution_count": 16,
   "metadata": {},
   "outputs": [
    {
     "data": {
      "image/png": "[encoded data removed]",
      "text/plain": [
       "<Figure size 432x288 with 2 Axes>"
      ]
     },
     "metadata": {
      "needs_background": "light"
     },
     "output_type": "display_data"
    }
   ],
   "source": [
    "data['loc'] = data['longitude']*1000 + data['latitude']\n",
    "data_land = data\n",
    "#data_land = data_land[data_land['latitude'] >= -60]\n",
    "#data_land = data_land[data_land['P1_frac'] <1]\n",
    "data_mean = data_land.groupby(['loc']).mean()\n",
    "\n",
    "cm = plt.cm.get_cmap('Blues')\n",
    "x = data_mean['longitude']\n",
    "y = data_mean['latitude']\n",
    "z = data_mean['P1_frac']\n",
    "sc = plt.scatter(x, y, c=z, marker=\"s\", vmin=0, vmax=0.5, s=3, cmap=cm)\n",
    "plt.xlim([-180, 180])\n",
    "plt.ylim([-90, 90])\n",
    "plt.colorbar(sc)\n",
    "plt.show()"
   ]
  },
  {
   "cell_type": "code",
   "execution_count": 17,
   "metadata": {},
   "outputs": [
    {
     "data": {
      "text/plain": [
       "count    16200.000000\n",
       "mean         0.292835\n",
       "std          0.107129\n",
       "min          0.005177\n",
       "25%          0.247878\n",
       "50%          0.312279\n",
       "75%          0.376455\n",
       "max          0.600819\n",
       "Name: P1_frac, dtype: float64"
      ]
     },
     "execution_count": 17,
     "metadata": {},
     "output_type": "execute_result"
    }
   ],
   "source": [
    "data_mean['P1_frac'].describe()"
   ]
  },
  {
   "cell_type": "code",
   "execution_count": 18,
   "metadata": {},
   "outputs": [
    {
     "data": {
      "image/png": "[encoded data removed]",
      "text/plain": [
       "<Figure size 432x288 with 2 Axes>"
      ]
     },
     "metadata": {
      "needs_background": "light"
     },
     "output_type": "display_data"
    }
   ],
   "source": [
    "data['loc'] = data['longitude']*1000 + data['latitude']\n",
    "data_land = data\n",
    "#data_land = data_land[data_land['latitude'] >= -60]\n",
    "data_mean = data_land.groupby(['loc']).mean()\n",
    "\n",
    "cm = plt.cm.get_cmap('Reds')\n",
    "x = data_mean['longitude']\n",
    "y = data_mean['latitude']\n",
    "z = data_mean['ho2_mole']*10**(-8)\n",
    "sc = plt.scatter(x, y, c=z, marker=\"s\", vmin=0, vmax=2.5, s=3, cmap=cm)\n",
    "plt.xlim([-180, 180])\n",
    "plt.ylim([-90, 90])\n",
    "plt.colorbar(sc)\n",
    "plt.show()"
   ]
  },
  {
   "cell_type": "code",
   "execution_count": 19,
   "metadata": {},
   "outputs": [
    {
     "data": {
      "text/html": [
       "<div>\n",
       "<style scoped>\n",
       "    .dataframe tbody tr th:only-of-type {\n",
       "        vertical-align: middle;\n",
       "    }\n",
       "\n",
       "    .dataframe tbody tr th {\n",
       "        vertical-align: top;\n",
       "    }\n",
       "\n",
       "    .dataframe thead th {\n",
       "        text-align: right;\n",
       "    }\n",
       "</style>\n",
       "<table border=\"1\" class=\"dataframe\">\n",
       "  <thead>\n",
       "    <tr style=\"text-align: right;\">\n",
       "      <th></th>\n",
       "      <th>longitude</th>\n",
       "      <th>latitude</th>\n",
       "      <th>t</th>\n",
       "      <th>loc</th>\n",
       "      <th>o3</th>\n",
       "      <th>o3loss</th>\n",
       "      <th>o3prod</th>\n",
       "      <th>eminox</th>\n",
       "      <th>emivoc</th>\n",
       "      <th>tas</th>\n",
       "      <th>...</th>\n",
       "      <th>k_oh_no2</th>\n",
       "      <th>o3prod_mole</th>\n",
       "      <th>o3loss_mole</th>\n",
       "      <th>lossch4_mole</th>\n",
       "      <th>lossco_mole</th>\n",
       "      <th>k_ch3o2_ch3o2</th>\n",
       "      <th>ho2_mole</th>\n",
       "      <th>ratio_ho2_oh</th>\n",
       "      <th>P1</th>\n",
       "      <th>P1_frac</th>\n",
       "    </tr>\n",
       "  </thead>\n",
       "  <tbody>\n",
       "    <tr>\n",
       "      <th>0</th>\n",
       "      <td>1.0</td>\n",
       "      <td>-89.0</td>\n",
       "      <td>1.0</td>\n",
       "      <td>911.0</td>\n",
       "      <td>1.918366e-08</td>\n",
       "      <td>5.820803e-14</td>\n",
       "      <td>7.145326e-14</td>\n",
       "      <td>0.000000e+00</td>\n",
       "      <td>0.000000e+00</td>\n",
       "      <td>248.75261</td>\n",
       "      <td>...</td>\n",
       "      <td>6.500000e-11</td>\n",
       "      <td>43029.153172</td>\n",
       "      <td>35052.875666</td>\n",
       "      <td>19090.079641</td>\n",
       "      <td>59857.144390</td>\n",
       "      <td>4.467728e-13</td>\n",
       "      <td>3.885214e+07</td>\n",
       "      <td>101.784625</td>\n",
       "      <td>30090.210674</td>\n",
       "      <td>0.699298</td>\n",
       "    </tr>\n",
       "    <tr>\n",
       "      <th>1</th>\n",
       "      <td>3.0</td>\n",
       "      <td>-89.0</td>\n",
       "      <td>1.0</td>\n",
       "      <td>2911.0</td>\n",
       "      <td>1.918366e-08</td>\n",
       "      <td>5.820803e-14</td>\n",
       "      <td>7.145326e-14</td>\n",
       "      <td>0.000000e+00</td>\n",
       "      <td>0.000000e+00</td>\n",
       "      <td>248.71443</td>\n",
       "      <td>...</td>\n",
       "      <td>6.500000e-11</td>\n",
       "      <td>43029.153172</td>\n",
       "      <td>35052.875666</td>\n",
       "      <td>19090.079641</td>\n",
       "      <td>59857.144390</td>\n",
       "      <td>4.468735e-13</td>\n",
       "      <td>3.885756e+07</td>\n",
       "      <td>101.522686</td>\n",
       "      <td>30104.042935</td>\n",
       "      <td>0.699620</td>\n",
       "    </tr>\n",
       "    <tr>\n",
       "      <th>2</th>\n",
       "      <td>5.0</td>\n",
       "      <td>-89.0</td>\n",
       "      <td>1.0</td>\n",
       "      <td>4911.0</td>\n",
       "      <td>1.918151e-08</td>\n",
       "      <td>5.803789e-14</td>\n",
       "      <td>7.134267e-14</td>\n",
       "      <td>0.000000e+00</td>\n",
       "      <td>0.000000e+00</td>\n",
       "      <td>248.67625</td>\n",
       "      <td>...</td>\n",
       "      <td>6.500000e-11</td>\n",
       "      <td>42962.555874</td>\n",
       "      <td>34950.417358</td>\n",
       "      <td>19058.552062</td>\n",
       "      <td>59721.348290</td>\n",
       "      <td>4.469742e-13</td>\n",
       "      <td>3.876966e+07</td>\n",
       "      <td>101.060546</td>\n",
       "      <td>30090.507106</td>\n",
       "      <td>0.700389</td>\n",
       "    </tr>\n",
       "    <tr>\n",
       "      <th>3</th>\n",
       "      <td>7.0</td>\n",
       "      <td>-89.0</td>\n",
       "      <td>1.0</td>\n",
       "      <td>6911.0</td>\n",
       "      <td>1.917528e-08</td>\n",
       "      <td>5.749123e-14</td>\n",
       "      <td>7.101957e-14</td>\n",
       "      <td>0.000000e+00</td>\n",
       "      <td>0.000000e+00</td>\n",
       "      <td>248.63808</td>\n",
       "      <td>...</td>\n",
       "      <td>6.500000e-11</td>\n",
       "      <td>42767.985054</td>\n",
       "      <td>34621.218706</td>\n",
       "      <td>18891.328348</td>\n",
       "      <td>59424.310129</td>\n",
       "      <td>4.470749e-13</td>\n",
       "      <td>3.860273e+07</td>\n",
       "      <td>100.621826</td>\n",
       "      <td>29993.816573</td>\n",
       "      <td>0.701315</td>\n",
       "    </tr>\n",
       "    <tr>\n",
       "      <th>4</th>\n",
       "      <td>9.0</td>\n",
       "      <td>-89.0</td>\n",
       "      <td>1.0</td>\n",
       "      <td>8911.0</td>\n",
       "      <td>1.917528e-08</td>\n",
       "      <td>5.749123e-14</td>\n",
       "      <td>7.101957e-14</td>\n",
       "      <td>0.000000e+00</td>\n",
       "      <td>0.000000e+00</td>\n",
       "      <td>248.59988</td>\n",
       "      <td>...</td>\n",
       "      <td>6.500000e-11</td>\n",
       "      <td>42767.985054</td>\n",
       "      <td>34621.218706</td>\n",
       "      <td>18891.328348</td>\n",
       "      <td>59424.310129</td>\n",
       "      <td>4.471758e-13</td>\n",
       "      <td>3.860376e+07</td>\n",
       "      <td>100.454268</td>\n",
       "      <td>30004.231474</td>\n",
       "      <td>0.701558</td>\n",
       "    </tr>\n",
       "    <tr>\n",
       "      <th>...</th>\n",
       "      <td>...</td>\n",
       "      <td>...</td>\n",
       "      <td>...</td>\n",
       "      <td>...</td>\n",
       "      <td>...</td>\n",
       "      <td>...</td>\n",
       "      <td>...</td>\n",
       "      <td>...</td>\n",
       "      <td>...</td>\n",
       "      <td>...</td>\n",
       "      <td>...</td>\n",
       "      <td>...</td>\n",
       "      <td>...</td>\n",
       "      <td>...</td>\n",
       "      <td>...</td>\n",
       "      <td>...</td>\n",
       "      <td>...</td>\n",
       "      <td>...</td>\n",
       "      <td>...</td>\n",
       "      <td>...</td>\n",
       "      <td>...</td>\n",
       "    </tr>\n",
       "    <tr>\n",
       "      <th>194395</th>\n",
       "      <td>-9.0</td>\n",
       "      <td>89.0</td>\n",
       "      <td>12.0</td>\n",
       "      <td>-8911.0</td>\n",
       "      <td>2.716963e-08</td>\n",
       "      <td>1.193308e-14</td>\n",
       "      <td>6.409461e-16</td>\n",
       "      <td>9.685218e-14</td>\n",
       "      <td>7.394706e-15</td>\n",
       "      <td>246.50143</td>\n",
       "      <td>...</td>\n",
       "      <td>6.500000e-11</td>\n",
       "      <td>385.977741</td>\n",
       "      <td>7186.103787</td>\n",
       "      <td>67.746013</td>\n",
       "      <td>439.141884</td>\n",
       "      <td>4.528000e-13</td>\n",
       "      <td>3.626463e+05</td>\n",
       "      <td>592.499409</td>\n",
       "      <td>53.415365</td>\n",
       "      <td>0.138390</td>\n",
       "    </tr>\n",
       "    <tr>\n",
       "      <th>194396</th>\n",
       "      <td>-7.0</td>\n",
       "      <td>89.0</td>\n",
       "      <td>12.0</td>\n",
       "      <td>-6911.0</td>\n",
       "      <td>2.717685e-08</td>\n",
       "      <td>1.164388e-14</td>\n",
       "      <td>5.783149e-16</td>\n",
       "      <td>8.234587e-14</td>\n",
       "      <td>6.287143e-15</td>\n",
       "      <td>246.50337</td>\n",
       "      <td>...</td>\n",
       "      <td>6.500000e-11</td>\n",
       "      <td>348.261233</td>\n",
       "      <td>7011.942428</td>\n",
       "      <td>65.885216</td>\n",
       "      <td>424.592654</td>\n",
       "      <td>4.527948e-13</td>\n",
       "      <td>3.569066e+05</td>\n",
       "      <td>587.165702</td>\n",
       "      <td>45.044834</td>\n",
       "      <td>0.129342</td>\n",
       "    </tr>\n",
       "    <tr>\n",
       "      <th>194397</th>\n",
       "      <td>-5.0</td>\n",
       "      <td>89.0</td>\n",
       "      <td>12.0</td>\n",
       "      <td>-4911.0</td>\n",
       "      <td>2.719129e-08</td>\n",
       "      <td>6.036053e-15</td>\n",
       "      <td>1.296579e-22</td>\n",
       "      <td>0.000000e+00</td>\n",
       "      <td>0.000000e+00</td>\n",
       "      <td>246.50531</td>\n",
       "      <td>...</td>\n",
       "      <td>6.500000e-11</td>\n",
       "      <td>0.000078</td>\n",
       "      <td>3634.911297</td>\n",
       "      <td>64.693804</td>\n",
       "      <td>412.004374</td>\n",
       "      <td>4.527895e-13</td>\n",
       "      <td>3.857658e+05</td>\n",
       "      <td>634.576032</td>\n",
       "      <td>0.000001</td>\n",
       "      <td>0.018555</td>\n",
       "    </tr>\n",
       "    <tr>\n",
       "      <th>194398</th>\n",
       "      <td>-3.0</td>\n",
       "      <td>89.0</td>\n",
       "      <td>12.0</td>\n",
       "      <td>-2911.0</td>\n",
       "      <td>2.719129e-08</td>\n",
       "      <td>6.036053e-15</td>\n",
       "      <td>1.296579e-22</td>\n",
       "      <td>0.000000e+00</td>\n",
       "      <td>0.000000e+00</td>\n",
       "      <td>246.50725</td>\n",
       "      <td>...</td>\n",
       "      <td>6.500000e-11</td>\n",
       "      <td>0.000078</td>\n",
       "      <td>3634.911297</td>\n",
       "      <td>64.693804</td>\n",
       "      <td>412.004374</td>\n",
       "      <td>4.527842e-13</td>\n",
       "      <td>3.860416e+05</td>\n",
       "      <td>624.532871</td>\n",
       "      <td>0.000001</td>\n",
       "      <td>0.018568</td>\n",
       "    </tr>\n",
       "    <tr>\n",
       "      <th>194399</th>\n",
       "      <td>-1.0</td>\n",
       "      <td>89.0</td>\n",
       "      <td>12.0</td>\n",
       "      <td>-911.0</td>\n",
       "      <td>2.720231e-08</td>\n",
       "      <td>1.157500e-14</td>\n",
       "      <td>6.103431e-16</td>\n",
       "      <td>8.853640e-14</td>\n",
       "      <td>6.759793e-15</td>\n",
       "      <td>246.50919</td>\n",
       "      <td>...</td>\n",
       "      <td>6.500000e-11</td>\n",
       "      <td>367.548639</td>\n",
       "      <td>6970.463495</td>\n",
       "      <td>66.795759</td>\n",
       "      <td>427.483834</td>\n",
       "      <td>4.527789e-13</td>\n",
       "      <td>3.563932e+05</td>\n",
       "      <td>557.581368</td>\n",
       "      <td>49.101456</td>\n",
       "      <td>0.133592</td>\n",
       "    </tr>\n",
       "  </tbody>\n",
       "</table>\n",
       "<p>194400 rows × 59 columns</p>\n",
       "</div>"
      ],
      "text/plain": [
       "        longitude  latitude     t     loc            o3        o3loss  \\\n",
       "0             1.0     -89.0   1.0   911.0  1.918366e-08  5.820803e-14   \n",
       "1             3.0     -89.0   1.0  2911.0  1.918366e-08  5.820803e-14   \n",
       "2             5.0     -89.0   1.0  4911.0  1.918151e-08  5.803789e-14   \n",
       "3             7.0     -89.0   1.0  6911.0  1.917528e-08  5.749123e-14   \n",
       "4             9.0     -89.0   1.0  8911.0  1.917528e-08  5.749123e-14   \n",
       "...           ...       ...   ...     ...           ...           ...   \n",
       "194395       -9.0      89.0  12.0 -8911.0  2.716963e-08  1.193308e-14   \n",
       "194396       -7.0      89.0  12.0 -6911.0  2.717685e-08  1.164388e-14   \n",
       "194397       -5.0      89.0  12.0 -4911.0  2.719129e-08  6.036053e-15   \n",
       "194398       -3.0      89.0  12.0 -2911.0  2.719129e-08  6.036053e-15   \n",
       "194399       -1.0      89.0  12.0  -911.0  2.720231e-08  1.157500e-14   \n",
       "\n",
       "              o3prod        eminox        emivoc        tas  ...  \\\n",
       "0       7.145326e-14  0.000000e+00  0.000000e+00  248.75261  ...   \n",
       "1       7.145326e-14  0.000000e+00  0.000000e+00  248.71443  ...   \n",
       "2       7.134267e-14  0.000000e+00  0.000000e+00  248.67625  ...   \n",
       "3       7.101957e-14  0.000000e+00  0.000000e+00  248.63808  ...   \n",
       "4       7.101957e-14  0.000000e+00  0.000000e+00  248.59988  ...   \n",
       "...              ...           ...           ...        ...  ...   \n",
       "194395  6.409461e-16  9.685218e-14  7.394706e-15  246.50143  ...   \n",
       "194396  5.783149e-16  8.234587e-14  6.287143e-15  246.50337  ...   \n",
       "194397  1.296579e-22  0.000000e+00  0.000000e+00  246.50531  ...   \n",
       "194398  1.296579e-22  0.000000e+00  0.000000e+00  246.50725  ...   \n",
       "194399  6.103431e-16  8.853640e-14  6.759793e-15  246.50919  ...   \n",
       "\n",
       "            k_oh_no2   o3prod_mole   o3loss_mole  lossch4_mole   lossco_mole  \\\n",
       "0       6.500000e-11  43029.153172  35052.875666  19090.079641  59857.144390   \n",
       "1       6.500000e-11  43029.153172  35052.875666  19090.079641  59857.144390   \n",
       "2       6.500000e-11  42962.555874  34950.417358  19058.552062  59721.348290   \n",
       "3       6.500000e-11  42767.985054  34621.218706  18891.328348  59424.310129   \n",
       "4       6.500000e-11  42767.985054  34621.218706  18891.328348  59424.310129   \n",
       "...              ...           ...           ...           ...           ...   \n",
       "194395  6.500000e-11    385.977741   7186.103787     67.746013    439.141884   \n",
       "194396  6.500000e-11    348.261233   7011.942428     65.885216    424.592654   \n",
       "194397  6.500000e-11      0.000078   3634.911297     64.693804    412.004374   \n",
       "194398  6.500000e-11      0.000078   3634.911297     64.693804    412.004374   \n",
       "194399  6.500000e-11    367.548639   6970.463495     66.795759    427.483834   \n",
       "\n",
       "        k_ch3o2_ch3o2      ho2_mole  ratio_ho2_oh            P1   P1_frac  \n",
       "0        4.467728e-13  3.885214e+07    101.784625  30090.210674  0.699298  \n",
       "1        4.468735e-13  3.885756e+07    101.522686  30104.042935  0.699620  \n",
       "2        4.469742e-13  3.876966e+07    101.060546  30090.507106  0.700389  \n",
       "3        4.470749e-13  3.860273e+07    100.621826  29993.816573  0.701315  \n",
       "4        4.471758e-13  3.860376e+07    100.454268  30004.231474  0.701558  \n",
       "...               ...           ...           ...           ...       ...  \n",
       "194395   4.528000e-13  3.626463e+05    592.499409     53.415365  0.138390  \n",
       "194396   4.527948e-13  3.569066e+05    587.165702     45.044834  0.129342  \n",
       "194397   4.527895e-13  3.857658e+05    634.576032      0.000001  0.018555  \n",
       "194398   4.527842e-13  3.860416e+05    624.532871      0.000001  0.018568  \n",
       "194399   4.527789e-13  3.563932e+05    557.581368     49.101456  0.133592  \n",
       "\n",
       "[194400 rows x 59 columns]"
      ]
     },
     "execution_count": 19,
     "metadata": {},
     "output_type": "execute_result"
    }
   ],
   "source": [
    "data = data.drop(['a','b','c'], axis=1)\n",
    "data"
   ]
  },
  {
   "cell_type": "code",
   "execution_count": 20,
   "metadata": {},
   "outputs": [],
   "source": [
    "data.to_csv('/Volumes/Database/Research/C7 Multivariate analysis/EC-Earth3-AerChem_diag_2014(0319).csv', index = False)"
   ]
  }
 ],
 "metadata": {
  "kernelspec": {
   "display_name": "Python 3",
   "language": "python",
   "name": "python3"
  },
  "language_info": {
   "codemirror_mode": {
    "name": "ipython",
    "version": 3
   },
   "file_extension": ".py",
   "mimetype": "text/x-python",
   "name": "python",
   "nbconvert_exporter": "python",
   "pygments_lexer": "ipython3",
   "version": "3.8.5"
  }
 },
 "nbformat": 4,
 "nbformat_minor": 4
}
