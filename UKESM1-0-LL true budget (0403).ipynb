{
 "cells": [
  {
   "cell_type": "code",
   "execution_count": 1,
   "metadata": {},
   "outputs": [],
   "source": [
    "import warnings\n",
    "warnings.filterwarnings(\"ignore\")\n",
    "\n",
    "import pandas as pd\n",
    "import numpy as np\n",
    "import matplotlib as mpl\n",
    "import matplotlib.pyplot as plt\n",
    "\n",
    "from sklearn.metrics import r2_score as R2\n",
    "from sklearn.metrics import mean_squared_error as MSE\n",
    "\n",
    "import iris\n",
    "from eofs.iris import Eof"
   ]
  },
  {
   "cell_type": "code",
   "execution_count": 2,
   "metadata": {},
   "outputs": [],
   "source": [
    "data = pd.read_csv('/Volumes/Database/Research/C7 Multivariate analysis/UKESM1-0-LL_diag_2014(0403).csv')"
   ]
  },
  {
   "cell_type": "code",
   "execution_count": 3,
   "metadata": {},
   "outputs": [],
   "source": [
    "country = pd.read_csv('/Users/csuen/Desktop/PhD/Maps/country_province_state_2*2.csv')\n",
    "data = data.merge(country, how = 'left', left_on = ['longitude','latitude'], right_on = ['longitude','latitude'])\n",
    "data = data.drop(['province','state'], axis=1)"
   ]
  },
  {
   "cell_type": "markdown",
   "metadata": {},
   "source": [
    "### First, converse the concentrations to molecules cm${^{-3}}$"
   ]
  },
  {
   "cell_type": "code",
   "execution_count": 264,
   "metadata": {},
   "outputs": [],
   "source": [
    "data['o3_mole'] = data['o3']*data['ps']/data['tas']*7.243*10**7*(10**9)\n",
    "data['no_mole'] = data['no']*data['ps']/data['tas']*7.243*10**7*(10**9)\n",
    "data['no2_mole'] = data['no2']*data['ps']/data['tas']*7.243*10**7*(10**9)\n",
    "data['oh_mole'] = data['oh']*data['ps']/data['tas']*7.243*10**7*(10**9)\n",
    "data['h2o_mole'] = data['h2o']*data['ps']/data['tas']*7.243*10**7*(10**9)\n",
    "data['hno3_mole'] = data['hno3']*data['ps']/data['tas']*7.243*10**7*(10**9)\n",
    "data['pan_mole'] = data['pan']*data['ps']/data['tas']*7.243*10**7*(10**9)\n",
    "data['ch3o2_mole'] = data['ch3o2']*data['ps']/data['tas']*7.243*10**7*(10**9)/1.6227\n",
    "data['ho2_mole'] = data['ho2']*data['ps']/data['tas']*7.243*10**7*(10**9)/1.1786\n",
    "data['o1d_mole'] = data['o1d']*data['ps']/data['tas']*7.243*10**7*(10**9)/0.5714\n",
    "\n",
    "data['k_ho2_ho2'] = 3.5*10**(-13)*np.exp(430/data['tas'])\n",
    "data['k_oh_no2'] = 6.5*10**(-11)\n",
    "data['k_o1d_h2o'] = 1.63*10**(-10)*np.exp(60/data['tas'])\n",
    "\n",
    "data['o3prod_mole'] = data['o3prod']*6.022*10**17\n",
    "data['o3loss_mole'] = data['o3loss']*6.022*10**17\n",
    "\n",
    "data['lossch4_mole'] = data['lossch4']*6.022*10**17\n",
    "data['lossco_mole'] = data['lossco']*6.022*10**17\n",
    "data['k_ch3o2_ch3o2'] = 9.5*10**(-14)*np.exp(390/data['tas'])"
   ]
  },
  {
   "cell_type": "code",
   "execution_count": 265,
   "metadata": {},
   "outputs": [
    {
     "data": {
      "text/plain": [
       "663585735885.5164"
      ]
     },
     "execution_count": 265,
     "metadata": {},
     "output_type": "execute_result"
    }
   ],
   "source": [
    "data['o3_mole'].mean()"
   ]
  },
  {
   "cell_type": "code",
   "execution_count": 266,
   "metadata": {},
   "outputs": [
    {
     "data": {
      "text/plain": [
       "count    9.720000e+05\n",
       "mean     1.449961e+06\n",
       "std      3.511796e+06\n",
       "min      1.471564e-08\n",
       "25%      4.177122e+04\n",
       "50%      2.724132e+05\n",
       "75%      1.135750e+06\n",
       "max      1.839511e+08\n",
       "Name: o3prod_mole, dtype: float64"
      ]
     },
     "execution_count": 266,
     "metadata": {},
     "output_type": "execute_result"
    }
   ],
   "source": [
    "data['o3prod_mole'].describe()"
   ]
  },
  {
   "cell_type": "code",
   "execution_count": 267,
   "metadata": {},
   "outputs": [
    {
     "data": {
      "text/plain": [
       "count    9.720000e+05\n",
       "mean     2.671724e+05\n",
       "std      3.138944e+05\n",
       "min      5.459778e-02\n",
       "25%      1.764129e+04\n",
       "50%      1.238389e+05\n",
       "75%      4.682725e+05\n",
       "max      2.739525e+06\n",
       "Name: lossch4_mole, dtype: float64"
      ]
     },
     "execution_count": 267,
     "metadata": {},
     "output_type": "execute_result"
    }
   ],
   "source": [
    "data['lossch4_mole'].describe()"
   ]
  },
  {
   "cell_type": "code",
   "execution_count": 268,
   "metadata": {},
   "outputs": [
    {
     "data": {
      "text/plain": [
       "count    9.720000e+05\n",
       "mean     4.949081e+05\n",
       "std      7.220968e+05\n",
       "min      3.765106e-01\n",
       "25%      4.822026e+04\n",
       "50%      2.634963e+05\n",
       "75%      7.106299e+05\n",
       "max      4.839518e+07\n",
       "Name: lossco_mole, dtype: float64"
      ]
     },
     "execution_count": 268,
     "metadata": {},
     "output_type": "execute_result"
    }
   ],
   "source": [
    "data['lossco_mole'].describe()"
   ]
  },
  {
   "cell_type": "code",
   "execution_count": 233,
   "metadata": {},
   "outputs": [
    {
     "data": {
      "text/plain": [
       "7438502765.733763"
      ]
     },
     "execution_count": 233,
     "metadata": {},
     "output_type": "execute_result"
    }
   ],
   "source": [
    "data['no_mole'].describe()"
   ]
  },
  {
   "cell_type": "code",
   "execution_count": 269,
   "metadata": {},
   "outputs": [
    {
     "data": {
      "text/plain": [
       "count    9.720000e+05\n",
       "mean     1.058698e+06\n",
       "std      1.101868e+06\n",
       "min      7.906739e-01\n",
       "25%      1.255346e+05\n",
       "50%      6.636913e+05\n",
       "75%      1.787422e+06\n",
       "max      9.102552e+06\n",
       "Name: oh_mole, dtype: float64"
      ]
     },
     "execution_count": 269,
     "metadata": {},
     "output_type": "execute_result"
    }
   ],
   "source": [
    "data['oh_mole'].describe()"
   ]
  },
  {
   "cell_type": "code",
   "execution_count": 270,
   "metadata": {},
   "outputs": [
    {
     "data": {
      "text/plain": [
       "count    9.720000e+05\n",
       "mean     8.315586e+07\n",
       "std      7.850867e+07\n",
       "min      1.633785e+03\n",
       "25%      1.719764e+07\n",
       "50%      5.716522e+07\n",
       "75%      1.336907e+08\n",
       "max      3.511018e+08\n",
       "Name: ch3o2_mole, dtype: float64"
      ]
     },
     "execution_count": 270,
     "metadata": {},
     "output_type": "execute_result"
    }
   ],
   "source": [
    "data['ch3o2_mole'].describe()"
   ]
  },
  {
   "cell_type": "code",
   "execution_count": 271,
   "metadata": {},
   "outputs": [
    {
     "data": {
      "text/plain": [
       "count    9.720000e+05\n",
       "mean     9.850579e+07\n",
       "std      8.186555e+07\n",
       "min      2.810981e+02\n",
       "25%      2.223766e+07\n",
       "50%      8.667198e+07\n",
       "75%      1.588123e+08\n",
       "max      6.368319e+08\n",
       "Name: ho2_mole, dtype: float64"
      ]
     },
     "execution_count": 271,
     "metadata": {},
     "output_type": "execute_result"
    }
   ],
   "source": [
    "data['ho2_mole'].describe()"
   ]
  },
  {
   "cell_type": "code",
   "execution_count": 272,
   "metadata": {},
   "outputs": [
    {
     "data": {
      "text/plain": [
       "count    972000.000000\n",
       "mean          0.013813\n",
       "std           0.015349\n",
       "min           0.000000\n",
       "25%           0.001632\n",
       "50%           0.010227\n",
       "75%           0.020017\n",
       "max           0.143203\n",
       "Name: o1d_mole, dtype: float64"
      ]
     },
     "execution_count": 272,
     "metadata": {},
     "output_type": "execute_result"
    }
   ],
   "source": [
    "data['o1d_mole'].describe()"
   ]
  },
  {
   "cell_type": "code",
   "execution_count": 238,
   "metadata": {},
   "outputs": [
    {
     "data": {
      "text/plain": [
       "8.53165841139419e-12"
      ]
     },
     "execution_count": 238,
     "metadata": {},
     "output_type": "execute_result"
    }
   ],
   "source": [
    "data['k_no_ch3o2'].mean()"
   ]
  },
  {
   "cell_type": "code",
   "execution_count": 239,
   "metadata": {},
   "outputs": [
    {
     "data": {
      "text/plain": [
       "count    972000.000000\n",
       "mean       3724.285025\n",
       "std       18828.502218\n",
       "min           0.115633\n",
       "25%          41.346050\n",
       "50%          80.169028\n",
       "75%         154.876261\n",
       "max      497409.863996\n",
       "Name: ratio_ch3o2_oh, dtype: float64"
      ]
     },
     "execution_count": 239,
     "metadata": {},
     "output_type": "execute_result"
    }
   ],
   "source": [
    "data['ratio_ch3o2_oh'] = data['ch3o2_mole']/data['oh_mole']\n",
    "data['ratio_ch3o2_oh'].describe()"
   ]
  },
  {
   "cell_type": "code",
   "execution_count": 240,
   "metadata": {},
   "outputs": [
    {
     "data": {
      "text/plain": [
       "count    972000.000000\n",
       "mean        147.738575\n",
       "std         185.334212\n",
       "min           0.812606\n",
       "25%          53.874238\n",
       "50%          77.637505\n",
       "75%         152.396658\n",
       "max        3228.210451\n",
       "Name: ratio_ho2_oh, dtype: float64"
      ]
     },
     "execution_count": 240,
     "metadata": {},
     "output_type": "execute_result"
    }
   ],
   "source": [
    "data['ratio_ho2_oh'] = data['ho2_mole']/data['oh_mole']\n",
    "data['ratio_ho2_oh'].describe()"
   ]
  },
  {
   "cell_type": "code",
   "execution_count": 241,
   "metadata": {},
   "outputs": [
    {
     "data": {
      "text/plain": [
       "count    972000.000000\n",
       "mean          0.693759\n",
       "std          11.976469\n",
       "min           0.042675\n",
       "25%           0.223938\n",
       "50%           0.272719\n",
       "75%           0.398695\n",
       "max        5654.675665\n",
       "Name: P2_frac, dtype: float64"
      ]
     },
     "execution_count": 241,
     "metadata": {},
     "output_type": "execute_result"
    }
   ],
   "source": [
    "data['P2'] = data['k_no_ch3o2']*data['no_mole']*data['ch3o2_mole']\n",
    "data['P2_frac'] = data['P2']/data['o3prod_mole']\n",
    "data['P2_frac'].describe()"
   ]
  },
  {
   "cell_type": "code",
   "execution_count": 242,
   "metadata": {},
   "outputs": [
    {
     "data": {
      "text/plain": [
       "1012009.3950498564"
      ]
     },
     "execution_count": 242,
     "metadata": {},
     "output_type": "execute_result"
    }
   ],
   "source": [
    "data['P2'].mean()"
   ]
  },
  {
   "cell_type": "code",
   "execution_count": 243,
   "metadata": {},
   "outputs": [
    {
     "data": {
      "text/plain": [
       "count    972000.000000\n",
       "mean          0.712520\n",
       "std           3.923615\n",
       "min           0.000598\n",
       "25%           0.176880\n",
       "50%           0.301093\n",
       "75%           0.510885\n",
       "max         918.345034\n",
       "Name: P1_frac, dtype: float64"
      ]
     },
     "execution_count": 243,
     "metadata": {},
     "output_type": "execute_result"
    }
   ],
   "source": [
    "data['P1'] = data['k_no_ho2']*data['no_mole']*data['ho2_mole']\n",
    "data['P1_frac'] = data['P1']/data['o3prod_mole']\n",
    "data['P1_frac'].describe()"
   ]
  },
  {
   "cell_type": "code",
   "execution_count": 244,
   "metadata": {},
   "outputs": [
    {
     "data": {
      "text/plain": [
       "2993579.509152567"
      ]
     },
     "execution_count": 244,
     "metadata": {},
     "output_type": "execute_result"
    }
   ],
   "source": [
    "data['P1'].mean()"
   ]
  },
  {
   "cell_type": "code",
   "execution_count": 245,
   "metadata": {},
   "outputs": [
    {
     "data": {
      "image/png": "[encoded data removed]",
      "text/plain": [
       "<Figure size 432x288 with 2 Axes>"
      ]
     },
     "metadata": {
      "needs_background": "light"
     },
     "output_type": "display_data"
    }
   ],
   "source": [
    "data['loc'] = data['longitude']*1000 + data['latitude']\n",
    "data_land = data\n",
    "data_mean = data_land.groupby(['loc']).mean()\n",
    "\n",
    "cm = plt.cm.get_cmap('Blues')\n",
    "x = data_mean['longitude']\n",
    "y = data_mean['latitude']\n",
    "z = data_mean['P2_frac']\n",
    "sc = plt.scatter(x, y, c=z, marker=\"s\", vmin=0, vmax=1, s=3, cmap=cm)\n",
    "plt.xlim([-180, 180])\n",
    "plt.ylim([-90, 90])\n",
    "plt.colorbar(sc)\n",
    "plt.show()"
   ]
  },
  {
   "cell_type": "code",
   "execution_count": 246,
   "metadata": {},
   "outputs": [
    {
     "data": {
      "text/plain": [
       "count    972000.000000\n",
       "mean         -0.406279\n",
       "std          15.265090\n",
       "min       -6572.020699\n",
       "25%           0.067448\n",
       "50%           0.412074\n",
       "75%           0.556958\n",
       "max           0.811174\n",
       "Name: P3_frac, dtype: float64"
      ]
     },
     "execution_count": 246,
     "metadata": {},
     "output_type": "execute_result"
    }
   ],
   "source": [
    "data['P3'] = data['o3prod_mole'] - data['P1'] - data['P2']\n",
    "data['P3_frac'] = data['P3']/data['o3prod_mole']\n",
    "data['P3_frac'].describe()"
   ]
  },
  {
   "cell_type": "code",
   "execution_count": 247,
   "metadata": {},
   "outputs": [
    {
     "data": {
      "text/plain": [
       "count    9.720000e+05\n",
       "mean     8.462844e+07\n",
       "std      1.215227e+08\n",
       "min     -4.306621e+08\n",
       "25%      1.054602e+06\n",
       "50%      4.718400e+07\n",
       "75%      1.500140e+08\n",
       "max      1.041078e+09\n",
       "Name: ro2_mole, dtype: float64"
      ]
     },
     "execution_count": 247,
     "metadata": {},
     "output_type": "execute_result"
    }
   ],
   "source": [
    "data['k_no_ro2'] = 2.54*10**(-12)*np.exp(360/data['tas'])\n",
    "data['ro2_mole'] = data['P3']/data['k_no_ro2']/data['no_mole']\n",
    "data['ro2_mole'].describe()"
   ]
  },
  {
   "cell_type": "code",
   "execution_count": 248,
   "metadata": {},
   "outputs": [],
   "source": [
    "data['P5'] = data['k_o3_oh']*data['o3_mole']*data['oh_mole']\n",
    "data['P5_frac'] = data['P5']/data['o3loss_mole']"
   ]
  },
  {
   "cell_type": "code",
   "execution_count": 249,
   "metadata": {},
   "outputs": [],
   "source": [
    "data['P6'] = data['k_o3_ho2']*data['o3_mole']*data['ho2_mole']\n",
    "data['P6_frac'] = data['P6']/data['o3loss_mole']"
   ]
  },
  {
   "cell_type": "code",
   "execution_count": 250,
   "metadata": {},
   "outputs": [],
   "source": [
    "data['P4'] = data['k_o1d_h2o']*data['o1d_mole']*data['h2o_mole']\n",
    "data['P4_frac'] = data['P4']/data['o3loss_mole']"
   ]
  },
  {
   "cell_type": "code",
   "execution_count": 251,
   "metadata": {},
   "outputs": [],
   "source": [
    "data['P7'] = data['o3loss_mole'] - data['P4'] - data['P5'] - data['P6']\n",
    "data['P7_frac'] = data['P7']/data['o3loss_mole']"
   ]
  },
  {
   "cell_type": "code",
   "execution_count": 252,
   "metadata": {},
   "outputs": [
    {
     "data": {
      "text/plain": [
       "count    972000.000000\n",
       "mean          1.343871\n",
       "std           0.978827\n",
       "min           0.001444\n",
       "25%           0.654435\n",
       "50%           1.113432\n",
       "75%           1.862781\n",
       "max          11.088312\n",
       "Name: ratio_P1_P2, dtype: float64"
      ]
     },
     "execution_count": 252,
     "metadata": {},
     "output_type": "execute_result"
    }
   ],
   "source": [
    "data['ratio_P1_P2'] = data['P1']/data['P2']\n",
    "data['ratio_P1_P2'].describe()"
   ]
  },
  {
   "cell_type": "code",
   "execution_count": 253,
   "metadata": {},
   "outputs": [
    {
     "data": {
      "text/plain": [
       "count    972000.000000\n",
       "mean          0.508235\n",
       "std           0.622596\n",
       "min           0.011310\n",
       "25%           0.206688\n",
       "50%           0.434999\n",
       "75%           0.663030\n",
       "max          38.982534\n",
       "Name: ratio_P5_P6, dtype: float64"
      ]
     },
     "execution_count": 253,
     "metadata": {},
     "output_type": "execute_result"
    }
   ],
   "source": [
    "data['ratio_P5_P6'] = data['P5']/data['P6']\n",
    "data['ratio_P5_P6'].describe()"
   ]
  },
  {
   "cell_type": "code",
   "execution_count": 254,
   "metadata": {},
   "outputs": [],
   "source": [
    "data_land = data.dropna()\n",
    "ratio_P1_P2 = data_land['ratio_P1_P2'].median()\n",
    "ratio_P5_P6 = data_land['ratio_P5_P6'].median()\n",
    "P1_frac = data_land['P1_frac'].median()\n",
    "P2_frac = data_land['P2_frac'].median()\n",
    "P3_frac = data_land['P3_frac'].median()\n",
    "P4_frac = data_land['P4_frac'].median()\n",
    "P5_frac = data_land['P5_frac'].median()\n",
    "P6_frac = data_land['P6_frac'].median()\n",
    "P7_frac = data_land['P7_frac'].median()\n",
    "ratio_ho2_oh = data_land['ratio_ho2_oh'].median()\n",
    "ratio_ch3o2_oh = data_land['ratio_ch3o2_oh'].median()"
   ]
  },
  {
   "cell_type": "code",
   "execution_count": 255,
   "metadata": {},
   "outputs": [
    {
     "name": "stdout",
     "output_type": "stream",
     "text": [
      "P1 fraction:    0.56\n",
      "P2 fraction:    0.36\n",
      "P3 fraction:    0.11\n",
      "P4 fraction:    0.67\n",
      "P5 fraction:    0.08\n",
      "P6 fraction:    0.24\n",
      "P7 fraction:    0.0\n",
      "P1:P2 ratio:    1.95\n",
      "P5:P6 ratio:    0.32\n",
      "HO₂:OH ratio:   98.5\n",
      "CH₃O₂:OH ratio: 51.7\n"
     ]
    }
   ],
   "source": [
    "print(\"P1 fraction:    \"+str(np.round(P1_frac,2)))\n",
    "print(\"P2 fraction:    \"+str(np.round(P2_frac,2)))\n",
    "print(\"P3 fraction:    \"+str(np.round(P3_frac,2)))\n",
    "print(\"P4 fraction:    \"+str(np.round(P4_frac,2)))\n",
    "print(\"P5 fraction:    \"+str(np.round(P5_frac,2)))\n",
    "print(\"P6 fraction:    \"+str(np.round(P6_frac,2)))\n",
    "print(\"P7 fraction:    \"+str(np.round(P7_frac,2)))\n",
    "print(\"P1:P2 ratio:    \"+str(np.round(ratio_P1_P2,2)))\n",
    "print(\"P5:P6 ratio:    \"+str(np.round(ratio_P5_P6,2)))\n",
    "print(\"HO\\u2082:OH ratio:   \"+str(np.round(ratio_ho2_oh,1)))\n",
    "print(\"CH\\u2083O\\u2082:OH ratio: \"+str(np.round(ratio_ch3o2_oh,1)))"
   ]
  },
  {
   "cell_type": "code",
   "execution_count": 256,
   "metadata": {},
   "outputs": [
    {
     "data": {
      "text/plain": [
       "count    322140.000000\n",
       "mean         -1.481781\n",
       "std          25.743966\n",
       "min       -6572.020699\n",
       "25%          -0.882864\n",
       "50%           0.105666\n",
       "75%           0.414723\n",
       "max           0.811174\n",
       "Name: P3_frac, dtype: float64"
      ]
     },
     "execution_count": 256,
     "metadata": {},
     "output_type": "execute_result"
    }
   ],
   "source": [
    "data_land['P3_frac'].describe()"
   ]
  },
  {
   "cell_type": "code",
   "execution_count": 257,
   "metadata": {},
   "outputs": [
    {
     "data": {
      "text/plain": [
       "count    322140.000000\n",
       "mean          1.460086\n",
       "std           6.579876\n",
       "min           0.000766\n",
       "25%           0.341786\n",
       "50%           0.555546\n",
       "75%           1.244185\n",
       "max         918.345034\n",
       "Name: P1_frac, dtype: float64"
      ]
     },
     "execution_count": 257,
     "metadata": {},
     "output_type": "execute_result"
    }
   ],
   "source": [
    "data_land['P1_frac'].describe()"
   ]
  },
  {
   "cell_type": "code",
   "execution_count": 258,
   "metadata": {},
   "outputs": [
    {
     "data": {
      "text/plain": [
       "count    322140.000000\n",
       "mean          1.021695\n",
       "std          20.206514\n",
       "min           0.042675\n",
       "25%           0.229372\n",
       "50%           0.356023\n",
       "75%           0.582030\n",
       "max        5654.675665\n",
       "Name: P2_frac, dtype: float64"
      ]
     },
     "execution_count": 258,
     "metadata": {},
     "output_type": "execute_result"
    }
   ],
   "source": [
    "data_land['P2_frac'].describe()"
   ]
  },
  {
   "cell_type": "code",
   "execution_count": 259,
   "metadata": {},
   "outputs": [
    {
     "data": {
      "text/plain": [
       "count    322140.000000\n",
       "mean          0.670515\n",
       "std           0.483458\n",
       "min           0.000000\n",
       "25%           0.297480\n",
       "50%           0.665337\n",
       "75%           0.979779\n",
       "max           6.522430\n",
       "Name: P4_frac, dtype: float64"
      ]
     },
     "execution_count": 259,
     "metadata": {},
     "output_type": "execute_result"
    }
   ],
   "source": [
    "data_land['P4_frac'].describe()"
   ]
  },
  {
   "cell_type": "code",
   "execution_count": 260,
   "metadata": {},
   "outputs": [
    {
     "data": {
      "text/plain": [
       "count    322140.000000\n",
       "mean          0.095293\n",
       "std           0.073012\n",
       "min           0.000369\n",
       "25%           0.036410\n",
       "50%           0.079704\n",
       "75%           0.140150\n",
       "max           0.899977\n",
       "Name: P5_frac, dtype: float64"
      ]
     },
     "execution_count": 260,
     "metadata": {},
     "output_type": "execute_result"
    }
   ],
   "source": [
    "data_land['P5_frac'].describe()"
   ]
  },
  {
   "cell_type": "code",
   "execution_count": 261,
   "metadata": {},
   "outputs": [
    {
     "data": {
      "text/plain": [
       "count    322140.000000\n",
       "mean          0.278054\n",
       "std           0.174799\n",
       "min           0.000158\n",
       "25%           0.132800\n",
       "50%           0.235552\n",
       "75%           0.407616\n",
       "max           0.780433\n",
       "Name: P6_frac, dtype: float64"
      ]
     },
     "execution_count": 261,
     "metadata": {},
     "output_type": "execute_result"
    }
   ],
   "source": [
    "data_land['P6_frac'].describe()"
   ]
  },
  {
   "cell_type": "code",
   "execution_count": 262,
   "metadata": {},
   "outputs": [
    {
     "data": {
      "text/plain": [
       "count    322140.000000\n",
       "mean         -0.043862\n",
       "std           0.408357\n",
       "min          -5.634990\n",
       "25%          -0.283067\n",
       "50%           0.002823\n",
       "75%           0.253674\n",
       "max           0.984531\n",
       "Name: P7_frac, dtype: float64"
      ]
     },
     "execution_count": 262,
     "metadata": {},
     "output_type": "execute_result"
    }
   ],
   "source": [
    "data_land['P7_frac'].describe()"
   ]
  },
  {
   "cell_type": "code",
   "execution_count": 263,
   "metadata": {},
   "outputs": [],
   "source": [
    "#data.to_csv('/Volumes/Database/Research/C7 Multivariate analysis/UKESM1-0-LL_diag_2014(0404).csv', index = False)"
   ]
  },
  {
   "cell_type": "code",
   "execution_count": null,
   "metadata": {},
   "outputs": [],
   "source": []
  },
  {
   "cell_type": "code",
   "execution_count": null,
   "metadata": {},
   "outputs": [],
   "source": []
  },
  {
   "cell_type": "code",
   "execution_count": null,
   "metadata": {},
   "outputs": [],
   "source": []
  },
  {
   "cell_type": "code",
   "execution_count": null,
   "metadata": {},
   "outputs": [],
   "source": []
  }
 ],
 "metadata": {
  "kernelspec": {
   "display_name": "Python 3",
   "language": "python",
   "name": "python3"
  },
  "language_info": {
   "codemirror_mode": {
    "name": "ipython",
    "version": 3
   },
   "file_extension": ".py",
   "mimetype": "text/x-python",
   "name": "python",
   "nbconvert_exporter": "python",
   "pygments_lexer": "ipython3",
   "version": "3.8.5"
  }
 },
 "nbformat": 4,
 "nbformat_minor": 4
}
