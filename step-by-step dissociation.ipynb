{
 "cells": [
  {
   "cell_type": "code",
   "execution_count": 1,
   "metadata": {},
   "outputs": [],
   "source": [
    "import warnings\n",
    "warnings.filterwarnings(\"ignore\")\n",
    "\n",
    "import pandas as pd\n",
    "import numpy as np\n",
    "import matplotlib as mpl\n",
    "import matplotlib.pyplot as plt\n",
    "\n",
    "from sklearn.metrics import r2_score as R2\n",
    "from sklearn.metrics import mean_squared_error as MSE"
   ]
  },
  {
   "cell_type": "code",
   "execution_count": 2,
   "metadata": {},
   "outputs": [],
   "source": [
    "rest = pd.read_csv('/Volumes/Database/Research/ozone-budget/result_df_UKESM1_3_0_NN_width_64_dropout_0.1_90.csv')\n",
    "data = pd.read_csv('/Volumes/Database/Research/C7 Multivariate analysis/UKESM1-0-LL_diag_2014(1217).csv')"
   ]
  },
  {
   "cell_type": "code",
   "execution_count": 94,
   "metadata": {},
   "outputs": [],
   "source": [
    "rest['tas'] = data['tas']\n",
    "rest['pan'] = data['pan']\n",
    "rest['photo1d'] = data['photo1d']\n",
    "\n",
    "rest['o3_mole'] = rest['o3']*1.01325*10**5/rest['tas']*7.243*10**7*(10**9)\n",
    "rest['no_mole'] = rest['no']*1.01325*10**5/rest['tas']*7.243*10**7*(10**9)\n",
    "rest['no2_mole'] = rest['no2']*1.01325*10**5/rest['tas']*7.243*10**7*(10**9)\n",
    "rest['oh_mole'] = rest['oh']*1.01325*10**5/rest['tas']*7.243*10**7*(10**9)\n",
    "rest['h2o_mole'] = rest['h2o']*1.01325*10**5/rest['tas']*7.243*10**7*(10**9)\n",
    "rest['hno3_mole'] = rest['hno3']*1.01325*10**5/rest['tas']*7.243*10**7*(10**9)\n",
    "rest['pan_mole'] = rest['pan']*1.01325*10**5/rest['tas']*7.243*10**7*(10**9)\n",
    "\n",
    "rest['ho2_mole'] = rest['HO₂']*1.01325*10**5/rest['tas']*7.243*10**7*(10**9)/3.33\n",
    "rest['ch3o2_mole'] = rest['CH₃O₂']*1.01325*10**5/rest['tas']*7.243*10**7*(10**9)/50\n",
    "rest['o1d_mole'] = rest['O¹D']*1.01325*10**5/rest['tas']*7.243*10**7*(10**9)\n",
    "\n",
    "rest['o3prod_mole'] = rest['o3prod']*(6.022*10**23)/(10**6)\n",
    "rest['o3loss_mole'] = rest['o3loss']*(6.022*10**23)/(10**6)\n",
    "\n",
    "rest['k_ho2_ho2'] = 2.2*10**(-13)*np.exp(600/rest['tas'])\n",
    "rest['k_oh_no2'] = 6.5*10**(-11)\n",
    "rest['k_no_ho2'] = 3.30*10**(-12)*np.exp(270/rest['tas'])\n",
    "rest['k_no_ch3o2'] = 2.30*10**(-12)*np.exp(360/rest['tas'])\n",
    "rest['k_o1d_h2o'] = 1.63*10**(-10)*np.exp(60/rest['tas'])\n",
    "rest['k_o3_ho2'] = 2.03*10**(-16)*(rest['tas']/300)**4.57*np.exp(693/rest['tas'])\n",
    "rest['k_o3_oh'] = data['k_o3_oh']"
   ]
  },
  {
   "cell_type": "markdown",
   "metadata": {},
   "source": [
    "### First, it is better to compare the kinetic parameters used in UKESM1-0-LL with the IUPAC preference. It is expected that the temperature-dependent kinetic rates should be close to the IUPAC suggested values. "
   ]
  },
  {
   "cell_type": "code",
   "execution_count": 95,
   "metadata": {},
   "outputs": [
    {
     "data": {
      "text/plain": [
       "count    9.720000e+05\n",
       "mean     5.872950e-14\n",
       "std      1.461017e-14\n",
       "min      1.399188e-14\n",
       "25%      5.085895e-14\n",
       "50%      6.167296e-14\n",
       "75%      7.141854e-14\n",
       "max      8.512149e-14\n",
       "Name: k_o3_oh, dtype: float64"
      ]
     },
     "execution_count": 95,
     "metadata": {},
     "output_type": "execute_result"
    }
   ],
   "source": [
    "rest['k_o3_oh'].describe()"
   ]
  },
  {
   "cell_type": "code",
   "execution_count": 96,
   "metadata": {},
   "outputs": [
    {
     "data": {
      "text/plain": [
       "count    9.720000e+05\n",
       "mean     1.759353e-15\n",
       "std      2.646843e-16\n",
       "min      9.950170e-16\n",
       "25%      1.607599e-15\n",
       "50%      1.805485e-15\n",
       "75%      1.992593e-15\n",
       "max      2.271330e-15\n",
       "Name: k_o3_ho2, dtype: float64"
      ]
     },
     "execution_count": 96,
     "metadata": {},
     "output_type": "execute_result"
    }
   ],
   "source": [
    "rest['k_o3_ho2'].describe()"
   ]
  },
  {
   "cell_type": "code",
   "execution_count": 97,
   "metadata": {},
   "outputs": [
    {
     "data": {
      "text/plain": [
       "count    9.720000e+05\n",
       "mean     2.026049e-10\n",
       "std      3.926133e-12\n",
       "min      1.973297e-10\n",
       "25%      1.995529e-10\n",
       "50%      2.014304e-10\n",
       "75%      2.039245e-10\n",
       "max      2.214346e-10\n",
       "Name: k_o1d_h2o, dtype: float64"
      ]
     },
     "execution_count": 97,
     "metadata": {},
     "output_type": "execute_result"
    }
   ],
   "source": [
    "rest['k_o1d_h2o'].describe()"
   ]
  },
  {
   "cell_type": "code",
   "execution_count": 98,
   "metadata": {},
   "outputs": [
    {
     "data": {
      "text/plain": [
       "count    9.720000e+05\n",
       "mean     8.808589e-12\n",
       "std      8.049641e-13\n",
       "min      7.798945e-12\n",
       "25%      8.202217e-12\n",
       "50%      8.555249e-12\n",
       "75%      9.042365e-12\n",
       "max      1.310009e-11\n",
       "Name: k_no_ho2, dtype: float64"
      ]
     },
     "execution_count": 98,
     "metadata": {},
     "output_type": "execute_result"
    }
   ],
   "source": [
    "rest['k_no_ho2'].describe()"
   ]
  },
  {
   "cell_type": "code",
   "execution_count": 99,
   "metadata": {},
   "outputs": [
    {
     "data": {
      "text/plain": [
       "count    9.720000e+05\n",
       "mean     8.531658e-12\n",
       "std      1.061141e-12\n",
       "min      7.240309e-12\n",
       "25%      7.743743e-12\n",
       "50%      8.191300e-12\n",
       "75%      8.818986e-12\n",
       "max      1.445689e-11\n",
       "Name: k_no_ch3o2, dtype: float64"
      ]
     },
     "execution_count": 99,
     "metadata": {},
     "output_type": "execute_result"
    }
   ],
   "source": [
    "rest['k_no_ch3o2'].describe()"
   ]
  },
  {
   "cell_type": "code",
   "execution_count": 100,
   "metadata": {},
   "outputs": [
    {
     "data": {
      "text/plain": [
       "0.10613192063156386"
      ]
     },
     "execution_count": 100,
     "metadata": {},
     "output_type": "execute_result"
    }
   ],
   "source": [
    "rest['Pt_O3_OH'] = rest['k_o3_oh']*rest['o3_mole']*rest['oh_mole']\n",
    "rest['Pr_O3_OH'] = rest['Pt_O3_OH']/rest['o3loss_mole']\n",
    "rest['Pr_O3_OH'].mean()"
   ]
  },
  {
   "cell_type": "markdown",
   "metadata": {},
   "source": [
    "### Part 1: HO${_2}$ + NO → NO${_2}$ + OH"
   ]
  },
  {
   "cell_type": "code",
   "execution_count": 101,
   "metadata": {},
   "outputs": [
    {
     "data": {
      "text/plain": [
       "101.31289217465275"
      ]
     },
     "execution_count": 101,
     "metadata": {},
     "output_type": "execute_result"
    }
   ],
   "source": [
    "rest['ho2_mole'].mean()/rest['oh_mole'].mean()"
   ]
  },
  {
   "cell_type": "code",
   "execution_count": 102,
   "metadata": {},
   "outputs": [
    {
     "data": {
      "text/plain": [
       "0.6773993143029338"
      ]
     },
     "execution_count": 102,
     "metadata": {},
     "output_type": "execute_result"
    }
   ],
   "source": [
    "rest['Pt_HO2_NO'] = rest['k_no_ho2']*rest['ho2_mole']*rest['no_mole']\n",
    "rest['Pr_HO2_NO'] = rest['Pt_HO2_NO']/rest['o3prod_mole']\n",
    "rest['Pr_HO2_NO'].mean()"
   ]
  },
  {
   "cell_type": "markdown",
   "metadata": {},
   "source": [
    "### Part 2: CH${_3}$O${_2}$ + NO → NO${_2}$ + HCHO"
   ]
  },
  {
   "cell_type": "code",
   "execution_count": 103,
   "metadata": {},
   "outputs": [
    {
     "data": {
      "text/plain": [
       "2.9604062734493155"
      ]
     },
     "execution_count": 103,
     "metadata": {},
     "output_type": "execute_result"
    }
   ],
   "source": [
    "rest['ho2_mole'].mean()/rest['ch3o2_mole'].mean()"
   ]
  },
  {
   "cell_type": "code",
   "execution_count": 104,
   "metadata": {},
   "outputs": [
    {
     "data": {
      "text/plain": [
       "0.21756531117856875"
      ]
     },
     "execution_count": 104,
     "metadata": {},
     "output_type": "execute_result"
    }
   ],
   "source": [
    "rest['Pt_CH3O2_NO'] = rest['k_no_ch3o2']*rest['ch3o2_mole']*rest['no_mole']\n",
    "rest['Pr_CH3O2_NO'] = rest['Pt_CH3O2_NO']/rest['o3prod_mole']\n",
    "rest['Pr_CH3O2_NO'].mean()"
   ]
  },
  {
   "cell_type": "markdown",
   "metadata": {},
   "source": [
    "### Part 3: RO${_2}$ + NO → NO${_2}$ + RO"
   ]
  },
  {
   "cell_type": "code",
   "execution_count": null,
   "metadata": {},
   "outputs": [],
   "source": [
    "rest['Pt_RO2_NO']"
   ]
  }
 ],
 "metadata": {
  "kernelspec": {
   "display_name": "Python 3",
   "language": "python",
   "name": "python3"
  },
  "language_info": {
   "codemirror_mode": {
    "name": "ipython",
    "version": 3
   },
   "file_extension": ".py",
   "mimetype": "text/x-python",
   "name": "python",
   "nbconvert_exporter": "python",
   "pygments_lexer": "ipython3",
   "version": "3.8.5"
  }
 },
 "nbformat": 4,
 "nbformat_minor": 4
}
