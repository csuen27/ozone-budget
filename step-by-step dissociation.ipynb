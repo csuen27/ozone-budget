{
 "cells": [
  {
   "cell_type": "code",
   "execution_count": 1,
   "metadata": {},
   "outputs": [],
   "source": [
    "import warnings\n",
    "warnings.filterwarnings(\"ignore\")\n",
    "\n",
    "import pandas as pd\n",
    "import numpy as np\n",
    "import matplotlib as mpl\n",
    "import matplotlib.pyplot as plt\n",
    "\n",
    "from sklearn.metrics import r2_score as R2\n",
    "from sklearn.metrics import mean_squared_error as MSE"
   ]
  },
  {
   "cell_type": "code",
   "execution_count": 2,
   "metadata": {},
   "outputs": [],
   "source": [
    "rest = pd.read_csv('/Volumes/Database/Research/ozone-budget/result_df_UKESM1_3_0_NN_width_64_dropout_0.1_61.csv')\n",
    "data = pd.read_csv('/Volumes/Database/Research/C7 Multivariate analysis/UKESM1-0-LL_diag_2014(1217).csv')"
   ]
  },
  {
   "cell_type": "code",
   "execution_count": 3,
   "metadata": {},
   "outputs": [],
   "source": [
    "rest['tas'] = data['tas']\n",
    "rest['pan'] = data['pan']\n",
    "rest['photo1d'] = data['photo1d']\n",
    "\n",
    "rest['o3_mole'] = rest['o3']*1.01325*10**5/rest['tas']*7.243*10**7*(10**9)\n",
    "rest['no_mole'] = rest['no']*1.01325*10**5/rest['tas']*7.243*10**7*(10**9)\n",
    "rest['no2_mole'] = rest['no2']*1.01325*10**5/rest['tas']*7.243*10**7*(10**9)\n",
    "rest['oh_mole'] = rest['oh']*1.01325*10**5/rest['tas']*7.243*10**7*(10**9)\n",
    "rest['h2o_mole'] = rest['h2o']*1.01325*10**5/rest['tas']*7.243*10**7*(10**9)\n",
    "rest['hno3_mole'] = rest['hno3']*1.01325*10**5/rest['tas']*7.243*10**7*(10**9)\n",
    "rest['pan_mole'] = rest['pan']*1.01325*10**5/rest['tas']*7.243*10**7*(10**9)\n",
    "\n",
    "rest['ho2_mole'] = rest['HO₂']*1.01325*10**5/rest['tas']*7.243*10**7*(10**9)/3.33\n",
    "rest['ch3o2_mole'] = rest['CH₃O₂']*1.01325*10**5/rest['tas']*7.243*10**7*(10**9)/50\n",
    "rest['o1d_mole'] = rest['O¹D']*1.01325*10**5/rest['tas']*7.243*10**7*(10**9)/1.66\n",
    "\n",
    "rest['o3prod_mole'] = rest['o3prod']*(6.022*10**23)/(10**6)\n",
    "rest['o3loss_mole'] = rest['o3loss']*(6.022*10**23)/(10**6)\n",
    "\n",
    "rest['k_ho2_ho2'] = 2.2*10**(-13)*np.exp(600/rest['tas'])\n",
    "rest['k_oh_no2'] = 6.5*10**(-11)\n",
    "rest['k_no_ho2'] = 3.30*10**(-12)*np.exp(270/rest['tas'])\n",
    "rest['k_no_ch3o2'] = 2.30*10**(-12)*np.exp(360/rest['tas'])\n",
    "rest['k_o1d_h2o'] = 1.63*10**(-10)*np.exp(60/rest['tas'])\n",
    "rest['k_o3_ho2'] = 2.03*10**(-16)*(rest['tas']/300)**4.57*np.exp(693/rest['tas'])\n",
    "rest['k_o3_oh'] = data['k_o3_oh']"
   ]
  },
  {
   "cell_type": "markdown",
   "metadata": {},
   "source": [
    "### First, it is better to compare the kinetic parameters used in UKESM1-0-LL with the IUPAC preference. It is expected that the temperature-dependent kinetic rates should be close to the IUPAC suggested values. "
   ]
  },
  {
   "cell_type": "code",
   "execution_count": 4,
   "metadata": {},
   "outputs": [
    {
     "data": {
      "text/plain": [
       "count    9.720000e+05\n",
       "mean     5.872950e-14\n",
       "std      1.461017e-14\n",
       "min      1.399188e-14\n",
       "25%      5.085895e-14\n",
       "50%      6.167296e-14\n",
       "75%      7.141854e-14\n",
       "max      8.512149e-14\n",
       "Name: k_o3_oh, dtype: float64"
      ]
     },
     "execution_count": 4,
     "metadata": {},
     "output_type": "execute_result"
    }
   ],
   "source": [
    "rest['k_o3_oh'].describe()"
   ]
  },
  {
   "cell_type": "code",
   "execution_count": 5,
   "metadata": {},
   "outputs": [
    {
     "data": {
      "text/plain": [
       "count    9.720000e+05\n",
       "mean     1.759353e-15\n",
       "std      2.646843e-16\n",
       "min      9.950170e-16\n",
       "25%      1.607599e-15\n",
       "50%      1.805485e-15\n",
       "75%      1.992593e-15\n",
       "max      2.271330e-15\n",
       "Name: k_o3_ho2, dtype: float64"
      ]
     },
     "execution_count": 5,
     "metadata": {},
     "output_type": "execute_result"
    }
   ],
   "source": [
    "rest['k_o3_ho2'].describe()"
   ]
  },
  {
   "cell_type": "code",
   "execution_count": 6,
   "metadata": {},
   "outputs": [
    {
     "data": {
      "text/plain": [
       "count    9.720000e+05\n",
       "mean     2.026049e-10\n",
       "std      3.926133e-12\n",
       "min      1.973297e-10\n",
       "25%      1.995529e-10\n",
       "50%      2.014304e-10\n",
       "75%      2.039245e-10\n",
       "max      2.214346e-10\n",
       "Name: k_o1d_h2o, dtype: float64"
      ]
     },
     "execution_count": 6,
     "metadata": {},
     "output_type": "execute_result"
    }
   ],
   "source": [
    "rest['k_o1d_h2o'].describe()"
   ]
  },
  {
   "cell_type": "code",
   "execution_count": 7,
   "metadata": {},
   "outputs": [
    {
     "data": {
      "text/plain": [
       "count    9.720000e+05\n",
       "mean     8.808589e-12\n",
       "std      8.049641e-13\n",
       "min      7.798945e-12\n",
       "25%      8.202217e-12\n",
       "50%      8.555249e-12\n",
       "75%      9.042365e-12\n",
       "max      1.310009e-11\n",
       "Name: k_no_ho2, dtype: float64"
      ]
     },
     "execution_count": 7,
     "metadata": {},
     "output_type": "execute_result"
    }
   ],
   "source": [
    "rest['k_no_ho2'].describe()"
   ]
  },
  {
   "cell_type": "code",
   "execution_count": 8,
   "metadata": {},
   "outputs": [
    {
     "data": {
      "text/plain": [
       "count    9.720000e+05\n",
       "mean     8.531658e-12\n",
       "std      1.061141e-12\n",
       "min      7.240309e-12\n",
       "25%      7.743743e-12\n",
       "50%      8.191300e-12\n",
       "75%      8.818986e-12\n",
       "max      1.445689e-11\n",
       "Name: k_no_ch3o2, dtype: float64"
      ]
     },
     "execution_count": 8,
     "metadata": {},
     "output_type": "execute_result"
    }
   ],
   "source": [
    "rest['k_no_ch3o2'].describe()"
   ]
  },
  {
   "cell_type": "markdown",
   "metadata": {},
   "source": [
    "### Part 1: HO${_2}$ + NO → NO${_2}$ + OH"
   ]
  },
  {
   "cell_type": "code",
   "execution_count": 9,
   "metadata": {},
   "outputs": [
    {
     "data": {
      "text/plain": [
       "92.2255611587344"
      ]
     },
     "execution_count": 9,
     "metadata": {},
     "output_type": "execute_result"
    }
   ],
   "source": [
    "rest['ho2_mole'].mean()/rest['oh_mole'].mean()"
   ]
  },
  {
   "cell_type": "code",
   "execution_count": 10,
   "metadata": {},
   "outputs": [
    {
     "data": {
      "text/plain": [
       "0.5886448126996894"
      ]
     },
     "execution_count": 10,
     "metadata": {},
     "output_type": "execute_result"
    }
   ],
   "source": [
    "rest['Pt_HO2_NO'] = rest['k_no_ho2']*rest['ho2_mole']*rest['no_mole']\n",
    "rest['Pr_HO2_NO'] = rest['Pt_HO2_NO']/rest['o3prod_mole']\n",
    "rest['Pr_HO2_NO'].mean()"
   ]
  },
  {
   "cell_type": "markdown",
   "metadata": {},
   "source": [
    "### Part 2: CH${_3}$O${_2}$ + NO → NO${_2}$ + HCHO"
   ]
  },
  {
   "cell_type": "code",
   "execution_count": 11,
   "metadata": {},
   "outputs": [
    {
     "data": {
      "text/plain": [
       "2.58034759806757"
      ]
     },
     "execution_count": 11,
     "metadata": {},
     "output_type": "execute_result"
    }
   ],
   "source": [
    "rest['ho2_mole'].mean()/rest['ch3o2_mole'].mean()"
   ]
  },
  {
   "cell_type": "code",
   "execution_count": 12,
   "metadata": {},
   "outputs": [
    {
     "data": {
      "text/plain": [
       "0.23441668494731155"
      ]
     },
     "execution_count": 12,
     "metadata": {},
     "output_type": "execute_result"
    }
   ],
   "source": [
    "rest['Pt_CH3O2_NO'] = rest['k_no_ch3o2']*rest['ch3o2_mole']*rest['no_mole']\n",
    "rest['Pr_CH3O2_NO'] = rest['Pt_CH3O2_NO']/rest['o3prod_mole']\n",
    "rest['Pr_CH3O2_NO'].mean()"
   ]
  },
  {
   "cell_type": "markdown",
   "metadata": {},
   "source": [
    "### Part 3: RO${_2}$ + NO → NO${_2}$ + RO"
   ]
  },
  {
   "cell_type": "code",
   "execution_count": 13,
   "metadata": {},
   "outputs": [
    {
     "data": {
      "text/plain": [
       "0.17693850235298536"
      ]
     },
     "execution_count": 13,
     "metadata": {},
     "output_type": "execute_result"
    }
   ],
   "source": [
    "rest['Pt_RO2_NO'] = rest['o3prod_mole'] - rest['Pt_HO2_NO'] - rest['Pt_CH3O2_NO']\n",
    "rest['Pr_RO2_NO'] = rest['Pt_RO2_NO']/rest['o3prod_mole']\n",
    "rest['Pr_RO2_NO'].mean()"
   ]
  },
  {
   "cell_type": "markdown",
   "metadata": {},
   "source": [
    "### Part 4: O(${^1}$D) + H${_2}$O → 2OH"
   ]
  },
  {
   "cell_type": "code",
   "execution_count": 14,
   "metadata": {},
   "outputs": [
    {
     "data": {
      "text/plain": [
       "0.4601142947101571"
      ]
     },
     "execution_count": 14,
     "metadata": {},
     "output_type": "execute_result"
    }
   ],
   "source": [
    "rest['Pt_O1D_H2O'] = rest['k_o1d_h2o']*rest['o1d_mole']*rest['h2o_mole']\n",
    "rest['Pr_O1D_H2O'] = rest['Pt_O1D_H2O']/rest['o3loss_mole']\n",
    "rest['Pr_O1D_H2O'].median()"
   ]
  },
  {
   "cell_type": "markdown",
   "metadata": {},
   "source": [
    "### Part 5: O${_3}$ + OH → HO${_2}$ + O${_2}$"
   ]
  },
  {
   "cell_type": "code",
   "execution_count": 15,
   "metadata": {},
   "outputs": [
    {
     "data": {
      "text/plain": [
       "0.09188843214102405"
      ]
     },
     "execution_count": 15,
     "metadata": {},
     "output_type": "execute_result"
    }
   ],
   "source": [
    "rest['Pt_O3_OH'] = rest['k_o3_oh']*rest['o3_mole']*rest['oh_mole']\n",
    "rest['Pr_O3_OH'] = rest['Pt_O3_OH']/rest['o3loss_mole']\n",
    "rest['Pr_O3_OH'].median()"
   ]
  },
  {
   "cell_type": "markdown",
   "metadata": {},
   "source": [
    "### Part 6: O${_3}$ + HO${_2}$ → OH + 2O${_2}$"
   ]
  },
  {
   "cell_type": "code",
   "execution_count": 16,
   "metadata": {},
   "outputs": [
    {
     "data": {
      "text/plain": [
       "0.3753485010112988"
      ]
     },
     "execution_count": 16,
     "metadata": {},
     "output_type": "execute_result"
    }
   ],
   "source": [
    "rest['Pt_O3_HO2'] = rest['k_o3_ho2']*rest['o3_mole']*rest['ho2_mole']\n",
    "rest['Pr_O3_HO2'] = rest['Pt_O3_HO2']/rest['o3loss_mole']\n",
    "rest['Pr_O3_HO2'].median()"
   ]
  },
  {
   "cell_type": "markdown",
   "metadata": {},
   "source": [
    "### Part 7: O${_3}$ + alkenes"
   ]
  },
  {
   "cell_type": "code",
   "execution_count": 17,
   "metadata": {},
   "outputs": [
    {
     "data": {
      "text/plain": [
       "0.03528174374365866"
      ]
     },
     "execution_count": 17,
     "metadata": {},
     "output_type": "execute_result"
    }
   ],
   "source": [
    "rest['Pt_O3_alkenes'] = rest['o3loss_mole'] - rest['Pt_O1D_H2O'] - rest['Pt_O3_OH'] - rest['Pt_O3_HO2']\n",
    "rest['Pr_O3_alkenes'] = rest['Pt_O3_alkenes']/rest['o3loss_mole']\n",
    "rest['Pr_O3_alkenes'].median()"
   ]
  },
  {
   "cell_type": "code",
   "execution_count": 21,
   "metadata": {},
   "outputs": [
    {
     "data": {
      "text/plain": [
       "count    9.720000e+05\n",
       "mean     3.776930e+07\n",
       "std      2.914227e+07\n",
       "min      6.732641e+04\n",
       "25%      1.380999e+07\n",
       "50%      3.009407e+07\n",
       "75%      6.211785e+07\n",
       "max      1.095777e+08\n",
       "Name: test, dtype: float64"
      ]
     },
     "execution_count": 21,
     "metadata": {},
     "output_type": "execute_result"
    }
   ],
   "source": [
    "rest['test'] = rest['k_o1d_h2o']*rest['h2o_mole']\n",
    "rest['test'].describe()"
   ]
  },
  {
   "cell_type": "code",
   "execution_count": null,
   "metadata": {},
   "outputs": [],
   "source": []
  }
 ],
 "metadata": {
  "kernelspec": {
   "display_name": "Python 3",
   "language": "python",
   "name": "python3"
  },
  "language_info": {
   "codemirror_mode": {
    "name": "ipython",
    "version": 3
   },
   "file_extension": ".py",
   "mimetype": "text/x-python",
   "name": "python",
   "nbconvert_exporter": "python",
   "pygments_lexer": "ipython3",
   "version": "3.8.5"
  }
 },
 "nbformat": 4,
 "nbformat_minor": 4
}
