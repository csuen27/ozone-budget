{
 "cells": [
  {
   "cell_type": "code",
   "execution_count": 1,
   "metadata": {},
   "outputs": [],
   "source": [
    "import warnings\n",
    "warnings.filterwarnings(\"ignore\")\n",
    "\n",
    "import pandas as pd\n",
    "import numpy as np\n",
    "import matplotlib as mpl\n",
    "import matplotlib.pyplot as plt\n",
    "\n",
    "from sklearn.metrics import r2_score as R2\n",
    "from sklearn.metrics import mean_squared_error as MSE"
   ]
  },
  {
   "cell_type": "code",
   "execution_count": 2,
   "metadata": {},
   "outputs": [],
   "source": [
    "data = pd.read_csv('/Volumes/Database/Research/C7 Multivariate analysis/UKESM1-0-LL_diag_2014(0318).csv')"
   ]
  },
  {
   "cell_type": "code",
   "execution_count": 3,
   "metadata": {},
   "outputs": [],
   "source": [
    "country = pd.read_csv('/Users/csuen/Desktop/PhD/Maps/country_province_state_2*2.csv')\n",
    "data = data.merge(country, how = 'left', left_on = ['longitude','latitude'], right_on = ['longitude','latitude'])\n",
    "data = data.drop(['province','state'], axis=1)"
   ]
  },
  {
   "cell_type": "markdown",
   "metadata": {},
   "source": [
    "### First, converse the concentrations in ppb to molecules cm${^{-3}}$"
   ]
  },
  {
   "cell_type": "code",
   "execution_count": 4,
   "metadata": {},
   "outputs": [],
   "source": [
    "data['o3_mole'] = data['o3']*1.01325*10**5/data['tas']*7.243*10**7*(10**9)\n",
    "data['no_mole'] = data['no']*1.01325*10**5/data['tas']*7.243*10**7*(10**9)\n",
    "data['no2_mole'] = data['no2']*1.01325*10**5/data['tas']*7.243*10**7*(10**9)\n",
    "data['oh_mole'] = data['oh']*1.01325*10**5/data['tas']*7.243*10**7*(10**9)\n",
    "data['h2o_mole'] = data['h2o']*1.01325*10**5/data['tas']*7.243*10**7/18.0*28.8\n",
    "data['hno3_mole'] = data['hno3']*1.01325*10**5/data['tas']*7.243*10**7*(10**9)\n",
    "data['pan_mole'] = data['pan']*1.01325*10**5/data['tas']*7.243*10**7*(10**9)\n",
    "\n",
    "data['k_ho2_ho2'] = 3.0*10**(-13)*np.exp(460/data['tas'])\n",
    "#data['k_oh_no2'] = 1.8*10**(-30)*(300/data['tas'])**3.0\n",
    "data['k_oh_no2'] = 1.03*10**(-11)\n",
    "data['k_o1d_h2o'] = 2.14*10**(-10)\n",
    "\n",
    "data['o3prod_mole'] = data['o3prod']*6.022*10**17\n",
    "data['o3loss_mole'] = data['o3loss']*6.022*10**17\n",
    "\n",
    "data['lossch4_mole'] = data['lossch4']*6.022*10**17\n",
    "data['lossco_mole'] = data['lossco']*6.022*10**17\n",
    "data['k_ch3o2_ch3o2'] = 1.03*10**(-13)*np.exp(365/data['tas'])\n",
    "#data['k_oh_oh'] = 6.2*10**(-14)*(data['tas']/298)**2.6*np.exp(945/data['tas'])+3.9*10**(-11)*(data['tas']/300)**(-0.47)\n",
    "#data['k_oh_oh'] = 3.9*10**(-11)*(data['tas']/300)**(-0.47)\n",
    "data['k_oh_oh'] = 6.31*10**(-14)*(data['tas']/300)**(2.6)*np.exp(945/data['tas'])\n",
    "data['k_oh_ho2'] = 4.81*10**(-11)*np.exp(250/data['tas'])\n",
    "data['k_oh_no'] = 3.3*10**(-11)*(data['tas']/300)**(-0.3)"
   ]
  },
  {
   "cell_type": "code",
   "execution_count": 5,
   "metadata": {},
   "outputs": [
    {
     "data": {
      "text/plain": [
       "1.0300000000023207e-11"
      ]
     },
     "execution_count": 5,
     "metadata": {},
     "output_type": "execute_result"
    }
   ],
   "source": [
    "data['k_oh_no2'].mean()"
   ]
  },
  {
   "cell_type": "code",
   "execution_count": 6,
   "metadata": {},
   "outputs": [
    {
     "data": {
      "text/plain": [
       "1.5793465975108942e-12"
      ]
     },
     "execution_count": 6,
     "metadata": {},
     "output_type": "execute_result"
    }
   ],
   "source": [
    "data['k_oh_oh'].mean()"
   ]
  },
  {
   "cell_type": "code",
   "execution_count": 7,
   "metadata": {},
   "outputs": [
    {
     "data": {
      "text/plain": [
       "641872.892380143"
      ]
     },
     "execution_count": 7,
     "metadata": {},
     "output_type": "execute_result"
    }
   ],
   "source": [
    "data['o3loss_mole'].mean()"
   ]
  },
  {
   "cell_type": "code",
   "execution_count": 8,
   "metadata": {},
   "outputs": [
    {
     "data": {
      "text/plain": [
       "count    972000.000000\n",
       "mean          0.313828\n",
       "std           1.206405\n",
       "min           0.000054\n",
       "25%           0.051252\n",
       "50%           0.099791\n",
       "75%           0.155485\n",
       "max         116.562028\n",
       "Name: P4_frac, dtype: float64"
      ]
     },
     "execution_count": 8,
     "metadata": {},
     "output_type": "execute_result"
    }
   ],
   "source": [
    "data['P4'] = (data['lossco_mole']\n",
    "              +data['k_o3_oh']*data['o3_mole']*data['oh_mole']\n",
    "              +data['k_oh_no2']*data['no2_mole']*data['oh_mole']\n",
    "              +2*data['k_oh_oh']*data['oh_mole']**2\n",
    "              +data['k_oh_ho2']*data['ho2_mole']*data['oh_mole']\n",
    "              -data['k_o3_ho2']*data['o3_mole']*data['ho2_mole']\n",
    "              -data['k_no_ho2']*data['no_mole']*data['ho2_mole']\n",
    "             )/2\n",
    "data['P4_frac'] = data['P4']/data['o3loss_mole']\n",
    "data['P4_frac'].describe()"
   ]
  },
  {
   "cell_type": "code",
   "execution_count": 9,
   "metadata": {},
   "outputs": [
    {
     "data": {
      "text/plain": [
       "count    972000.000000\n",
       "mean          0.454733\n",
       "std           0.253369\n",
       "min           0.000000\n",
       "25%           0.270440\n",
       "50%           0.467505\n",
       "75%           0.658458\n",
       "max           3.664274\n",
       "Name: P4_frac, dtype: float64"
      ]
     },
     "execution_count": 9,
     "metadata": {},
     "output_type": "execute_result"
    }
   ],
   "source": [
    "data['P4'] = data['o3_mole']*data['photo1d']*data['k_o1d_h2o']*data['h2o_mole']\n",
    "data['P4_frac'] = data['P4']/data['o3loss_mole']\n",
    "data['P4_frac'].describe()"
   ]
  },
  {
   "cell_type": "code",
   "execution_count": 10,
   "metadata": {},
   "outputs": [
    {
     "data": {
      "image/png": "[encoded data removed]",
      "text/plain": [
       "<Figure size 432x288 with 2 Axes>"
      ]
     },
     "metadata": {
      "needs_background": "light"
     },
     "output_type": "display_data"
    }
   ],
   "source": [
    "data['loc'] = data['longitude']*1000 + data['latitude']\n",
    "data_land = data\n",
    "data_mean = data_land.groupby(['loc']).mean()\n",
    "\n",
    "cm = plt.cm.get_cmap('Blues')\n",
    "x = data_mean['longitude']\n",
    "y = data_mean['latitude']\n",
    "z = data_mean['P4_frac']\n",
    "sc = plt.scatter(x, y, c=z, marker=\"s\", vmin=0, vmax=0.5, s=3, cmap=cm)\n",
    "plt.xlim([-180, 180])\n",
    "plt.ylim([-90, 90])\n",
    "plt.colorbar(sc)\n",
    "plt.show()"
   ]
  },
  {
   "cell_type": "code",
   "execution_count": 11,
   "metadata": {},
   "outputs": [],
   "source": [
    "data['P5'] = data['k_o3_oh']*data['o3_mole']*data['oh_mole']\n",
    "data['P5_frac'] = data['P5']/data['o3loss_mole']"
   ]
  },
  {
   "cell_type": "code",
   "execution_count": 12,
   "metadata": {},
   "outputs": [],
   "source": [
    "data['P6'] = data['k_o3_ho2']*data['o3_mole']*data['ho2_mole']\n",
    "data['P6_frac'] = data['P6']/data['o3loss_mole']"
   ]
  },
  {
   "cell_type": "code",
   "execution_count": 13,
   "metadata": {},
   "outputs": [
    {
     "data": {
      "text/plain": [
       "count    972000.000000\n",
       "mean          0.065344\n",
       "std           0.285728\n",
       "min          -3.049049\n",
       "25%          -0.151698\n",
       "50%           0.000953\n",
       "75%           0.266371\n",
       "max           0.997991\n",
       "Name: P7_frac, dtype: float64"
      ]
     },
     "execution_count": 13,
     "metadata": {},
     "output_type": "execute_result"
    }
   ],
   "source": [
    "data['P7'] = data['o3loss_mole'] - data['P4'] - data['P5'] - data['P6']\n",
    "data['P7_frac'] = data['P7']/data['o3loss_mole']\n",
    "data['P7_frac'].describe()"
   ]
  },
  {
   "cell_type": "code",
   "execution_count": 14,
   "metadata": {},
   "outputs": [
    {
     "data": {
      "text/plain": [
       "count    972000.000000\n",
       "mean          1.632995\n",
       "std           2.033382\n",
       "min           0.002828\n",
       "25%           0.531764\n",
       "50%           1.068481\n",
       "75%           2.142160\n",
       "max         134.400362\n",
       "Name: ratio_P1_P2, dtype: float64"
      ]
     },
     "execution_count": 14,
     "metadata": {},
     "output_type": "execute_result"
    }
   ],
   "source": [
    "data['ratio_P1_P2'] = data['P1']/data['P2']\n",
    "data['ratio_P1_P2'].describe()"
   ]
  },
  {
   "cell_type": "code",
   "execution_count": 15,
   "metadata": {},
   "outputs": [
    {
     "data": {
      "text/plain": [
       "count    972000.000000\n",
       "mean          2.574864\n",
       "std          15.660226\n",
       "min           0.008336\n",
       "25%           0.158606\n",
       "50%           0.265355\n",
       "75%           0.661963\n",
       "max        1340.643521\n",
       "Name: ratio_P5_P6, dtype: float64"
      ]
     },
     "execution_count": 15,
     "metadata": {},
     "output_type": "execute_result"
    }
   ],
   "source": [
    "data['ratio_P5_P6'] = data['P5']/data['P6']\n",
    "data['ratio_P5_P6'].describe()"
   ]
  },
  {
   "cell_type": "code",
   "execution_count": 16,
   "metadata": {},
   "outputs": [],
   "source": [
    "data = data.rename(columns={'country_x':'country'})"
   ]
  },
  {
   "cell_type": "code",
   "execution_count": 17,
   "metadata": {},
   "outputs": [],
   "source": [
    "data.to_csv('/Volumes/Database/Research/C7 Multivariate analysis/UKESM1-0-LL_diag_2014(0319).csv', index = False)"
   ]
  },
  {
   "cell_type": "code",
   "execution_count": 18,
   "metadata": {},
   "outputs": [],
   "source": [
    "data_land = data.dropna()\n",
    "ratio_P1_P2 = data_land['ratio_P1_P2'].median()\n",
    "ratio_P5_P6 = data_land['ratio_P5_P6'].median()\n",
    "P1_frac = data_land['P1_frac'].mean()\n",
    "P2_frac = data_land['P2_frac'].mean()\n",
    "P3_frac = data_land['P3_frac'].mean()\n",
    "P4_frac = data_land['P4_frac'].mean()\n",
    "P5_frac = data_land['P5_frac'].mean()\n",
    "P6_frac = data_land['P6_frac'].mean()\n",
    "P7_frac = data_land['P7_frac'].mean()\n",
    "ratio_ho2_oh = data_land['ratio_ho2_oh'].median()\n",
    "ratio_ch3o2_oh = data_land['ratio_ch3o2_oh'].median()"
   ]
  },
  {
   "cell_type": "code",
   "execution_count": 19,
   "metadata": {},
   "outputs": [
    {
     "name": "stdout",
     "output_type": "stream",
     "text": [
      "P1 fraction:    0.33\n",
      "P2 fraction:    0.24\n",
      "P3 fraction:    0.43\n",
      "P4 fraction:    0.34\n",
      "P5 fraction:    0.13\n",
      "P6 fraction:    0.3\n",
      "P7 fraction:    0.23\n",
      "P1:P2 ratio:    2.13\n",
      "P5:P6 ratio:    0.84\n",
      "HO₂:OH ratio:   40.0\n",
      "CH₃O₂:OH ratio: 16.9\n"
     ]
    }
   ],
   "source": [
    "print(\"P1 fraction:    \"+str(np.round(P1_frac,2)))\n",
    "print(\"P2 fraction:    \"+str(np.round(P2_frac,2)))\n",
    "print(\"P3 fraction:    \"+str(np.round(P3_frac,2)))\n",
    "print(\"P4 fraction:    \"+str(np.round(P4_frac,2)))\n",
    "print(\"P5 fraction:    \"+str(np.round(P5_frac,2)))\n",
    "print(\"P6 fraction:    \"+str(np.round(P6_frac,2)))\n",
    "print(\"P7 fraction:    \"+str(np.round(P7_frac,2)))\n",
    "print(\"P1:P2 ratio:    \"+str(np.round(ratio_P1_P2,2)))\n",
    "print(\"P5:P6 ratio:    \"+str(np.round(ratio_P5_P6,2)))\n",
    "print(\"HO\\u2082:OH ratio:   \"+str(np.round(ratio_ho2_oh,1)))\n",
    "print(\"CH\\u2083O\\u2082:OH ratio: \"+str(np.round(ratio_ch3o2_oh,1)))"
   ]
  }
 ],
 "metadata": {
  "kernelspec": {
   "display_name": "Python 3",
   "language": "python",
   "name": "python3"
  },
  "language_info": {
   "codemirror_mode": {
    "name": "ipython",
    "version": 3
   },
   "file_extension": ".py",
   "mimetype": "text/x-python",
   "name": "python",
   "nbconvert_exporter": "python",
   "pygments_lexer": "ipython3",
   "version": "3.8.5"
  }
 },
 "nbformat": 4,
 "nbformat_minor": 4
}
